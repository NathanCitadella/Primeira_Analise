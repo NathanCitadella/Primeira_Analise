{
  "nbformat": 4,
  "nbformat_minor": 0,
  "metadata": {
    "colab": {
      "provenance": [],
      "include_colab_link": true
    },
    "kernelspec": {
      "name": "python3",
      "display_name": "Python 3"
    },
    "language_info": {
      "name": "python"
    }
  },
  "cells": [
    {
      "cell_type": "markdown",
      "metadata": {
        "id": "view-in-github",
        "colab_type": "text"
      },
      "source": [
        "<a href=\"https://colab.research.google.com/github/NathanCitadella/Primeira_Analise/blob/main/Primeira_Analise_Dados.ipynb\" target=\"_parent\"><img src=\"https://colab.research.google.com/assets/colab-badge.svg\" alt=\"Open In Colab\"/></a>"
      ]
    },
    {
      "cell_type": "markdown",
      "source": [
        "# Prática 1 - Dados de uma rede de Supermercados \n"
      ],
      "metadata": {
        "id": "1bWTEgl8LF90"
      }
    },
    {
      "cell_type": "code",
      "source": [],
      "metadata": {
        "id": "H8QX-oBnZo-Y"
      },
      "execution_count": null,
      "outputs": []
    },
    {
      "cell_type": "markdown",
      "source": [
        "#<font color='red'>Crie um texto sobre o contexto dessa base de dados, detalhando cada coluna:</font>\n",
        "### Contexto: Dados de vendas de três filiais com cerca de 1000 linhas, a coluna total significa o rendimento bruto....\n",
        "\n"
      ],
      "metadata": {
        "id": "_w8XzrmzA3w4"
      }
    },
    {
      "cell_type": "markdown",
      "source": [
        "Basicamente cada coluna condiz a um código executado, e cada um deles faz uma organização de todo o conteúdo, resultando em informações de um artigo podendo extrair qualquer gráfico de comparação para facilitar a visualização"
      ],
      "metadata": {
        "id": "cZVZEnRiXR6D"
      }
    },
    {
      "cell_type": "code",
      "execution_count": 1,
      "metadata": {
        "id": "qHkxlLgEKqqy"
      },
      "outputs": [],
      "source": [
        "import gdown #gdown é a biblioteca para baixar arquivos do drive"
      ]
    },
    {
      "cell_type": "markdown",
      "source": [
        "### Os dados se encontram nesse link:"
      ],
      "metadata": {
        "id": "qdsBz9_iuPM9"
      }
    },
    {
      "cell_type": "markdown",
      "source": [
        "Dados: https://docs.google.com/spreadsheets/d/1exmP2er4MvJ4yyaop3_yGhCYYmGb7s6A/edit?usp=share_link&ouid=110731142320700311054&rtpof=true&sd=true"
      ],
      "metadata": {
        "id": "-tSRNWnNBdfl"
      }
    },
    {
      "cell_type": "markdown",
      "source": [],
      "metadata": {
        "id": "VKWodOfDZoT-"
      }
    },
    {
      "cell_type": "markdown",
      "source": [
        "#<font color='red'>Por que se utiliza \"!\" antes do comando gdown, para baixar a base?</font>\n"
      ],
      "metadata": {
        "id": "mWNL2xSRDDr7"
      }
    },
    {
      "cell_type": "markdown",
      "source": [
        "Se usa para quando você não está chamando um comando em python e sim direto do sistema operacional"
      ],
      "metadata": {
        "id": "mcZPZH72Wo6z"
      }
    },
    {
      "cell_type": "code",
      "source": [
        "!gdown 1exmP2er4MvJ4yyaop3_yGhCYYmGb7s6A #Apenas o Hash do arquivo "
      ],
      "metadata": {
        "colab": {
          "base_uri": "https://localhost:8080/"
        },
        "id": "j7zmue3pK-sb",
        "outputId": "80b9011f-0afa-4e9e-c2d9-7f9b2e2bb6c3"
      },
      "execution_count": 2,
      "outputs": [
        {
          "output_type": "stream",
          "name": "stdout",
          "text": [
            "Downloading...\n",
            "From: https://drive.google.com/uc?id=1exmP2er4MvJ4yyaop3_yGhCYYmGb7s6A\n",
            "To: /content/SuperMercados.xlsx\n",
            "\r  0% 0.00/97.5k [00:00<?, ?B/s]\r100% 97.5k/97.5k [00:00<00:00, 48.8MB/s]\n"
          ]
        }
      ]
    },
    {
      "cell_type": "markdown",
      "source": [
        "### Foi utilizado a biblioteca gdown para transferir do drive para a IDE Colab"
      ],
      "metadata": {
        "id": "bgCjZVuduVPX"
      }
    },
    {
      "cell_type": "markdown",
      "source": [
        "\n",
        "#<font color='red'>Por que precisamos de bibliotecas no python?</font>\n",
        "#<font color='red'>Coloque o link da documentação dessas bibliotecas para que serve (detalhadamente)</font>\n",
        "\n",
        "\n",
        "##### Exemplo:\n",
        "##### --> Numpy, é ...."
      ],
      "metadata": {
        "id": "mIdGZ9ZEueSC"
      }
    },
    {
      "cell_type": "markdown",
      "source": [
        "Foi usado a biblioteca gdown para fazer a transferência do drive para a IDE colab"
      ],
      "metadata": {
        "id": "bI_I_FAhW_wA"
      }
    },
    {
      "cell_type": "code",
      "source": [
        "# Para facilitar a execução do código, pegando várias coisas pré-montadas"
      ],
      "metadata": {
        "id": "t5khKhjgt_8p"
      },
      "execution_count": 3,
      "outputs": []
    },
    {
      "cell_type": "code",
      "source": [
        "import numpy as np  #Biblioteca responsável por operações matemáticas \n",
        "import pandas as pd # Biblioteca responsável pela manipulação de dados\n",
        "import matplotlib.pyplot as plt # Biblioteca responsável pela visualização de dados\n",
        "import seaborn as sns # Biblioteca de visualização de dados em alto nível \n"
      ],
      "metadata": {
        "id": "5A2z_Cs3LeOj"
      },
      "execution_count": 4,
      "outputs": []
    },
    {
      "cell_type": "code",
      "source": [
        "df = pd.read_excel('SuperMercados.xlsx') #Leitura dos dados para um dataframe (df)"
      ],
      "metadata": {
        "id": "gRyru4piL6-4"
      },
      "execution_count": 5,
      "outputs": []
    },
    {
      "cell_type": "code",
      "source": [
        "df.head() #Mostra apenas as cinco primeiras linhas do dataframe"
      ],
      "metadata": {
        "colab": {
          "base_uri": "https://localhost:8080/",
          "height": 354
        },
        "id": "Mp72QueyMOL6",
        "outputId": "d5372950-e079-4764-c4e3-25ae514bd657"
      },
      "execution_count": 6,
      "outputs": [
        {
          "output_type": "execute_result",
          "data": {
            "text/plain": [
              "   Unnamed: 0 ID da fatura Filial Tipo de Cliente Gênero  \\\n",
              "0           0  750-67-8428      A          Member      F   \n",
              "1           1  226-31-3081      C          Normal      F   \n",
              "2           2  631-41-3108      A          Normal      M   \n",
              "3           3  123-19-1176      A          Member      M   \n",
              "4           4  373-73-7910      A          Normal      M   \n",
              "\n",
              "         Linha de produto  Preço unitário  Quantidade    Total       Data  \\\n",
              "0          Saúde e beleza         1120.35           7  7842.45   1/5/2019   \n",
              "1  Acessórios eletrônicos          229.20           5  1146.00   3/8/2019   \n",
              "2   Casa e estilo de vida          694.95           7  4864.65   3/3/2019   \n",
              "3          Saúde e beleza          873.30           8  6986.40  1/27/2019   \n",
              "4      Esportes e viagens         1294.65           7  9062.55   2/8/2019   \n",
              "\n",
              "      Tempo          Pagamento       COGS  porcentagem de margem bruta  \\\n",
              "0  13:08:00                PIX  4705.4700                   4761904762   \n",
              "1  10:29:00           Dinheiro  1031.4000                   4761904762   \n",
              "2  13:23:00  Cartão de Crédito  3405.2550                   4761904762   \n",
              "3  20:33:00                PIX  4191.8400                   4761904762   \n",
              "4  10:37:00                PIX  6796.9125                   4761904762   \n",
              "\n",
              "   renda bruta  Avaliação  \n",
              "0       261415         91  \n",
              "1          382         96  \n",
              "2       162155         74  \n",
              "3        23288         84  \n",
              "4       302085         53  "
            ],
            "text/html": [
              "\n",
              "  <div id=\"df-3f4d49da-8061-4989-9c1f-b45a0410496a\">\n",
              "    <div class=\"colab-df-container\">\n",
              "      <div>\n",
              "<style scoped>\n",
              "    .dataframe tbody tr th:only-of-type {\n",
              "        vertical-align: middle;\n",
              "    }\n",
              "\n",
              "    .dataframe tbody tr th {\n",
              "        vertical-align: top;\n",
              "    }\n",
              "\n",
              "    .dataframe thead th {\n",
              "        text-align: right;\n",
              "    }\n",
              "</style>\n",
              "<table border=\"1\" class=\"dataframe\">\n",
              "  <thead>\n",
              "    <tr style=\"text-align: right;\">\n",
              "      <th></th>\n",
              "      <th>Unnamed: 0</th>\n",
              "      <th>ID da fatura</th>\n",
              "      <th>Filial</th>\n",
              "      <th>Tipo de Cliente</th>\n",
              "      <th>Gênero</th>\n",
              "      <th>Linha de produto</th>\n",
              "      <th>Preço unitário</th>\n",
              "      <th>Quantidade</th>\n",
              "      <th>Total</th>\n",
              "      <th>Data</th>\n",
              "      <th>Tempo</th>\n",
              "      <th>Pagamento</th>\n",
              "      <th>COGS</th>\n",
              "      <th>porcentagem de margem bruta</th>\n",
              "      <th>renda bruta</th>\n",
              "      <th>Avaliação</th>\n",
              "    </tr>\n",
              "  </thead>\n",
              "  <tbody>\n",
              "    <tr>\n",
              "      <th>0</th>\n",
              "      <td>0</td>\n",
              "      <td>750-67-8428</td>\n",
              "      <td>A</td>\n",
              "      <td>Member</td>\n",
              "      <td>F</td>\n",
              "      <td>Saúde e beleza</td>\n",
              "      <td>1120.35</td>\n",
              "      <td>7</td>\n",
              "      <td>7842.45</td>\n",
              "      <td>1/5/2019</td>\n",
              "      <td>13:08:00</td>\n",
              "      <td>PIX</td>\n",
              "      <td>4705.4700</td>\n",
              "      <td>4761904762</td>\n",
              "      <td>261415</td>\n",
              "      <td>91</td>\n",
              "    </tr>\n",
              "    <tr>\n",
              "      <th>1</th>\n",
              "      <td>1</td>\n",
              "      <td>226-31-3081</td>\n",
              "      <td>C</td>\n",
              "      <td>Normal</td>\n",
              "      <td>F</td>\n",
              "      <td>Acessórios eletrônicos</td>\n",
              "      <td>229.20</td>\n",
              "      <td>5</td>\n",
              "      <td>1146.00</td>\n",
              "      <td>3/8/2019</td>\n",
              "      <td>10:29:00</td>\n",
              "      <td>Dinheiro</td>\n",
              "      <td>1031.4000</td>\n",
              "      <td>4761904762</td>\n",
              "      <td>382</td>\n",
              "      <td>96</td>\n",
              "    </tr>\n",
              "    <tr>\n",
              "      <th>2</th>\n",
              "      <td>2</td>\n",
              "      <td>631-41-3108</td>\n",
              "      <td>A</td>\n",
              "      <td>Normal</td>\n",
              "      <td>M</td>\n",
              "      <td>Casa e estilo de vida</td>\n",
              "      <td>694.95</td>\n",
              "      <td>7</td>\n",
              "      <td>4864.65</td>\n",
              "      <td>3/3/2019</td>\n",
              "      <td>13:23:00</td>\n",
              "      <td>Cartão de Crédito</td>\n",
              "      <td>3405.2550</td>\n",
              "      <td>4761904762</td>\n",
              "      <td>162155</td>\n",
              "      <td>74</td>\n",
              "    </tr>\n",
              "    <tr>\n",
              "      <th>3</th>\n",
              "      <td>3</td>\n",
              "      <td>123-19-1176</td>\n",
              "      <td>A</td>\n",
              "      <td>Member</td>\n",
              "      <td>M</td>\n",
              "      <td>Saúde e beleza</td>\n",
              "      <td>873.30</td>\n",
              "      <td>8</td>\n",
              "      <td>6986.40</td>\n",
              "      <td>1/27/2019</td>\n",
              "      <td>20:33:00</td>\n",
              "      <td>PIX</td>\n",
              "      <td>4191.8400</td>\n",
              "      <td>4761904762</td>\n",
              "      <td>23288</td>\n",
              "      <td>84</td>\n",
              "    </tr>\n",
              "    <tr>\n",
              "      <th>4</th>\n",
              "      <td>4</td>\n",
              "      <td>373-73-7910</td>\n",
              "      <td>A</td>\n",
              "      <td>Normal</td>\n",
              "      <td>M</td>\n",
              "      <td>Esportes e viagens</td>\n",
              "      <td>1294.65</td>\n",
              "      <td>7</td>\n",
              "      <td>9062.55</td>\n",
              "      <td>2/8/2019</td>\n",
              "      <td>10:37:00</td>\n",
              "      <td>PIX</td>\n",
              "      <td>6796.9125</td>\n",
              "      <td>4761904762</td>\n",
              "      <td>302085</td>\n",
              "      <td>53</td>\n",
              "    </tr>\n",
              "  </tbody>\n",
              "</table>\n",
              "</div>\n",
              "      <button class=\"colab-df-convert\" onclick=\"convertToInteractive('df-3f4d49da-8061-4989-9c1f-b45a0410496a')\"\n",
              "              title=\"Convert this dataframe to an interactive table.\"\n",
              "              style=\"display:none;\">\n",
              "        \n",
              "  <svg xmlns=\"http://www.w3.org/2000/svg\" height=\"24px\"viewBox=\"0 0 24 24\"\n",
              "       width=\"24px\">\n",
              "    <path d=\"M0 0h24v24H0V0z\" fill=\"none\"/>\n",
              "    <path d=\"M18.56 5.44l.94 2.06.94-2.06 2.06-.94-2.06-.94-.94-2.06-.94 2.06-2.06.94zm-11 1L8.5 8.5l.94-2.06 2.06-.94-2.06-.94L8.5 2.5l-.94 2.06-2.06.94zm10 10l.94 2.06.94-2.06 2.06-.94-2.06-.94-.94-2.06-.94 2.06-2.06.94z\"/><path d=\"M17.41 7.96l-1.37-1.37c-.4-.4-.92-.59-1.43-.59-.52 0-1.04.2-1.43.59L10.3 9.45l-7.72 7.72c-.78.78-.78 2.05 0 2.83L4 21.41c.39.39.9.59 1.41.59.51 0 1.02-.2 1.41-.59l7.78-7.78 2.81-2.81c.8-.78.8-2.07 0-2.86zM5.41 20L4 18.59l7.72-7.72 1.47 1.35L5.41 20z\"/>\n",
              "  </svg>\n",
              "      </button>\n",
              "      \n",
              "  <style>\n",
              "    .colab-df-container {\n",
              "      display:flex;\n",
              "      flex-wrap:wrap;\n",
              "      gap: 12px;\n",
              "    }\n",
              "\n",
              "    .colab-df-convert {\n",
              "      background-color: #E8F0FE;\n",
              "      border: none;\n",
              "      border-radius: 50%;\n",
              "      cursor: pointer;\n",
              "      display: none;\n",
              "      fill: #1967D2;\n",
              "      height: 32px;\n",
              "      padding: 0 0 0 0;\n",
              "      width: 32px;\n",
              "    }\n",
              "\n",
              "    .colab-df-convert:hover {\n",
              "      background-color: #E2EBFA;\n",
              "      box-shadow: 0px 1px 2px rgba(60, 64, 67, 0.3), 0px 1px 3px 1px rgba(60, 64, 67, 0.15);\n",
              "      fill: #174EA6;\n",
              "    }\n",
              "\n",
              "    [theme=dark] .colab-df-convert {\n",
              "      background-color: #3B4455;\n",
              "      fill: #D2E3FC;\n",
              "    }\n",
              "\n",
              "    [theme=dark] .colab-df-convert:hover {\n",
              "      background-color: #434B5C;\n",
              "      box-shadow: 0px 1px 3px 1px rgba(0, 0, 0, 0.15);\n",
              "      filter: drop-shadow(0px 1px 2px rgba(0, 0, 0, 0.3));\n",
              "      fill: #FFFFFF;\n",
              "    }\n",
              "  </style>\n",
              "\n",
              "      <script>\n",
              "        const buttonEl =\n",
              "          document.querySelector('#df-3f4d49da-8061-4989-9c1f-b45a0410496a button.colab-df-convert');\n",
              "        buttonEl.style.display =\n",
              "          google.colab.kernel.accessAllowed ? 'block' : 'none';\n",
              "\n",
              "        async function convertToInteractive(key) {\n",
              "          const element = document.querySelector('#df-3f4d49da-8061-4989-9c1f-b45a0410496a');\n",
              "          const dataTable =\n",
              "            await google.colab.kernel.invokeFunction('convertToInteractive',\n",
              "                                                     [key], {});\n",
              "          if (!dataTable) return;\n",
              "\n",
              "          const docLinkHtml = 'Like what you see? Visit the ' +\n",
              "            '<a target=\"_blank\" href=https://colab.research.google.com/notebooks/data_table.ipynb>data table notebook</a>'\n",
              "            + ' to learn more about interactive tables.';\n",
              "          element.innerHTML = '';\n",
              "          dataTable['output_type'] = 'display_data';\n",
              "          await google.colab.output.renderOutput(dataTable, element);\n",
              "          const docLink = document.createElement('div');\n",
              "          docLink.innerHTML = docLinkHtml;\n",
              "          element.appendChild(docLink);\n",
              "        }\n",
              "      </script>\n",
              "    </div>\n",
              "  </div>\n",
              "  "
            ]
          },
          "metadata": {},
          "execution_count": 6
        }
      ]
    },
    {
      "cell_type": "markdown",
      "source": [
        "# Etapa: Limpeza e transformação da base de dados"
      ],
      "metadata": {
        "id": "CiVFttSmNA0p"
      }
    },
    {
      "cell_type": "markdown",
      "source": [
        "#<font color='red'>Explique o comando abaixo, de qual biblioteca se trata?</font>"
      ],
      "metadata": {
        "id": "zgyxhF1DEiUy"
      }
    },
    {
      "cell_type": "code",
      "source": [
        "sns.heatmap(df.isnull(),\n",
        "            yticklabels = False,\n",
        "            cbar = False,\n",
        "            cmap = 'gnuplot') #Função do seaborn para visualizar dados que estejam faltando (NaN = Not a Number)"
      ],
      "metadata": {
        "colab": {
          "base_uri": "https://localhost:8080/",
          "height": 652
        },
        "id": "Iak_-2ExMcNS",
        "outputId": "6e05052e-f2d4-45ad-a0b0-e95746963a0b"
      },
      "execution_count": 7,
      "outputs": [
        {
          "output_type": "execute_result",
          "data": {
            "text/plain": [
              "<Axes: >"
            ]
          },
          "metadata": {},
          "execution_count": 7
        },
        {
          "output_type": "display_data",
          "data": {
            "text/plain": [
              "<Figure size 640x480 with 1 Axes>"
            ],
            "image/png": "[encoded data removed]"
          },
          "metadata": {}
        }
      ]
    },
    {
      "cell_type": "code",
      "source": [
        "df #Para verificar os dados"
      ],
      "metadata": {
        "colab": {
          "base_uri": "https://localhost:8080/",
          "height": 658
        },
        "id": "0wZnPaOgNc8J",
        "outputId": "bc898e5f-89cc-402c-c4bf-ec38ba169c97"
      },
      "execution_count": 8,
      "outputs": [
        {
          "output_type": "execute_result",
          "data": {
            "text/plain": [
              "     Unnamed: 0 ID da fatura Filial Tipo de Cliente Gênero  \\\n",
              "0             0  750-67-8428      A          Member      F   \n",
              "1             1  226-31-3081      C          Normal      F   \n",
              "2             2  631-41-3108      A          Normal      M   \n",
              "3             3  123-19-1176      A          Member      M   \n",
              "4             4  373-73-7910      A          Normal      M   \n",
              "..          ...          ...    ...             ...    ...   \n",
              "995         995  233-67-5758      C          Normal      M   \n",
              "996         996  303-96-2227      B          Normal      F   \n",
              "997         997  727-02-1313      A          Member      M   \n",
              "998         998  347-56-2442      A          Normal      M   \n",
              "999         999  849-09-3807      A          Member      F   \n",
              "\n",
              "           Linha de produto  Preço unitário  Quantidade     Total       Data  \\\n",
              "0            Saúde e beleza         1120.35           7   7842.45   1/5/2019   \n",
              "1    Acessórios eletrônicos          229.20           5   1146.00   3/8/2019   \n",
              "2     Casa e estilo de vida          694.95           7   4864.65   3/3/2019   \n",
              "3            Saúde e beleza          873.30           8   6986.40  1/27/2019   \n",
              "4        Esportes e viagens         1294.65           7   9062.55   2/8/2019   \n",
              "..                      ...             ...         ...       ...        ...   \n",
              "995          Saúde e beleza          605.25           1    605.25  1/29/2019   \n",
              "996   Casa e estilo de vida         1460.70          10  14607.00   3/2/2019   \n",
              "997        Comida e bebidas          477.60           1    477.60   2/9/2019   \n",
              "998   Casa e estilo de vida          987.30           1    987.30  2/22/2019   \n",
              "999     Acessórios fashions         1325.10           7   9275.70  2/18/2019   \n",
              "\n",
              "        Tempo          Pagamento        COGS  porcentagem de margem bruta  \\\n",
              "0    13:08:00                PIX   4705.4700                   4761904762   \n",
              "1    10:29:00           Dinheiro   1031.4000                   4761904762   \n",
              "2    13:23:00  Cartão de Crédito   3405.2550                   4761904762   \n",
              "3    20:33:00                PIX   4191.8400                   4761904762   \n",
              "4    10:37:00                PIX   6796.9125                   4761904762   \n",
              "..        ...                ...         ...                          ...   \n",
              "995  13:46:00                PIX    363.1500                   4761904762   \n",
              "996  17:16:00                PIX  10224.9000                   4761904762   \n",
              "997  13:22:00           Dinheiro    405.9600                   4761904762   \n",
              "998  15:33:00           Dinheiro    691.1100                   4761904762   \n",
              "999  13:28:00           Dinheiro   6956.7750                   4761904762   \n",
              "\n",
              "     renda bruta  Avaliação  \n",
              "0         261415         91  \n",
              "1            382         96  \n",
              "2         162155         74  \n",
              "3          23288         84  \n",
              "4         302085         53  \n",
              "..           ...        ...  \n",
              "995        20175         62  \n",
              "996         4869         44  \n",
              "997         1592         77  \n",
              "998         3291         41  \n",
              "999        30919         66  \n",
              "\n",
              "[1000 rows x 16 columns]"
            ],
            "text/html": [
              "\n",
              "  <div id=\"df-bb7d4f08-e707-490a-9b86-873cd1d6e65c\">\n",
              "    <div class=\"colab-df-container\">\n",
              "      <div>\n",
              "<style scoped>\n",
              "    .dataframe tbody tr th:only-of-type {\n",
              "        vertical-align: middle;\n",
              "    }\n",
              "\n",
              "    .dataframe tbody tr th {\n",
              "        vertical-align: top;\n",
              "    }\n",
              "\n",
              "    .dataframe thead th {\n",
              "        text-align: right;\n",
              "    }\n",
              "</style>\n",
              "<table border=\"1\" class=\"dataframe\">\n",
              "  <thead>\n",
              "    <tr style=\"text-align: right;\">\n",
              "      <th></th>\n",
              "      <th>Unnamed: 0</th>\n",
              "      <th>ID da fatura</th>\n",
              "      <th>Filial</th>\n",
              "      <th>Tipo de Cliente</th>\n",
              "      <th>Gênero</th>\n",
              "      <th>Linha de produto</th>\n",
              "      <th>Preço unitário</th>\n",
              "      <th>Quantidade</th>\n",
              "      <th>Total</th>\n",
              "      <th>Data</th>\n",
              "      <th>Tempo</th>\n",
              "      <th>Pagamento</th>\n",
              "      <th>COGS</th>\n",
              "      <th>porcentagem de margem bruta</th>\n",
              "      <th>renda bruta</th>\n",
              "      <th>Avaliação</th>\n",
              "    </tr>\n",
              "  </thead>\n",
              "  <tbody>\n",
              "    <tr>\n",
              "      <th>0</th>\n",
              "      <td>0</td>\n",
              "      <td>750-67-8428</td>\n",
              "      <td>A</td>\n",
              "      <td>Member</td>\n",
              "      <td>F</td>\n",
              "      <td>Saúde e beleza</td>\n",
              "      <td>1120.35</td>\n",
              "      <td>7</td>\n",
              "      <td>7842.45</td>\n",
              "      <td>1/5/2019</td>\n",
              "      <td>13:08:00</td>\n",
              "      <td>PIX</td>\n",
              "      <td>4705.4700</td>\n",
              "      <td>4761904762</td>\n",
              "      <td>261415</td>\n",
              "      <td>91</td>\n",
              "    </tr>\n",
              "    <tr>\n",
              "      <th>1</th>\n",
              "      <td>1</td>\n",
              "      <td>226-31-3081</td>\n",
              "      <td>C</td>\n",
              "      <td>Normal</td>\n",
              "      <td>F</td>\n",
              "      <td>Acessórios eletrônicos</td>\n",
              "      <td>229.20</td>\n",
              "      <td>5</td>\n",
              "      <td>1146.00</td>\n",
              "      <td>3/8/2019</td>\n",
              "      <td>10:29:00</td>\n",
              "      <td>Dinheiro</td>\n",
              "      <td>1031.4000</td>\n",
              "      <td>4761904762</td>\n",
              "      <td>382</td>\n",
              "      <td>96</td>\n",
              "    </tr>\n",
              "    <tr>\n",
              "      <th>2</th>\n",
              "      <td>2</td>\n",
              "      <td>631-41-3108</td>\n",
              "      <td>A</td>\n",
              "      <td>Normal</td>\n",
              "      <td>M</td>\n",
              "      <td>Casa e estilo de vida</td>\n",
              "      <td>694.95</td>\n",
              "      <td>7</td>\n",
              "      <td>4864.65</td>\n",
              "      <td>3/3/2019</td>\n",
              "      <td>13:23:00</td>\n",
              "      <td>Cartão de Crédito</td>\n",
              "      <td>3405.2550</td>\n",
              "      <td>4761904762</td>\n",
              "      <td>162155</td>\n",
              "      <td>74</td>\n",
              "    </tr>\n",
              "    <tr>\n",
              "      <th>3</th>\n",
              "      <td>3</td>\n",
              "      <td>123-19-1176</td>\n",
              "      <td>A</td>\n",
              "      <td>Member</td>\n",
              "      <td>M</td>\n",
              "      <td>Saúde e beleza</td>\n",
              "      <td>873.30</td>\n",
              "      <td>8</td>\n",
              "      <td>6986.40</td>\n",
              "      <td>1/27/2019</td>\n",
              "      <td>20:33:00</td>\n",
              "      <td>PIX</td>\n",
              "      <td>4191.8400</td>\n",
              "      <td>4761904762</td>\n",
              "      <td>23288</td>\n",
              "      <td>84</td>\n",
              "    </tr>\n",
              "    <tr>\n",
              "      <th>4</th>\n",
              "      <td>4</td>\n",
              "      <td>373-73-7910</td>\n",
              "      <td>A</td>\n",
              "      <td>Normal</td>\n",
              "      <td>M</td>\n",
              "      <td>Esportes e viagens</td>\n",
              "      <td>1294.65</td>\n",
              "      <td>7</td>\n",
              "      <td>9062.55</td>\n",
              "      <td>2/8/2019</td>\n",
              "      <td>10:37:00</td>\n",
              "      <td>PIX</td>\n",
              "      <td>6796.9125</td>\n",
              "      <td>4761904762</td>\n",
              "      <td>302085</td>\n",
              "      <td>53</td>\n",
              "    </tr>\n",
              "    <tr>\n",
              "      <th>...</th>\n",
              "      <td>...</td>\n",
              "      <td>...</td>\n",
              "      <td>...</td>\n",
              "      <td>...</td>\n",
              "      <td>...</td>\n",
              "      <td>...</td>\n",
              "      <td>...</td>\n",
              "      <td>...</td>\n",
              "      <td>...</td>\n",
              "      <td>...</td>\n",
              "      <td>...</td>\n",
              "      <td>...</td>\n",
              "      <td>...</td>\n",
              "      <td>...</td>\n",
              "      <td>...</td>\n",
              "      <td>...</td>\n",
              "    </tr>\n",
              "    <tr>\n",
              "      <th>995</th>\n",
              "      <td>995</td>\n",
              "      <td>233-67-5758</td>\n",
              "      <td>C</td>\n",
              "      <td>Normal</td>\n",
              "      <td>M</td>\n",
              "      <td>Saúde e beleza</td>\n",
              "      <td>605.25</td>\n",
              "      <td>1</td>\n",
              "      <td>605.25</td>\n",
              "      <td>1/29/2019</td>\n",
              "      <td>13:46:00</td>\n",
              "      <td>PIX</td>\n",
              "      <td>363.1500</td>\n",
              "      <td>4761904762</td>\n",
              "      <td>20175</td>\n",
              "      <td>62</td>\n",
              "    </tr>\n",
              "    <tr>\n",
              "      <th>996</th>\n",
              "      <td>996</td>\n",
              "      <td>303-96-2227</td>\n",
              "      <td>B</td>\n",
              "      <td>Normal</td>\n",
              "      <td>F</td>\n",
              "      <td>Casa e estilo de vida</td>\n",
              "      <td>1460.70</td>\n",
              "      <td>10</td>\n",
              "      <td>14607.00</td>\n",
              "      <td>3/2/2019</td>\n",
              "      <td>17:16:00</td>\n",
              "      <td>PIX</td>\n",
              "      <td>10224.9000</td>\n",
              "      <td>4761904762</td>\n",
              "      <td>4869</td>\n",
              "      <td>44</td>\n",
              "    </tr>\n",
              "    <tr>\n",
              "      <th>997</th>\n",
              "      <td>997</td>\n",
              "      <td>727-02-1313</td>\n",
              "      <td>A</td>\n",
              "      <td>Member</td>\n",
              "      <td>M</td>\n",
              "      <td>Comida e bebidas</td>\n",
              "      <td>477.60</td>\n",
              "      <td>1</td>\n",
              "      <td>477.60</td>\n",
              "      <td>2/9/2019</td>\n",
              "      <td>13:22:00</td>\n",
              "      <td>Dinheiro</td>\n",
              "      <td>405.9600</td>\n",
              "      <td>4761904762</td>\n",
              "      <td>1592</td>\n",
              "      <td>77</td>\n",
              "    </tr>\n",
              "    <tr>\n",
              "      <th>998</th>\n",
              "      <td>998</td>\n",
              "      <td>347-56-2442</td>\n",
              "      <td>A</td>\n",
              "      <td>Normal</td>\n",
              "      <td>M</td>\n",
              "      <td>Casa e estilo de vida</td>\n",
              "      <td>987.30</td>\n",
              "      <td>1</td>\n",
              "      <td>987.30</td>\n",
              "      <td>2/22/2019</td>\n",
              "      <td>15:33:00</td>\n",
              "      <td>Dinheiro</td>\n",
              "      <td>691.1100</td>\n",
              "      <td>4761904762</td>\n",
              "      <td>3291</td>\n",
              "      <td>41</td>\n",
              "    </tr>\n",
              "    <tr>\n",
              "      <th>999</th>\n",
              "      <td>999</td>\n",
              "      <td>849-09-3807</td>\n",
              "      <td>A</td>\n",
              "      <td>Member</td>\n",
              "      <td>F</td>\n",
              "      <td>Acessórios fashions</td>\n",
              "      <td>1325.10</td>\n",
              "      <td>7</td>\n",
              "      <td>9275.70</td>\n",
              "      <td>2/18/2019</td>\n",
              "      <td>13:28:00</td>\n",
              "      <td>Dinheiro</td>\n",
              "      <td>6956.7750</td>\n",
              "      <td>4761904762</td>\n",
              "      <td>30919</td>\n",
              "      <td>66</td>\n",
              "    </tr>\n",
              "  </tbody>\n",
              "</table>\n",
              "<p>1000 rows × 16 columns</p>\n",
              "</div>\n",
              "      <button class=\"colab-df-convert\" onclick=\"convertToInteractive('df-bb7d4f08-e707-490a-9b86-873cd1d6e65c')\"\n",
              "              title=\"Convert this dataframe to an interactive table.\"\n",
              "              style=\"display:none;\">\n",
              "        \n",
              "  <svg xmlns=\"http://www.w3.org/2000/svg\" height=\"24px\"viewBox=\"0 0 24 24\"\n",
              "       width=\"24px\">\n",
              "    <path d=\"M0 0h24v24H0V0z\" fill=\"none\"/>\n",
              "    <path d=\"M18.56 5.44l.94 2.06.94-2.06 2.06-.94-2.06-.94-.94-2.06-.94 2.06-2.06.94zm-11 1L8.5 8.5l.94-2.06 2.06-.94-2.06-.94L8.5 2.5l-.94 2.06-2.06.94zm10 10l.94 2.06.94-2.06 2.06-.94-2.06-.94-.94-2.06-.94 2.06-2.06.94z\"/><path d=\"M17.41 7.96l-1.37-1.37c-.4-.4-.92-.59-1.43-.59-.52 0-1.04.2-1.43.59L10.3 9.45l-7.72 7.72c-.78.78-.78 2.05 0 2.83L4 21.41c.39.39.9.59 1.41.59.51 0 1.02-.2 1.41-.59l7.78-7.78 2.81-2.81c.8-.78.8-2.07 0-2.86zM5.41 20L4 18.59l7.72-7.72 1.47 1.35L5.41 20z\"/>\n",
              "  </svg>\n",
              "      </button>\n",
              "      \n",
              "  <style>\n",
              "    .colab-df-container {\n",
              "      display:flex;\n",
              "      flex-wrap:wrap;\n",
              "      gap: 12px;\n",
              "    }\n",
              "\n",
              "    .colab-df-convert {\n",
              "      background-color: #E8F0FE;\n",
              "      border: none;\n",
              "      border-radius: 50%;\n",
              "      cursor: pointer;\n",
              "      display: none;\n",
              "      fill: #1967D2;\n",
              "      height: 32px;\n",
              "      padding: 0 0 0 0;\n",
              "      width: 32px;\n",
              "    }\n",
              "\n",
              "    .colab-df-convert:hover {\n",
              "      background-color: #E2EBFA;\n",
              "      box-shadow: 0px 1px 2px rgba(60, 64, 67, 0.3), 0px 1px 3px 1px rgba(60, 64, 67, 0.15);\n",
              "      fill: #174EA6;\n",
              "    }\n",
              "\n",
              "    [theme=dark] .colab-df-convert {\n",
              "      background-color: #3B4455;\n",
              "      fill: #D2E3FC;\n",
              "    }\n",
              "\n",
              "    [theme=dark] .colab-df-convert:hover {\n",
              "      background-color: #434B5C;\n",
              "      box-shadow: 0px 1px 3px 1px rgba(0, 0, 0, 0.15);\n",
              "      filter: drop-shadow(0px 1px 2px rgba(0, 0, 0, 0.3));\n",
              "      fill: #FFFFFF;\n",
              "    }\n",
              "  </style>\n",
              "\n",
              "      <script>\n",
              "        const buttonEl =\n",
              "          document.querySelector('#df-bb7d4f08-e707-490a-9b86-873cd1d6e65c button.colab-df-convert');\n",
              "        buttonEl.style.display =\n",
              "          google.colab.kernel.accessAllowed ? 'block' : 'none';\n",
              "\n",
              "        async function convertToInteractive(key) {\n",
              "          const element = document.querySelector('#df-bb7d4f08-e707-490a-9b86-873cd1d6e65c');\n",
              "          const dataTable =\n",
              "            await google.colab.kernel.invokeFunction('convertToInteractive',\n",
              "                                                     [key], {});\n",
              "          if (!dataTable) return;\n",
              "\n",
              "          const docLinkHtml = 'Like what you see? Visit the ' +\n",
              "            '<a target=\"_blank\" href=https://colab.research.google.com/notebooks/data_table.ipynb>data table notebook</a>'\n",
              "            + ' to learn more about interactive tables.';\n",
              "          element.innerHTML = '';\n",
              "          dataTable['output_type'] = 'display_data';\n",
              "          await google.colab.output.renderOutput(dataTable, element);\n",
              "          const docLink = document.createElement('div');\n",
              "          docLink.innerHTML = docLinkHtml;\n",
              "          element.appendChild(docLink);\n",
              "        }\n",
              "      </script>\n",
              "    </div>\n",
              "  </div>\n",
              "  "
            ]
          },
          "metadata": {},
          "execution_count": 8
        }
      ]
    },
    {
      "cell_type": "markdown",
      "source": [
        "#<font color='red'>O que significa inplace?</font>"
      ],
      "metadata": {
        "id": "XdXIhgcoExqJ"
      }
    },
    {
      "cell_type": "markdown",
      "source": [
        "É um argumento utilizado para diferentes funções."
      ],
      "metadata": {
        "id": "YtwXiD-SVUcR"
      }
    },
    {
      "cell_type": "code",
      "source": [
        "df.drop(columns=['Unnamed: 0'], inplace = True) #Deletando a coluna \"Unnamed: 0\""
      ],
      "metadata": {
        "id": "Jyb-ZgkvOcOD"
      },
      "execution_count": 9,
      "outputs": []
    },
    {
      "cell_type": "code",
      "source": [
        "df"
      ],
      "metadata": {
        "colab": {
          "base_uri": "https://localhost:8080/",
          "height": 658
        },
        "id": "f2jBrx44PrWo",
        "outputId": "dbb93746-f579-46ee-c283-8511c65e4a1f"
      },
      "execution_count": 10,
      "outputs": [
        {
          "output_type": "execute_result",
          "data": {
            "text/plain": [
              "    ID da fatura Filial Tipo de Cliente Gênero        Linha de produto  \\\n",
              "0    750-67-8428      A          Member      F          Saúde e beleza   \n",
              "1    226-31-3081      C          Normal      F  Acessórios eletrônicos   \n",
              "2    631-41-3108      A          Normal      M   Casa e estilo de vida   \n",
              "3    123-19-1176      A          Member      M          Saúde e beleza   \n",
              "4    373-73-7910      A          Normal      M      Esportes e viagens   \n",
              "..           ...    ...             ...    ...                     ...   \n",
              "995  233-67-5758      C          Normal      M          Saúde e beleza   \n",
              "996  303-96-2227      B          Normal      F   Casa e estilo de vida   \n",
              "997  727-02-1313      A          Member      M        Comida e bebidas   \n",
              "998  347-56-2442      A          Normal      M   Casa e estilo de vida   \n",
              "999  849-09-3807      A          Member      F     Acessórios fashions   \n",
              "\n",
              "     Preço unitário  Quantidade     Total       Data     Tempo  \\\n",
              "0           1120.35           7   7842.45   1/5/2019  13:08:00   \n",
              "1            229.20           5   1146.00   3/8/2019  10:29:00   \n",
              "2            694.95           7   4864.65   3/3/2019  13:23:00   \n",
              "3            873.30           8   6986.40  1/27/2019  20:33:00   \n",
              "4           1294.65           7   9062.55   2/8/2019  10:37:00   \n",
              "..              ...         ...       ...        ...       ...   \n",
              "995          605.25           1    605.25  1/29/2019  13:46:00   \n",
              "996         1460.70          10  14607.00   3/2/2019  17:16:00   \n",
              "997          477.60           1    477.60   2/9/2019  13:22:00   \n",
              "998          987.30           1    987.30  2/22/2019  15:33:00   \n",
              "999         1325.10           7   9275.70  2/18/2019  13:28:00   \n",
              "\n",
              "             Pagamento        COGS  porcentagem de margem bruta  renda bruta  \\\n",
              "0                  PIX   4705.4700                   4761904762       261415   \n",
              "1             Dinheiro   1031.4000                   4761904762          382   \n",
              "2    Cartão de Crédito   3405.2550                   4761904762       162155   \n",
              "3                  PIX   4191.8400                   4761904762        23288   \n",
              "4                  PIX   6796.9125                   4761904762       302085   \n",
              "..                 ...         ...                          ...          ...   \n",
              "995                PIX    363.1500                   4761904762        20175   \n",
              "996                PIX  10224.9000                   4761904762         4869   \n",
              "997           Dinheiro    405.9600                   4761904762         1592   \n",
              "998           Dinheiro    691.1100                   4761904762         3291   \n",
              "999           Dinheiro   6956.7750                   4761904762        30919   \n",
              "\n",
              "     Avaliação  \n",
              "0           91  \n",
              "1           96  \n",
              "2           74  \n",
              "3           84  \n",
              "4           53  \n",
              "..         ...  \n",
              "995         62  \n",
              "996         44  \n",
              "997         77  \n",
              "998         41  \n",
              "999         66  \n",
              "\n",
              "[1000 rows x 15 columns]"
            ],
            "text/html": [
              "\n",
              "  <div id=\"df-bdb380dd-c769-47b2-9bbd-3bb34439f443\">\n",
              "    <div class=\"colab-df-container\">\n",
              "      <div>\n",
              "<style scoped>\n",
              "    .dataframe tbody tr th:only-of-type {\n",
              "        vertical-align: middle;\n",
              "    }\n",
              "\n",
              "    .dataframe tbody tr th {\n",
              "        vertical-align: top;\n",
              "    }\n",
              "\n",
              "    .dataframe thead th {\n",
              "        text-align: right;\n",
              "    }\n",
              "</style>\n",
              "<table border=\"1\" class=\"dataframe\">\n",
              "  <thead>\n",
              "    <tr style=\"text-align: right;\">\n",
              "      <th></th>\n",
              "      <th>ID da fatura</th>\n",
              "      <th>Filial</th>\n",
              "      <th>Tipo de Cliente</th>\n",
              "      <th>Gênero</th>\n",
              "      <th>Linha de produto</th>\n",
              "      <th>Preço unitário</th>\n",
              "      <th>Quantidade</th>\n",
              "      <th>Total</th>\n",
              "      <th>Data</th>\n",
              "      <th>Tempo</th>\n",
              "      <th>Pagamento</th>\n",
              "      <th>COGS</th>\n",
              "      <th>porcentagem de margem bruta</th>\n",
              "      <th>renda bruta</th>\n",
              "      <th>Avaliação</th>\n",
              "    </tr>\n",
              "  </thead>\n",
              "  <tbody>\n",
              "    <tr>\n",
              "      <th>0</th>\n",
              "      <td>750-67-8428</td>\n",
              "      <td>A</td>\n",
              "      <td>Member</td>\n",
              "      <td>F</td>\n",
              "      <td>Saúde e beleza</td>\n",
              "      <td>1120.35</td>\n",
              "      <td>7</td>\n",
              "      <td>7842.45</td>\n",
              "      <td>1/5/2019</td>\n",
              "      <td>13:08:00</td>\n",
              "      <td>PIX</td>\n",
              "      <td>4705.4700</td>\n",
              "      <td>4761904762</td>\n",
              "      <td>261415</td>\n",
              "      <td>91</td>\n",
              "    </tr>\n",
              "    <tr>\n",
              "      <th>1</th>\n",
              "      <td>226-31-3081</td>\n",
              "      <td>C</td>\n",
              "      <td>Normal</td>\n",
              "      <td>F</td>\n",
              "      <td>Acessórios eletrônicos</td>\n",
              "      <td>229.20</td>\n",
              "      <td>5</td>\n",
              "      <td>1146.00</td>\n",
              "      <td>3/8/2019</td>\n",
              "      <td>10:29:00</td>\n",
              "      <td>Dinheiro</td>\n",
              "      <td>1031.4000</td>\n",
              "      <td>4761904762</td>\n",
              "      <td>382</td>\n",
              "      <td>96</td>\n",
              "    </tr>\n",
              "    <tr>\n",
              "      <th>2</th>\n",
              "      <td>631-41-3108</td>\n",
              "      <td>A</td>\n",
              "      <td>Normal</td>\n",
              "      <td>M</td>\n",
              "      <td>Casa e estilo de vida</td>\n",
              "      <td>694.95</td>\n",
              "      <td>7</td>\n",
              "      <td>4864.65</td>\n",
              "      <td>3/3/2019</td>\n",
              "      <td>13:23:00</td>\n",
              "      <td>Cartão de Crédito</td>\n",
              "      <td>3405.2550</td>\n",
              "      <td>4761904762</td>\n",
              "      <td>162155</td>\n",
              "      <td>74</td>\n",
              "    </tr>\n",
              "    <tr>\n",
              "      <th>3</th>\n",
              "      <td>123-19-1176</td>\n",
              "      <td>A</td>\n",
              "      <td>Member</td>\n",
              "      <td>M</td>\n",
              "      <td>Saúde e beleza</td>\n",
              "      <td>873.30</td>\n",
              "      <td>8</td>\n",
              "      <td>6986.40</td>\n",
              "      <td>1/27/2019</td>\n",
              "      <td>20:33:00</td>\n",
              "      <td>PIX</td>\n",
              "      <td>4191.8400</td>\n",
              "      <td>4761904762</td>\n",
              "      <td>23288</td>\n",
              "      <td>84</td>\n",
              "    </tr>\n",
              "    <tr>\n",
              "      <th>4</th>\n",
              "      <td>373-73-7910</td>\n",
              "      <td>A</td>\n",
              "      <td>Normal</td>\n",
              "      <td>M</td>\n",
              "      <td>Esportes e viagens</td>\n",
              "      <td>1294.65</td>\n",
              "      <td>7</td>\n",
              "      <td>9062.55</td>\n",
              "      <td>2/8/2019</td>\n",
              "      <td>10:37:00</td>\n",
              "      <td>PIX</td>\n",
              "      <td>6796.9125</td>\n",
              "      <td>4761904762</td>\n",
              "      <td>302085</td>\n",
              "      <td>53</td>\n",
              "    </tr>\n",
              "    <tr>\n",
              "      <th>...</th>\n",
              "      <td>...</td>\n",
              "      <td>...</td>\n",
              "      <td>...</td>\n",
              "      <td>...</td>\n",
              "      <td>...</td>\n",
              "      <td>...</td>\n",
              "      <td>...</td>\n",
              "      <td>...</td>\n",
              "      <td>...</td>\n",
              "      <td>...</td>\n",
              "      <td>...</td>\n",
              "      <td>...</td>\n",
              "      <td>...</td>\n",
              "      <td>...</td>\n",
              "      <td>...</td>\n",
              "    </tr>\n",
              "    <tr>\n",
              "      <th>995</th>\n",
              "      <td>233-67-5758</td>\n",
              "      <td>C</td>\n",
              "      <td>Normal</td>\n",
              "      <td>M</td>\n",
              "      <td>Saúde e beleza</td>\n",
              "      <td>605.25</td>\n",
              "      <td>1</td>\n",
              "      <td>605.25</td>\n",
              "      <td>1/29/2019</td>\n",
              "      <td>13:46:00</td>\n",
              "      <td>PIX</td>\n",
              "      <td>363.1500</td>\n",
              "      <td>4761904762</td>\n",
              "      <td>20175</td>\n",
              "      <td>62</td>\n",
              "    </tr>\n",
              "    <tr>\n",
              "      <th>996</th>\n",
              "      <td>303-96-2227</td>\n",
              "      <td>B</td>\n",
              "      <td>Normal</td>\n",
              "      <td>F</td>\n",
              "      <td>Casa e estilo de vida</td>\n",
              "      <td>1460.70</td>\n",
              "      <td>10</td>\n",
              "      <td>14607.00</td>\n",
              "      <td>3/2/2019</td>\n",
              "      <td>17:16:00</td>\n",
              "      <td>PIX</td>\n",
              "      <td>10224.9000</td>\n",
              "      <td>4761904762</td>\n",
              "      <td>4869</td>\n",
              "      <td>44</td>\n",
              "    </tr>\n",
              "    <tr>\n",
              "      <th>997</th>\n",
              "      <td>727-02-1313</td>\n",
              "      <td>A</td>\n",
              "      <td>Member</td>\n",
              "      <td>M</td>\n",
              "      <td>Comida e bebidas</td>\n",
              "      <td>477.60</td>\n",
              "      <td>1</td>\n",
              "      <td>477.60</td>\n",
              "      <td>2/9/2019</td>\n",
              "      <td>13:22:00</td>\n",
              "      <td>Dinheiro</td>\n",
              "      <td>405.9600</td>\n",
              "      <td>4761904762</td>\n",
              "      <td>1592</td>\n",
              "      <td>77</td>\n",
              "    </tr>\n",
              "    <tr>\n",
              "      <th>998</th>\n",
              "      <td>347-56-2442</td>\n",
              "      <td>A</td>\n",
              "      <td>Normal</td>\n",
              "      <td>M</td>\n",
              "      <td>Casa e estilo de vida</td>\n",
              "      <td>987.30</td>\n",
              "      <td>1</td>\n",
              "      <td>987.30</td>\n",
              "      <td>2/22/2019</td>\n",
              "      <td>15:33:00</td>\n",
              "      <td>Dinheiro</td>\n",
              "      <td>691.1100</td>\n",
              "      <td>4761904762</td>\n",
              "      <td>3291</td>\n",
              "      <td>41</td>\n",
              "    </tr>\n",
              "    <tr>\n",
              "      <th>999</th>\n",
              "      <td>849-09-3807</td>\n",
              "      <td>A</td>\n",
              "      <td>Member</td>\n",
              "      <td>F</td>\n",
              "      <td>Acessórios fashions</td>\n",
              "      <td>1325.10</td>\n",
              "      <td>7</td>\n",
              "      <td>9275.70</td>\n",
              "      <td>2/18/2019</td>\n",
              "      <td>13:28:00</td>\n",
              "      <td>Dinheiro</td>\n",
              "      <td>6956.7750</td>\n",
              "      <td>4761904762</td>\n",
              "      <td>30919</td>\n",
              "      <td>66</td>\n",
              "    </tr>\n",
              "  </tbody>\n",
              "</table>\n",
              "<p>1000 rows × 15 columns</p>\n",
              "</div>\n",
              "      <button class=\"colab-df-convert\" onclick=\"convertToInteractive('df-bdb380dd-c769-47b2-9bbd-3bb34439f443')\"\n",
              "              title=\"Convert this dataframe to an interactive table.\"\n",
              "              style=\"display:none;\">\n",
              "        \n",
              "  <svg xmlns=\"http://www.w3.org/2000/svg\" height=\"24px\"viewBox=\"0 0 24 24\"\n",
              "       width=\"24px\">\n",
              "    <path d=\"M0 0h24v24H0V0z\" fill=\"none\"/>\n",
              "    <path d=\"M18.56 5.44l.94 2.06.94-2.06 2.06-.94-2.06-.94-.94-2.06-.94 2.06-2.06.94zm-11 1L8.5 8.5l.94-2.06 2.06-.94-2.06-.94L8.5 2.5l-.94 2.06-2.06.94zm10 10l.94 2.06.94-2.06 2.06-.94-2.06-.94-.94-2.06-.94 2.06-2.06.94z\"/><path d=\"M17.41 7.96l-1.37-1.37c-.4-.4-.92-.59-1.43-.59-.52 0-1.04.2-1.43.59L10.3 9.45l-7.72 7.72c-.78.78-.78 2.05 0 2.83L4 21.41c.39.39.9.59 1.41.59.51 0 1.02-.2 1.41-.59l7.78-7.78 2.81-2.81c.8-.78.8-2.07 0-2.86zM5.41 20L4 18.59l7.72-7.72 1.47 1.35L5.41 20z\"/>\n",
              "  </svg>\n",
              "      </button>\n",
              "      \n",
              "  <style>\n",
              "    .colab-df-container {\n",
              "      display:flex;\n",
              "      flex-wrap:wrap;\n",
              "      gap: 12px;\n",
              "    }\n",
              "\n",
              "    .colab-df-convert {\n",
              "      background-color: #E8F0FE;\n",
              "      border: none;\n",
              "      border-radius: 50%;\n",
              "      cursor: pointer;\n",
              "      display: none;\n",
              "      fill: #1967D2;\n",
              "      height: 32px;\n",
              "      padding: 0 0 0 0;\n",
              "      width: 32px;\n",
              "    }\n",
              "\n",
              "    .colab-df-convert:hover {\n",
              "      background-color: #E2EBFA;\n",
              "      box-shadow: 0px 1px 2px rgba(60, 64, 67, 0.3), 0px 1px 3px 1px rgba(60, 64, 67, 0.15);\n",
              "      fill: #174EA6;\n",
              "    }\n",
              "\n",
              "    [theme=dark] .colab-df-convert {\n",
              "      background-color: #3B4455;\n",
              "      fill: #D2E3FC;\n",
              "    }\n",
              "\n",
              "    [theme=dark] .colab-df-convert:hover {\n",
              "      background-color: #434B5C;\n",
              "      box-shadow: 0px 1px 3px 1px rgba(0, 0, 0, 0.15);\n",
              "      filter: drop-shadow(0px 1px 2px rgba(0, 0, 0, 0.3));\n",
              "      fill: #FFFFFF;\n",
              "    }\n",
              "  </style>\n",
              "\n",
              "      <script>\n",
              "        const buttonEl =\n",
              "          document.querySelector('#df-bdb380dd-c769-47b2-9bbd-3bb34439f443 button.colab-df-convert');\n",
              "        buttonEl.style.display =\n",
              "          google.colab.kernel.accessAllowed ? 'block' : 'none';\n",
              "\n",
              "        async function convertToInteractive(key) {\n",
              "          const element = document.querySelector('#df-bdb380dd-c769-47b2-9bbd-3bb34439f443');\n",
              "          const dataTable =\n",
              "            await google.colab.kernel.invokeFunction('convertToInteractive',\n",
              "                                                     [key], {});\n",
              "          if (!dataTable) return;\n",
              "\n",
              "          const docLinkHtml = 'Like what you see? Visit the ' +\n",
              "            '<a target=\"_blank\" href=https://colab.research.google.com/notebooks/data_table.ipynb>data table notebook</a>'\n",
              "            + ' to learn more about interactive tables.';\n",
              "          element.innerHTML = '';\n",
              "          dataTable['output_type'] = 'display_data';\n",
              "          await google.colab.output.renderOutput(dataTable, element);\n",
              "          const docLink = document.createElement('div');\n",
              "          docLink.innerHTML = docLinkHtml;\n",
              "          element.appendChild(docLink);\n",
              "        }\n",
              "      </script>\n",
              "    </div>\n",
              "  </div>\n",
              "  "
            ]
          },
          "metadata": {},
          "execution_count": 10
        }
      ]
    },
    {
      "cell_type": "code",
      "source": [
        "df.drop(columns=['porcentagem de margem bruta', 'renda bruta', 'ID da fatura'], inplace = True) #Deletando as colunas que não vão ser usadas"
      ],
      "metadata": {
        "id": "ROIfB9XTP-1-"
      },
      "execution_count": 11,
      "outputs": []
    },
    {
      "cell_type": "code",
      "source": [
        "df.head()"
      ],
      "metadata": {
        "colab": {
          "base_uri": "https://localhost:8080/",
          "height": 206
        },
        "id": "3wBK9Q0iQYAj",
        "outputId": "c61ad973-f6fe-4c86-fe36-22836deb6058"
      },
      "execution_count": 12,
      "outputs": [
        {
          "output_type": "execute_result",
          "data": {
            "text/plain": [
              "  Filial Tipo de Cliente Gênero        Linha de produto  Preço unitário  \\\n",
              "0      A          Member      F          Saúde e beleza         1120.35   \n",
              "1      C          Normal      F  Acessórios eletrônicos          229.20   \n",
              "2      A          Normal      M   Casa e estilo de vida          694.95   \n",
              "3      A          Member      M          Saúde e beleza          873.30   \n",
              "4      A          Normal      M      Esportes e viagens         1294.65   \n",
              "\n",
              "   Quantidade    Total       Data     Tempo          Pagamento       COGS  \\\n",
              "0           7  7842.45   1/5/2019  13:08:00                PIX  4705.4700   \n",
              "1           5  1146.00   3/8/2019  10:29:00           Dinheiro  1031.4000   \n",
              "2           7  4864.65   3/3/2019  13:23:00  Cartão de Crédito  3405.2550   \n",
              "3           8  6986.40  1/27/2019  20:33:00                PIX  4191.8400   \n",
              "4           7  9062.55   2/8/2019  10:37:00                PIX  6796.9125   \n",
              "\n",
              "   Avaliação  \n",
              "0         91  \n",
              "1         96  \n",
              "2         74  \n",
              "3         84  \n",
              "4         53  "
            ],
            "text/html": [
              "\n",
              "  <div id=\"df-fc7d5c83-93ac-4e76-bc41-f5aebfe97358\">\n",
              "    <div class=\"colab-df-container\">\n",
              "      <div>\n",
              "<style scoped>\n",
              "    .dataframe tbody tr th:only-of-type {\n",
              "        vertical-align: middle;\n",
              "    }\n",
              "\n",
              "    .dataframe tbody tr th {\n",
              "        vertical-align: top;\n",
              "    }\n",
              "\n",
              "    .dataframe thead th {\n",
              "        text-align: right;\n",
              "    }\n",
              "</style>\n",
              "<table border=\"1\" class=\"dataframe\">\n",
              "  <thead>\n",
              "    <tr style=\"text-align: right;\">\n",
              "      <th></th>\n",
              "      <th>Filial</th>\n",
              "      <th>Tipo de Cliente</th>\n",
              "      <th>Gênero</th>\n",
              "      <th>Linha de produto</th>\n",
              "      <th>Preço unitário</th>\n",
              "      <th>Quantidade</th>\n",
              "      <th>Total</th>\n",
              "      <th>Data</th>\n",
              "      <th>Tempo</th>\n",
              "      <th>Pagamento</th>\n",
              "      <th>COGS</th>\n",
              "      <th>Avaliação</th>\n",
              "    </tr>\n",
              "  </thead>\n",
              "  <tbody>\n",
              "    <tr>\n",
              "      <th>0</th>\n",
              "      <td>A</td>\n",
              "      <td>Member</td>\n",
              "      <td>F</td>\n",
              "      <td>Saúde e beleza</td>\n",
              "      <td>1120.35</td>\n",
              "      <td>7</td>\n",
              "      <td>7842.45</td>\n",
              "      <td>1/5/2019</td>\n",
              "      <td>13:08:00</td>\n",
              "      <td>PIX</td>\n",
              "      <td>4705.4700</td>\n",
              "      <td>91</td>\n",
              "    </tr>\n",
              "    <tr>\n",
              "      <th>1</th>\n",
              "      <td>C</td>\n",
              "      <td>Normal</td>\n",
              "      <td>F</td>\n",
              "      <td>Acessórios eletrônicos</td>\n",
              "      <td>229.20</td>\n",
              "      <td>5</td>\n",
              "      <td>1146.00</td>\n",
              "      <td>3/8/2019</td>\n",
              "      <td>10:29:00</td>\n",
              "      <td>Dinheiro</td>\n",
              "      <td>1031.4000</td>\n",
              "      <td>96</td>\n",
              "    </tr>\n",
              "    <tr>\n",
              "      <th>2</th>\n",
              "      <td>A</td>\n",
              "      <td>Normal</td>\n",
              "      <td>M</td>\n",
              "      <td>Casa e estilo de vida</td>\n",
              "      <td>694.95</td>\n",
              "      <td>7</td>\n",
              "      <td>4864.65</td>\n",
              "      <td>3/3/2019</td>\n",
              "      <td>13:23:00</td>\n",
              "      <td>Cartão de Crédito</td>\n",
              "      <td>3405.2550</td>\n",
              "      <td>74</td>\n",
              "    </tr>\n",
              "    <tr>\n",
              "      <th>3</th>\n",
              "      <td>A</td>\n",
              "      <td>Member</td>\n",
              "      <td>M</td>\n",
              "      <td>Saúde e beleza</td>\n",
              "      <td>873.30</td>\n",
              "      <td>8</td>\n",
              "      <td>6986.40</td>\n",
              "      <td>1/27/2019</td>\n",
              "      <td>20:33:00</td>\n",
              "      <td>PIX</td>\n",
              "      <td>4191.8400</td>\n",
              "      <td>84</td>\n",
              "    </tr>\n",
              "    <tr>\n",
              "      <th>4</th>\n",
              "      <td>A</td>\n",
              "      <td>Normal</td>\n",
              "      <td>M</td>\n",
              "      <td>Esportes e viagens</td>\n",
              "      <td>1294.65</td>\n",
              "      <td>7</td>\n",
              "      <td>9062.55</td>\n",
              "      <td>2/8/2019</td>\n",
              "      <td>10:37:00</td>\n",
              "      <td>PIX</td>\n",
              "      <td>6796.9125</td>\n",
              "      <td>53</td>\n",
              "    </tr>\n",
              "  </tbody>\n",
              "</table>\n",
              "</div>\n",
              "      <button class=\"colab-df-convert\" onclick=\"convertToInteractive('df-fc7d5c83-93ac-4e76-bc41-f5aebfe97358')\"\n",
              "              title=\"Convert this dataframe to an interactive table.\"\n",
              "              style=\"display:none;\">\n",
              "        \n",
              "  <svg xmlns=\"http://www.w3.org/2000/svg\" height=\"24px\"viewBox=\"0 0 24 24\"\n",
              "       width=\"24px\">\n",
              "    <path d=\"M0 0h24v24H0V0z\" fill=\"none\"/>\n",
              "    <path d=\"M18.56 5.44l.94 2.06.94-2.06 2.06-.94-2.06-.94-.94-2.06-.94 2.06-2.06.94zm-11 1L8.5 8.5l.94-2.06 2.06-.94-2.06-.94L8.5 2.5l-.94 2.06-2.06.94zm10 10l.94 2.06.94-2.06 2.06-.94-2.06-.94-.94-2.06-.94 2.06-2.06.94z\"/><path d=\"M17.41 7.96l-1.37-1.37c-.4-.4-.92-.59-1.43-.59-.52 0-1.04.2-1.43.59L10.3 9.45l-7.72 7.72c-.78.78-.78 2.05 0 2.83L4 21.41c.39.39.9.59 1.41.59.51 0 1.02-.2 1.41-.59l7.78-7.78 2.81-2.81c.8-.78.8-2.07 0-2.86zM5.41 20L4 18.59l7.72-7.72 1.47 1.35L5.41 20z\"/>\n",
              "  </svg>\n",
              "      </button>\n",
              "      \n",
              "  <style>\n",
              "    .colab-df-container {\n",
              "      display:flex;\n",
              "      flex-wrap:wrap;\n",
              "      gap: 12px;\n",
              "    }\n",
              "\n",
              "    .colab-df-convert {\n",
              "      background-color: #E8F0FE;\n",
              "      border: none;\n",
              "      border-radius: 50%;\n",
              "      cursor: pointer;\n",
              "      display: none;\n",
              "      fill: #1967D2;\n",
              "      height: 32px;\n",
              "      padding: 0 0 0 0;\n",
              "      width: 32px;\n",
              "    }\n",
              "\n",
              "    .colab-df-convert:hover {\n",
              "      background-color: #E2EBFA;\n",
              "      box-shadow: 0px 1px 2px rgba(60, 64, 67, 0.3), 0px 1px 3px 1px rgba(60, 64, 67, 0.15);\n",
              "      fill: #174EA6;\n",
              "    }\n",
              "\n",
              "    [theme=dark] .colab-df-convert {\n",
              "      background-color: #3B4455;\n",
              "      fill: #D2E3FC;\n",
              "    }\n",
              "\n",
              "    [theme=dark] .colab-df-convert:hover {\n",
              "      background-color: #434B5C;\n",
              "      box-shadow: 0px 1px 3px 1px rgba(0, 0, 0, 0.15);\n",
              "      filter: drop-shadow(0px 1px 2px rgba(0, 0, 0, 0.3));\n",
              "      fill: #FFFFFF;\n",
              "    }\n",
              "  </style>\n",
              "\n",
              "      <script>\n",
              "        const buttonEl =\n",
              "          document.querySelector('#df-fc7d5c83-93ac-4e76-bc41-f5aebfe97358 button.colab-df-convert');\n",
              "        buttonEl.style.display =\n",
              "          google.colab.kernel.accessAllowed ? 'block' : 'none';\n",
              "\n",
              "        async function convertToInteractive(key) {\n",
              "          const element = document.querySelector('#df-fc7d5c83-93ac-4e76-bc41-f5aebfe97358');\n",
              "          const dataTable =\n",
              "            await google.colab.kernel.invokeFunction('convertToInteractive',\n",
              "                                                     [key], {});\n",
              "          if (!dataTable) return;\n",
              "\n",
              "          const docLinkHtml = 'Like what you see? Visit the ' +\n",
              "            '<a target=\"_blank\" href=https://colab.research.google.com/notebooks/data_table.ipynb>data table notebook</a>'\n",
              "            + ' to learn more about interactive tables.';\n",
              "          element.innerHTML = '';\n",
              "          dataTable['output_type'] = 'display_data';\n",
              "          await google.colab.output.renderOutput(dataTable, element);\n",
              "          const docLink = document.createElement('div');\n",
              "          docLink.innerHTML = docLinkHtml;\n",
              "          element.appendChild(docLink);\n",
              "        }\n",
              "      </script>\n",
              "    </div>\n",
              "  </div>\n",
              "  "
            ]
          },
          "metadata": {},
          "execution_count": 12
        }
      ]
    },
    {
      "cell_type": "code",
      "source": [
        "df.replace({'Tipo de Cliente' : {'Member' : 'Associado'}}, inplace = True) #Trocando o nome Member por Associado, na coluna Tipo de Cliente"
      ],
      "metadata": {
        "id": "djJ715IgReLi"
      },
      "execution_count": 13,
      "outputs": []
    },
    {
      "cell_type": "code",
      "source": [
        "df.head()"
      ],
      "metadata": {
        "colab": {
          "base_uri": "https://localhost:8080/",
          "height": 206
        },
        "id": "8199jmvvSHAV",
        "outputId": "cb5b9b69-7d07-4b14-b92d-20404051c6a3"
      },
      "execution_count": 14,
      "outputs": [
        {
          "output_type": "execute_result",
          "data": {
            "text/plain": [
              "  Filial Tipo de Cliente Gênero        Linha de produto  Preço unitário  \\\n",
              "0      A       Associado      F          Saúde e beleza         1120.35   \n",
              "1      C          Normal      F  Acessórios eletrônicos          229.20   \n",
              "2      A          Normal      M   Casa e estilo de vida          694.95   \n",
              "3      A       Associado      M          Saúde e beleza          873.30   \n",
              "4      A          Normal      M      Esportes e viagens         1294.65   \n",
              "\n",
              "   Quantidade    Total       Data     Tempo          Pagamento       COGS  \\\n",
              "0           7  7842.45   1/5/2019  13:08:00                PIX  4705.4700   \n",
              "1           5  1146.00   3/8/2019  10:29:00           Dinheiro  1031.4000   \n",
              "2           7  4864.65   3/3/2019  13:23:00  Cartão de Crédito  3405.2550   \n",
              "3           8  6986.40  1/27/2019  20:33:00                PIX  4191.8400   \n",
              "4           7  9062.55   2/8/2019  10:37:00                PIX  6796.9125   \n",
              "\n",
              "   Avaliação  \n",
              "0         91  \n",
              "1         96  \n",
              "2         74  \n",
              "3         84  \n",
              "4         53  "
            ],
            "text/html": [
              "\n",
              "  <div id=\"df-478eb91c-bbb4-4b25-9949-cefbedd0e003\">\n",
              "    <div class=\"colab-df-container\">\n",
              "      <div>\n",
              "<style scoped>\n",
              "    .dataframe tbody tr th:only-of-type {\n",
              "        vertical-align: middle;\n",
              "    }\n",
              "\n",
              "    .dataframe tbody tr th {\n",
              "        vertical-align: top;\n",
              "    }\n",
              "\n",
              "    .dataframe thead th {\n",
              "        text-align: right;\n",
              "    }\n",
              "</style>\n",
              "<table border=\"1\" class=\"dataframe\">\n",
              "  <thead>\n",
              "    <tr style=\"text-align: right;\">\n",
              "      <th></th>\n",
              "      <th>Filial</th>\n",
              "      <th>Tipo de Cliente</th>\n",
              "      <th>Gênero</th>\n",
              "      <th>Linha de produto</th>\n",
              "      <th>Preço unitário</th>\n",
              "      <th>Quantidade</th>\n",
              "      <th>Total</th>\n",
              "      <th>Data</th>\n",
              "      <th>Tempo</th>\n",
              "      <th>Pagamento</th>\n",
              "      <th>COGS</th>\n",
              "      <th>Avaliação</th>\n",
              "    </tr>\n",
              "  </thead>\n",
              "  <tbody>\n",
              "    <tr>\n",
              "      <th>0</th>\n",
              "      <td>A</td>\n",
              "      <td>Associado</td>\n",
              "      <td>F</td>\n",
              "      <td>Saúde e beleza</td>\n",
              "      <td>1120.35</td>\n",
              "      <td>7</td>\n",
              "      <td>7842.45</td>\n",
              "      <td>1/5/2019</td>\n",
              "      <td>13:08:00</td>\n",
              "      <td>PIX</td>\n",
              "      <td>4705.4700</td>\n",
              "      <td>91</td>\n",
              "    </tr>\n",
              "    <tr>\n",
              "      <th>1</th>\n",
              "      <td>C</td>\n",
              "      <td>Normal</td>\n",
              "      <td>F</td>\n",
              "      <td>Acessórios eletrônicos</td>\n",
              "      <td>229.20</td>\n",
              "      <td>5</td>\n",
              "      <td>1146.00</td>\n",
              "      <td>3/8/2019</td>\n",
              "      <td>10:29:00</td>\n",
              "      <td>Dinheiro</td>\n",
              "      <td>1031.4000</td>\n",
              "      <td>96</td>\n",
              "    </tr>\n",
              "    <tr>\n",
              "      <th>2</th>\n",
              "      <td>A</td>\n",
              "      <td>Normal</td>\n",
              "      <td>M</td>\n",
              "      <td>Casa e estilo de vida</td>\n",
              "      <td>694.95</td>\n",
              "      <td>7</td>\n",
              "      <td>4864.65</td>\n",
              "      <td>3/3/2019</td>\n",
              "      <td>13:23:00</td>\n",
              "      <td>Cartão de Crédito</td>\n",
              "      <td>3405.2550</td>\n",
              "      <td>74</td>\n",
              "    </tr>\n",
              "    <tr>\n",
              "      <th>3</th>\n",
              "      <td>A</td>\n",
              "      <td>Associado</td>\n",
              "      <td>M</td>\n",
              "      <td>Saúde e beleza</td>\n",
              "      <td>873.30</td>\n",
              "      <td>8</td>\n",
              "      <td>6986.40</td>\n",
              "      <td>1/27/2019</td>\n",
              "      <td>20:33:00</td>\n",
              "      <td>PIX</td>\n",
              "      <td>4191.8400</td>\n",
              "      <td>84</td>\n",
              "    </tr>\n",
              "    <tr>\n",
              "      <th>4</th>\n",
              "      <td>A</td>\n",
              "      <td>Normal</td>\n",
              "      <td>M</td>\n",
              "      <td>Esportes e viagens</td>\n",
              "      <td>1294.65</td>\n",
              "      <td>7</td>\n",
              "      <td>9062.55</td>\n",
              "      <td>2/8/2019</td>\n",
              "      <td>10:37:00</td>\n",
              "      <td>PIX</td>\n",
              "      <td>6796.9125</td>\n",
              "      <td>53</td>\n",
              "    </tr>\n",
              "  </tbody>\n",
              "</table>\n",
              "</div>\n",
              "      <button class=\"colab-df-convert\" onclick=\"convertToInteractive('df-478eb91c-bbb4-4b25-9949-cefbedd0e003')\"\n",
              "              title=\"Convert this dataframe to an interactive table.\"\n",
              "              style=\"display:none;\">\n",
              "        \n",
              "  <svg xmlns=\"http://www.w3.org/2000/svg\" height=\"24px\"viewBox=\"0 0 24 24\"\n",
              "       width=\"24px\">\n",
              "    <path d=\"M0 0h24v24H0V0z\" fill=\"none\"/>\n",
              "    <path d=\"M18.56 5.44l.94 2.06.94-2.06 2.06-.94-2.06-.94-.94-2.06-.94 2.06-2.06.94zm-11 1L8.5 8.5l.94-2.06 2.06-.94-2.06-.94L8.5 2.5l-.94 2.06-2.06.94zm10 10l.94 2.06.94-2.06 2.06-.94-2.06-.94-.94-2.06-.94 2.06-2.06.94z\"/><path d=\"M17.41 7.96l-1.37-1.37c-.4-.4-.92-.59-1.43-.59-.52 0-1.04.2-1.43.59L10.3 9.45l-7.72 7.72c-.78.78-.78 2.05 0 2.83L4 21.41c.39.39.9.59 1.41.59.51 0 1.02-.2 1.41-.59l7.78-7.78 2.81-2.81c.8-.78.8-2.07 0-2.86zM5.41 20L4 18.59l7.72-7.72 1.47 1.35L5.41 20z\"/>\n",
              "  </svg>\n",
              "      </button>\n",
              "      \n",
              "  <style>\n",
              "    .colab-df-container {\n",
              "      display:flex;\n",
              "      flex-wrap:wrap;\n",
              "      gap: 12px;\n",
              "    }\n",
              "\n",
              "    .colab-df-convert {\n",
              "      background-color: #E8F0FE;\n",
              "      border: none;\n",
              "      border-radius: 50%;\n",
              "      cursor: pointer;\n",
              "      display: none;\n",
              "      fill: #1967D2;\n",
              "      height: 32px;\n",
              "      padding: 0 0 0 0;\n",
              "      width: 32px;\n",
              "    }\n",
              "\n",
              "    .colab-df-convert:hover {\n",
              "      background-color: #E2EBFA;\n",
              "      box-shadow: 0px 1px 2px rgba(60, 64, 67, 0.3), 0px 1px 3px 1px rgba(60, 64, 67, 0.15);\n",
              "      fill: #174EA6;\n",
              "    }\n",
              "\n",
              "    [theme=dark] .colab-df-convert {\n",
              "      background-color: #3B4455;\n",
              "      fill: #D2E3FC;\n",
              "    }\n",
              "\n",
              "    [theme=dark] .colab-df-convert:hover {\n",
              "      background-color: #434B5C;\n",
              "      box-shadow: 0px 1px 3px 1px rgba(0, 0, 0, 0.15);\n",
              "      filter: drop-shadow(0px 1px 2px rgba(0, 0, 0, 0.3));\n",
              "      fill: #FFFFFF;\n",
              "    }\n",
              "  </style>\n",
              "\n",
              "      <script>\n",
              "        const buttonEl =\n",
              "          document.querySelector('#df-478eb91c-bbb4-4b25-9949-cefbedd0e003 button.colab-df-convert');\n",
              "        buttonEl.style.display =\n",
              "          google.colab.kernel.accessAllowed ? 'block' : 'none';\n",
              "\n",
              "        async function convertToInteractive(key) {\n",
              "          const element = document.querySelector('#df-478eb91c-bbb4-4b25-9949-cefbedd0e003');\n",
              "          const dataTable =\n",
              "            await google.colab.kernel.invokeFunction('convertToInteractive',\n",
              "                                                     [key], {});\n",
              "          if (!dataTable) return;\n",
              "\n",
              "          const docLinkHtml = 'Like what you see? Visit the ' +\n",
              "            '<a target=\"_blank\" href=https://colab.research.google.com/notebooks/data_table.ipynb>data table notebook</a>'\n",
              "            + ' to learn more about interactive tables.';\n",
              "          element.innerHTML = '';\n",
              "          dataTable['output_type'] = 'display_data';\n",
              "          await google.colab.output.renderOutput(dataTable, element);\n",
              "          const docLink = document.createElement('div');\n",
              "          docLink.innerHTML = docLinkHtml;\n",
              "          element.appendChild(docLink);\n",
              "        }\n",
              "      </script>\n",
              "    </div>\n",
              "  </div>\n",
              "  "
            ]
          },
          "metadata": {},
          "execution_count": 14
        }
      ]
    },
    {
      "cell_type": "code",
      "source": [
        "df.rename(columns={'Tempo':'Horário'}, inplace = True) #Trocando o nome da coluna Tempo por Horário"
      ],
      "metadata": {
        "id": "aiRb7LrjSL-N"
      },
      "execution_count": 15,
      "outputs": []
    },
    {
      "cell_type": "code",
      "source": [
        "df.head()"
      ],
      "metadata": {
        "colab": {
          "base_uri": "https://localhost:8080/",
          "height": 206
        },
        "id": "IBws7Af_T7KC",
        "outputId": "d69b67c3-236d-4953-f223-791a1a3585ee"
      },
      "execution_count": 16,
      "outputs": [
        {
          "output_type": "execute_result",
          "data": {
            "text/plain": [
              "  Filial Tipo de Cliente Gênero        Linha de produto  Preço unitário  \\\n",
              "0      A       Associado      F          Saúde e beleza         1120.35   \n",
              "1      C          Normal      F  Acessórios eletrônicos          229.20   \n",
              "2      A          Normal      M   Casa e estilo de vida          694.95   \n",
              "3      A       Associado      M          Saúde e beleza          873.30   \n",
              "4      A          Normal      M      Esportes e viagens         1294.65   \n",
              "\n",
              "   Quantidade    Total       Data   Horário          Pagamento       COGS  \\\n",
              "0           7  7842.45   1/5/2019  13:08:00                PIX  4705.4700   \n",
              "1           5  1146.00   3/8/2019  10:29:00           Dinheiro  1031.4000   \n",
              "2           7  4864.65   3/3/2019  13:23:00  Cartão de Crédito  3405.2550   \n",
              "3           8  6986.40  1/27/2019  20:33:00                PIX  4191.8400   \n",
              "4           7  9062.55   2/8/2019  10:37:00                PIX  6796.9125   \n",
              "\n",
              "   Avaliação  \n",
              "0         91  \n",
              "1         96  \n",
              "2         74  \n",
              "3         84  \n",
              "4         53  "
            ],
            "text/html": [
              "\n",
              "  <div id=\"df-0e8bb7e9-9757-45e7-8026-77120914542a\">\n",
              "    <div class=\"colab-df-container\">\n",
              "      <div>\n",
              "<style scoped>\n",
              "    .dataframe tbody tr th:only-of-type {\n",
              "        vertical-align: middle;\n",
              "    }\n",
              "\n",
              "    .dataframe tbody tr th {\n",
              "        vertical-align: top;\n",
              "    }\n",
              "\n",
              "    .dataframe thead th {\n",
              "        text-align: right;\n",
              "    }\n",
              "</style>\n",
              "<table border=\"1\" class=\"dataframe\">\n",
              "  <thead>\n",
              "    <tr style=\"text-align: right;\">\n",
              "      <th></th>\n",
              "      <th>Filial</th>\n",
              "      <th>Tipo de Cliente</th>\n",
              "      <th>Gênero</th>\n",
              "      <th>Linha de produto</th>\n",
              "      <th>Preço unitário</th>\n",
              "      <th>Quantidade</th>\n",
              "      <th>Total</th>\n",
              "      <th>Data</th>\n",
              "      <th>Horário</th>\n",
              "      <th>Pagamento</th>\n",
              "      <th>COGS</th>\n",
              "      <th>Avaliação</th>\n",
              "    </tr>\n",
              "  </thead>\n",
              "  <tbody>\n",
              "    <tr>\n",
              "      <th>0</th>\n",
              "      <td>A</td>\n",
              "      <td>Associado</td>\n",
              "      <td>F</td>\n",
              "      <td>Saúde e beleza</td>\n",
              "      <td>1120.35</td>\n",
              "      <td>7</td>\n",
              "      <td>7842.45</td>\n",
              "      <td>1/5/2019</td>\n",
              "      <td>13:08:00</td>\n",
              "      <td>PIX</td>\n",
              "      <td>4705.4700</td>\n",
              "      <td>91</td>\n",
              "    </tr>\n",
              "    <tr>\n",
              "      <th>1</th>\n",
              "      <td>C</td>\n",
              "      <td>Normal</td>\n",
              "      <td>F</td>\n",
              "      <td>Acessórios eletrônicos</td>\n",
              "      <td>229.20</td>\n",
              "      <td>5</td>\n",
              "      <td>1146.00</td>\n",
              "      <td>3/8/2019</td>\n",
              "      <td>10:29:00</td>\n",
              "      <td>Dinheiro</td>\n",
              "      <td>1031.4000</td>\n",
              "      <td>96</td>\n",
              "    </tr>\n",
              "    <tr>\n",
              "      <th>2</th>\n",
              "      <td>A</td>\n",
              "      <td>Normal</td>\n",
              "      <td>M</td>\n",
              "      <td>Casa e estilo de vida</td>\n",
              "      <td>694.95</td>\n",
              "      <td>7</td>\n",
              "      <td>4864.65</td>\n",
              "      <td>3/3/2019</td>\n",
              "      <td>13:23:00</td>\n",
              "      <td>Cartão de Crédito</td>\n",
              "      <td>3405.2550</td>\n",
              "      <td>74</td>\n",
              "    </tr>\n",
              "    <tr>\n",
              "      <th>3</th>\n",
              "      <td>A</td>\n",
              "      <td>Associado</td>\n",
              "      <td>M</td>\n",
              "      <td>Saúde e beleza</td>\n",
              "      <td>873.30</td>\n",
              "      <td>8</td>\n",
              "      <td>6986.40</td>\n",
              "      <td>1/27/2019</td>\n",
              "      <td>20:33:00</td>\n",
              "      <td>PIX</td>\n",
              "      <td>4191.8400</td>\n",
              "      <td>84</td>\n",
              "    </tr>\n",
              "    <tr>\n",
              "      <th>4</th>\n",
              "      <td>A</td>\n",
              "      <td>Normal</td>\n",
              "      <td>M</td>\n",
              "      <td>Esportes e viagens</td>\n",
              "      <td>1294.65</td>\n",
              "      <td>7</td>\n",
              "      <td>9062.55</td>\n",
              "      <td>2/8/2019</td>\n",
              "      <td>10:37:00</td>\n",
              "      <td>PIX</td>\n",
              "      <td>6796.9125</td>\n",
              "      <td>53</td>\n",
              "    </tr>\n",
              "  </tbody>\n",
              "</table>\n",
              "</div>\n",
              "      <button class=\"colab-df-convert\" onclick=\"convertToInteractive('df-0e8bb7e9-9757-45e7-8026-77120914542a')\"\n",
              "              title=\"Convert this dataframe to an interactive table.\"\n",
              "              style=\"display:none;\">\n",
              "        \n",
              "  <svg xmlns=\"http://www.w3.org/2000/svg\" height=\"24px\"viewBox=\"0 0 24 24\"\n",
              "       width=\"24px\">\n",
              "    <path d=\"M0 0h24v24H0V0z\" fill=\"none\"/>\n",
              "    <path d=\"M18.56 5.44l.94 2.06.94-2.06 2.06-.94-2.06-.94-.94-2.06-.94 2.06-2.06.94zm-11 1L8.5 8.5l.94-2.06 2.06-.94-2.06-.94L8.5 2.5l-.94 2.06-2.06.94zm10 10l.94 2.06.94-2.06 2.06-.94-2.06-.94-.94-2.06-.94 2.06-2.06.94z\"/><path d=\"M17.41 7.96l-1.37-1.37c-.4-.4-.92-.59-1.43-.59-.52 0-1.04.2-1.43.59L10.3 9.45l-7.72 7.72c-.78.78-.78 2.05 0 2.83L4 21.41c.39.39.9.59 1.41.59.51 0 1.02-.2 1.41-.59l7.78-7.78 2.81-2.81c.8-.78.8-2.07 0-2.86zM5.41 20L4 18.59l7.72-7.72 1.47 1.35L5.41 20z\"/>\n",
              "  </svg>\n",
              "      </button>\n",
              "      \n",
              "  <style>\n",
              "    .colab-df-container {\n",
              "      display:flex;\n",
              "      flex-wrap:wrap;\n",
              "      gap: 12px;\n",
              "    }\n",
              "\n",
              "    .colab-df-convert {\n",
              "      background-color: #E8F0FE;\n",
              "      border: none;\n",
              "      border-radius: 50%;\n",
              "      cursor: pointer;\n",
              "      display: none;\n",
              "      fill: #1967D2;\n",
              "      height: 32px;\n",
              "      padding: 0 0 0 0;\n",
              "      width: 32px;\n",
              "    }\n",
              "\n",
              "    .colab-df-convert:hover {\n",
              "      background-color: #E2EBFA;\n",
              "      box-shadow: 0px 1px 2px rgba(60, 64, 67, 0.3), 0px 1px 3px 1px rgba(60, 64, 67, 0.15);\n",
              "      fill: #174EA6;\n",
              "    }\n",
              "\n",
              "    [theme=dark] .colab-df-convert {\n",
              "      background-color: #3B4455;\n",
              "      fill: #D2E3FC;\n",
              "    }\n",
              "\n",
              "    [theme=dark] .colab-df-convert:hover {\n",
              "      background-color: #434B5C;\n",
              "      box-shadow: 0px 1px 3px 1px rgba(0, 0, 0, 0.15);\n",
              "      filter: drop-shadow(0px 1px 2px rgba(0, 0, 0, 0.3));\n",
              "      fill: #FFFFFF;\n",
              "    }\n",
              "  </style>\n",
              "\n",
              "      <script>\n",
              "        const buttonEl =\n",
              "          document.querySelector('#df-0e8bb7e9-9757-45e7-8026-77120914542a button.colab-df-convert');\n",
              "        buttonEl.style.display =\n",
              "          google.colab.kernel.accessAllowed ? 'block' : 'none';\n",
              "\n",
              "        async function convertToInteractive(key) {\n",
              "          const element = document.querySelector('#df-0e8bb7e9-9757-45e7-8026-77120914542a');\n",
              "          const dataTable =\n",
              "            await google.colab.kernel.invokeFunction('convertToInteractive',\n",
              "                                                     [key], {});\n",
              "          if (!dataTable) return;\n",
              "\n",
              "          const docLinkHtml = 'Like what you see? Visit the ' +\n",
              "            '<a target=\"_blank\" href=https://colab.research.google.com/notebooks/data_table.ipynb>data table notebook</a>'\n",
              "            + ' to learn more about interactive tables.';\n",
              "          element.innerHTML = '';\n",
              "          dataTable['output_type'] = 'display_data';\n",
              "          await google.colab.output.renderOutput(dataTable, element);\n",
              "          const docLink = document.createElement('div');\n",
              "          docLink.innerHTML = docLinkHtml;\n",
              "          element.appendChild(docLink);\n",
              "        }\n",
              "      </script>\n",
              "    </div>\n",
              "  </div>\n",
              "  "
            ]
          },
          "metadata": {},
          "execution_count": 16
        }
      ]
    },
    {
      "cell_type": "markdown",
      "source": [
        "#<font color='red'>O que significa a função unique()?</font>"
      ],
      "metadata": {
        "id": "0J9PIFcOFNGA"
      }
    },
    {
      "cell_type": "markdown",
      "source": [
        "É uma função do pacote pandas em que retorna um array com valores únicos de uma série ou coluna."
      ],
      "metadata": {
        "id": "oZ8gqYNDY0rm"
      }
    },
    {
      "cell_type": "code",
      "source": [
        "df['Data'].unique() #Verificando na coluna Data quais meses existem nesse caso apenas 1,2,3."
      ],
      "metadata": {
        "colab": {
          "base_uri": "https://localhost:8080/"
        },
        "id": "dWQDFVLtUcq4",
        "outputId": "9ae7c273-1340-4387-b65c-d43e67df375f"
      },
      "execution_count": 17,
      "outputs": [
        {
          "output_type": "execute_result",
          "data": {
            "text/plain": [
              "array(['1/5/2019', '3/8/2019', '3/3/2019', '1/27/2019', '2/8/2019',\n",
              "       '3/25/2019', '2/25/2019', '2/24/2019', '1/10/2019', '2/20/2019',\n",
              "       '2/6/2019', '3/9/2019', '2/12/2019', '2/7/2019', '3/29/2019',\n",
              "       '1/15/2019', '3/11/2019', '1/1/2019', '1/21/2019', '3/5/2019',\n",
              "       '3/15/2019', '2/17/2019', '3/2/2019', '3/22/2019', '3/10/2019',\n",
              "       '1/25/2019', '1/28/2019', '1/7/2019', '3/23/2019', '1/17/2019',\n",
              "       '2/2/2019', '3/4/2019', '3/16/2019', '2/27/2019', '2/10/2019',\n",
              "       '3/19/2019', '2/3/2019', '3/7/2019', '2/28/2019', '3/27/2019',\n",
              "       '1/20/2019', '3/12/2019', '2/15/2019', '3/6/2019', '2/14/2019',\n",
              "       '3/13/2019', '1/24/2019', '1/6/2019', '2/11/2019', '1/22/2019',\n",
              "       '1/13/2019', '1/9/2019', '1/12/2019', '1/26/2019', '1/23/2019',\n",
              "       '2/23/2019', '1/2/2019', '2/9/2019', '3/26/2019', '3/1/2019',\n",
              "       '2/1/2019', '3/28/2019', '3/24/2019', '2/5/2019', '1/19/2019',\n",
              "       '1/16/2019', '1/8/2019', '2/18/2019', '1/18/2019', '2/16/2019',\n",
              "       '2/22/2019', '1/29/2019', '1/4/2019', '3/30/2019', '1/30/2019',\n",
              "       '1/3/2019', '3/21/2019', '2/13/2019', '1/14/2019', '3/18/2019',\n",
              "       '3/20/2019', '2/21/2019', '1/31/2019', '1/11/2019', '2/26/2019',\n",
              "       '3/17/2019', '3/14/2019', '2/4/2019', '2/19/2019'], dtype=object)"
            ]
          },
          "metadata": {},
          "execution_count": 17
        }
      ]
    },
    {
      "cell_type": "code",
      "source": [
        "df['Horário'] #Mostra apenas a coluna Horário"
      ],
      "metadata": {
        "colab": {
          "base_uri": "https://localhost:8080/"
        },
        "id": "SZs2rgneUvf2",
        "outputId": "7872d809-1104-4e49-8005-5fbe388e626c"
      },
      "execution_count": 18,
      "outputs": [
        {
          "output_type": "execute_result",
          "data": {
            "text/plain": [
              "0      13:08:00\n",
              "1      10:29:00\n",
              "2      13:23:00\n",
              "3      20:33:00\n",
              "4      10:37:00\n",
              "         ...   \n",
              "995    13:46:00\n",
              "996    17:16:00\n",
              "997    13:22:00\n",
              "998    15:33:00\n",
              "999    13:28:00\n",
              "Name: Horário, Length: 1000, dtype: object"
            ]
          },
          "metadata": {},
          "execution_count": 18
        }
      ]
    },
    {
      "cell_type": "markdown",
      "source": [
        "#<font color='red'>Por que precisamos converter para datatime64? O que significa isso?</font>"
      ],
      "metadata": {
        "id": "kQBMtjxYFdJR"
      }
    },
    {
      "cell_type": "markdown",
      "source": [
        "a conversão para datetime permite realizar operações matemáticas com as datas, e facilita a manipulação e filtragem dos dados por períodos."
      ],
      "metadata": {
        "id": "xGcrevC3ZVZ2"
      }
    },
    {
      "cell_type": "code",
      "source": [
        "df['Data'] = pd.to_datetime(df['Data']) #Converte objeto para datatime64 (manipular data e hora)"
      ],
      "metadata": {
        "id": "vmd2D08QUznc"
      },
      "execution_count": 19,
      "outputs": []
    },
    {
      "cell_type": "code",
      "source": [
        "df['Data']"
      ],
      "metadata": {
        "colab": {
          "base_uri": "https://localhost:8080/"
        },
        "id": "ca4qYZOfcdlF",
        "outputId": "aa297067-13a9-48a6-fb6e-6ca41296ba99"
      },
      "execution_count": 20,
      "outputs": [
        {
          "output_type": "execute_result",
          "data": {
            "text/plain": [
              "0     2019-01-05\n",
              "1     2019-03-08\n",
              "2     2019-03-03\n",
              "3     2019-01-27\n",
              "4     2019-02-08\n",
              "         ...    \n",
              "995   2019-01-29\n",
              "996   2019-03-02\n",
              "997   2019-02-09\n",
              "998   2019-02-22\n",
              "999   2019-02-18\n",
              "Name: Data, Length: 1000, dtype: datetime64[ns]"
            ]
          },
          "metadata": {},
          "execution_count": 20
        }
      ]
    },
    {
      "cell_type": "code",
      "source": [
        "df['Horário'] = pd.to_datetime(df['Horário']) #Converte objeto para datatime64 (manipular data e hora)"
      ],
      "metadata": {
        "id": "SKd8kD0mcftG"
      },
      "execution_count": 21,
      "outputs": []
    },
    {
      "cell_type": "code",
      "source": [
        "df['Horário']"
      ],
      "metadata": {
        "colab": {
          "base_uri": "https://localhost:8080/"
        },
        "id": "t8ViDePWc7JJ",
        "outputId": "0568ad4c-a31d-41bc-a98a-d887fcb1a09b"
      },
      "execution_count": 22,
      "outputs": [
        {
          "output_type": "execute_result",
          "data": {
            "text/plain": [
              "0     2023-04-12 13:08:00\n",
              "1     2023-04-12 10:29:00\n",
              "2     2023-04-12 13:23:00\n",
              "3     2023-04-12 20:33:00\n",
              "4     2023-04-12 10:37:00\n",
              "              ...        \n",
              "995   2023-04-12 13:46:00\n",
              "996   2023-04-12 17:16:00\n",
              "997   2023-04-12 13:22:00\n",
              "998   2023-04-12 15:33:00\n",
              "999   2023-04-12 13:28:00\n",
              "Name: Horário, Length: 1000, dtype: datetime64[ns]"
            ]
          },
          "metadata": {},
          "execution_count": 22
        }
      ]
    },
    {
      "cell_type": "markdown",
      "source": [
        "#IMPORTANTE: Esse comando foi atrasado, deveria ter sido executado no começo para verificar se algum dado está repetido."
      ],
      "metadata": {
        "id": "_cUI3lqPD7eQ"
      }
    },
    {
      "cell_type": "markdown",
      "source": [
        "#<font color='red'>Por que esse comando é importante quando se trata de KDD?</font>"
      ],
      "metadata": {
        "id": "l02NcFJwFuxh"
      }
    },
    {
      "cell_type": "markdown",
      "source": [
        "Usado para limpar os dados, como nesse caso que ele está verificando os dados duplicados."
      ],
      "metadata": {
        "id": "EqrZ3SRWUo_B"
      }
    },
    {
      "cell_type": "code",
      "source": [
        "df.duplicated().sum() "
      ],
      "metadata": {
        "colab": {
          "base_uri": "https://localhost:8080/"
        },
        "id": "m10NgQo2c8ZG",
        "outputId": "29d1d933-574f-4366-c009-d98d210a3919"
      },
      "execution_count": 23,
      "outputs": [
        {
          "output_type": "execute_result",
          "data": {
            "text/plain": [
              "0"
            ]
          },
          "metadata": {},
          "execution_count": 23
        }
      ]
    },
    {
      "cell_type": "code",
      "source": [
        "df.dtypes # comando para analisar os tipos de dados no seu dataframe"
      ],
      "metadata": {
        "colab": {
          "base_uri": "https://localhost:8080/"
        },
        "id": "17iE61fMdPX0",
        "outputId": "c29d4c0e-0b9b-40ef-952a-56d89edd0d4c"
      },
      "execution_count": 24,
      "outputs": [
        {
          "output_type": "execute_result",
          "data": {
            "text/plain": [
              "Filial                      object\n",
              "Tipo de Cliente             object\n",
              "Gênero                      object\n",
              "Linha de produto            object\n",
              "Preço unitário             float64\n",
              "Quantidade                   int64\n",
              "Total                      float64\n",
              "Data                datetime64[ns]\n",
              "Horário             datetime64[ns]\n",
              "Pagamento                   object\n",
              "COGS                       float64\n",
              "Avaliação                    int64\n",
              "dtype: object"
            ]
          },
          "metadata": {},
          "execution_count": 24
        }
      ]
    },
    {
      "cell_type": "markdown",
      "source": [
        "#<font color='red'>O que é dicionário em python, para que serve?</font>"
      ],
      "metadata": {
        "id": "FYiHwpXJF_Ww"
      }
    },
    {
      "cell_type": "markdown",
      "source": [
        "são úteis para armazenar e manipular dados em que as chaves são strings, números ou outros objetos e os valores podem ser de qualquer tipo de objeto, incluindo outras estruturas de dados."
      ],
      "metadata": {
        "id": "_FNf0EQQaLKK"
      }
    },
    {
      "cell_type": "code",
      "source": [
        "meses = {1: 'Janeiro', 2:'Fevereiro', 3: 'Março'} # Criando um dicionário "
      ],
      "metadata": {
        "id": "0J-bcsFudl4F"
      },
      "execution_count": 25,
      "outputs": []
    },
    {
      "cell_type": "markdown",
      "source": [
        "\\\\#<font color='red'>Explique a função dt.month.map(meses)?</font>"
      ],
      "metadata": {
        "id": "lDeJ_JcRJC_6"
      }
    },
    {
      "cell_type": "markdown",
      "source": [
        "é usada para mapear os valores numéricos dos meses, para nomes em português, usando um dicionário que associa cada número de mês ao seu respectivo nome."
      ],
      "metadata": {
        "id": "mtEInGTbaqw4"
      }
    },
    {
      "cell_type": "code",
      "source": [
        "df['Data'] = pd.to_datetime(df['Data']).dt.month.map(meses) #Mapear o número mês para string mês"
      ],
      "metadata": {
        "id": "EhWVAQUCeC2w"
      },
      "execution_count": 26,
      "outputs": []
    },
    {
      "cell_type": "code",
      "source": [
        "df.head()"
      ],
      "metadata": {
        "colab": {
          "base_uri": "https://localhost:8080/",
          "height": 206
        },
        "id": "e_5ofzjTElkc",
        "outputId": "b2aab5ee-9901-4f51-dc66-f9acb91f30c8"
      },
      "execution_count": 27,
      "outputs": [
        {
          "output_type": "execute_result",
          "data": {
            "text/plain": [
              "  Filial Tipo de Cliente Gênero        Linha de produto  Preço unitário  \\\n",
              "0      A       Associado      F          Saúde e beleza         1120.35   \n",
              "1      C          Normal      F  Acessórios eletrônicos          229.20   \n",
              "2      A          Normal      M   Casa e estilo de vida          694.95   \n",
              "3      A       Associado      M          Saúde e beleza          873.30   \n",
              "4      A          Normal      M      Esportes e viagens         1294.65   \n",
              "\n",
              "   Quantidade    Total       Data             Horário          Pagamento  \\\n",
              "0           7  7842.45    Janeiro 2023-04-12 13:08:00                PIX   \n",
              "1           5  1146.00      Março 2023-04-12 10:29:00           Dinheiro   \n",
              "2           7  4864.65      Março 2023-04-12 13:23:00  Cartão de Crédito   \n",
              "3           8  6986.40    Janeiro 2023-04-12 20:33:00                PIX   \n",
              "4           7  9062.55  Fevereiro 2023-04-12 10:37:00                PIX   \n",
              "\n",
              "        COGS  Avaliação  \n",
              "0  4705.4700         91  \n",
              "1  1031.4000         96  \n",
              "2  3405.2550         74  \n",
              "3  4191.8400         84  \n",
              "4  6796.9125         53  "
            ],
            "text/html": [
              "\n",
              "  <div id=\"df-cd3c3082-705d-4414-8c3e-dd30ea03d8bb\">\n",
              "    <div class=\"colab-df-container\">\n",
              "      <div>\n",
              "<style scoped>\n",
              "    .dataframe tbody tr th:only-of-type {\n",
              "        vertical-align: middle;\n",
              "    }\n",
              "\n",
              "    .dataframe tbody tr th {\n",
              "        vertical-align: top;\n",
              "    }\n",
              "\n",
              "    .dataframe thead th {\n",
              "        text-align: right;\n",
              "    }\n",
              "</style>\n",
              "<table border=\"1\" class=\"dataframe\">\n",
              "  <thead>\n",
              "    <tr style=\"text-align: right;\">\n",
              "      <th></th>\n",
              "      <th>Filial</th>\n",
              "      <th>Tipo de Cliente</th>\n",
              "      <th>Gênero</th>\n",
              "      <th>Linha de produto</th>\n",
              "      <th>Preço unitário</th>\n",
              "      <th>Quantidade</th>\n",
              "      <th>Total</th>\n",
              "      <th>Data</th>\n",
              "      <th>Horário</th>\n",
              "      <th>Pagamento</th>\n",
              "      <th>COGS</th>\n",
              "      <th>Avaliação</th>\n",
              "    </tr>\n",
              "  </thead>\n",
              "  <tbody>\n",
              "    <tr>\n",
              "      <th>0</th>\n",
              "      <td>A</td>\n",
              "      <td>Associado</td>\n",
              "      <td>F</td>\n",
              "      <td>Saúde e beleza</td>\n",
              "      <td>1120.35</td>\n",
              "      <td>7</td>\n",
              "      <td>7842.45</td>\n",
              "      <td>Janeiro</td>\n",
              "      <td>2023-04-12 13:08:00</td>\n",
              "      <td>PIX</td>\n",
              "      <td>4705.4700</td>\n",
              "      <td>91</td>\n",
              "    </tr>\n",
              "    <tr>\n",
              "      <th>1</th>\n",
              "      <td>C</td>\n",
              "      <td>Normal</td>\n",
              "      <td>F</td>\n",
              "      <td>Acessórios eletrônicos</td>\n",
              "      <td>229.20</td>\n",
              "      <td>5</td>\n",
              "      <td>1146.00</td>\n",
              "      <td>Março</td>\n",
              "      <td>2023-04-12 10:29:00</td>\n",
              "      <td>Dinheiro</td>\n",
              "      <td>1031.4000</td>\n",
              "      <td>96</td>\n",
              "    </tr>\n",
              "    <tr>\n",
              "      <th>2</th>\n",
              "      <td>A</td>\n",
              "      <td>Normal</td>\n",
              "      <td>M</td>\n",
              "      <td>Casa e estilo de vida</td>\n",
              "      <td>694.95</td>\n",
              "      <td>7</td>\n",
              "      <td>4864.65</td>\n",
              "      <td>Março</td>\n",
              "      <td>2023-04-12 13:23:00</td>\n",
              "      <td>Cartão de Crédito</td>\n",
              "      <td>3405.2550</td>\n",
              "      <td>74</td>\n",
              "    </tr>\n",
              "    <tr>\n",
              "      <th>3</th>\n",
              "      <td>A</td>\n",
              "      <td>Associado</td>\n",
              "      <td>M</td>\n",
              "      <td>Saúde e beleza</td>\n",
              "      <td>873.30</td>\n",
              "      <td>8</td>\n",
              "      <td>6986.40</td>\n",
              "      <td>Janeiro</td>\n",
              "      <td>2023-04-12 20:33:00</td>\n",
              "      <td>PIX</td>\n",
              "      <td>4191.8400</td>\n",
              "      <td>84</td>\n",
              "    </tr>\n",
              "    <tr>\n",
              "      <th>4</th>\n",
              "      <td>A</td>\n",
              "      <td>Normal</td>\n",
              "      <td>M</td>\n",
              "      <td>Esportes e viagens</td>\n",
              "      <td>1294.65</td>\n",
              "      <td>7</td>\n",
              "      <td>9062.55</td>\n",
              "      <td>Fevereiro</td>\n",
              "      <td>2023-04-12 10:37:00</td>\n",
              "      <td>PIX</td>\n",
              "      <td>6796.9125</td>\n",
              "      <td>53</td>\n",
              "    </tr>\n",
              "  </tbody>\n",
              "</table>\n",
              "</div>\n",
              "      <button class=\"colab-df-convert\" onclick=\"convertToInteractive('df-cd3c3082-705d-4414-8c3e-dd30ea03d8bb')\"\n",
              "              title=\"Convert this dataframe to an interactive table.\"\n",
              "              style=\"display:none;\">\n",
              "        \n",
              "  <svg xmlns=\"http://www.w3.org/2000/svg\" height=\"24px\"viewBox=\"0 0 24 24\"\n",
              "       width=\"24px\">\n",
              "    <path d=\"M0 0h24v24H0V0z\" fill=\"none\"/>\n",
              "    <path d=\"M18.56 5.44l.94 2.06.94-2.06 2.06-.94-2.06-.94-.94-2.06-.94 2.06-2.06.94zm-11 1L8.5 8.5l.94-2.06 2.06-.94-2.06-.94L8.5 2.5l-.94 2.06-2.06.94zm10 10l.94 2.06.94-2.06 2.06-.94-2.06-.94-.94-2.06-.94 2.06-2.06.94z\"/><path d=\"M17.41 7.96l-1.37-1.37c-.4-.4-.92-.59-1.43-.59-.52 0-1.04.2-1.43.59L10.3 9.45l-7.72 7.72c-.78.78-.78 2.05 0 2.83L4 21.41c.39.39.9.59 1.41.59.51 0 1.02-.2 1.41-.59l7.78-7.78 2.81-2.81c.8-.78.8-2.07 0-2.86zM5.41 20L4 18.59l7.72-7.72 1.47 1.35L5.41 20z\"/>\n",
              "  </svg>\n",
              "      </button>\n",
              "      \n",
              "  <style>\n",
              "    .colab-df-container {\n",
              "      display:flex;\n",
              "      flex-wrap:wrap;\n",
              "      gap: 12px;\n",
              "    }\n",
              "\n",
              "    .colab-df-convert {\n",
              "      background-color: #E8F0FE;\n",
              "      border: none;\n",
              "      border-radius: 50%;\n",
              "      cursor: pointer;\n",
              "      display: none;\n",
              "      fill: #1967D2;\n",
              "      height: 32px;\n",
              "      padding: 0 0 0 0;\n",
              "      width: 32px;\n",
              "    }\n",
              "\n",
              "    .colab-df-convert:hover {\n",
              "      background-color: #E2EBFA;\n",
              "      box-shadow: 0px 1px 2px rgba(60, 64, 67, 0.3), 0px 1px 3px 1px rgba(60, 64, 67, 0.15);\n",
              "      fill: #174EA6;\n",
              "    }\n",
              "\n",
              "    [theme=dark] .colab-df-convert {\n",
              "      background-color: #3B4455;\n",
              "      fill: #D2E3FC;\n",
              "    }\n",
              "\n",
              "    [theme=dark] .colab-df-convert:hover {\n",
              "      background-color: #434B5C;\n",
              "      box-shadow: 0px 1px 3px 1px rgba(0, 0, 0, 0.15);\n",
              "      filter: drop-shadow(0px 1px 2px rgba(0, 0, 0, 0.3));\n",
              "      fill: #FFFFFF;\n",
              "    }\n",
              "  </style>\n",
              "\n",
              "      <script>\n",
              "        const buttonEl =\n",
              "          document.querySelector('#df-cd3c3082-705d-4414-8c3e-dd30ea03d8bb button.colab-df-convert');\n",
              "        buttonEl.style.display =\n",
              "          google.colab.kernel.accessAllowed ? 'block' : 'none';\n",
              "\n",
              "        async function convertToInteractive(key) {\n",
              "          const element = document.querySelector('#df-cd3c3082-705d-4414-8c3e-dd30ea03d8bb');\n",
              "          const dataTable =\n",
              "            await google.colab.kernel.invokeFunction('convertToInteractive',\n",
              "                                                     [key], {});\n",
              "          if (!dataTable) return;\n",
              "\n",
              "          const docLinkHtml = 'Like what you see? Visit the ' +\n",
              "            '<a target=\"_blank\" href=https://colab.research.google.com/notebooks/data_table.ipynb>data table notebook</a>'\n",
              "            + ' to learn more about interactive tables.';\n",
              "          element.innerHTML = '';\n",
              "          dataTable['output_type'] = 'display_data';\n",
              "          await google.colab.output.renderOutput(dataTable, element);\n",
              "          const docLink = document.createElement('div');\n",
              "          docLink.innerHTML = docLinkHtml;\n",
              "          element.appendChild(docLink);\n",
              "        }\n",
              "      </script>\n",
              "    </div>\n",
              "  </div>\n",
              "  "
            ]
          },
          "metadata": {},
          "execution_count": 27
        }
      ]
    },
    {
      "cell_type": "markdown",
      "source": [
        "# <font color='red'>Explique a função dt.strftime, por que precisamos mudar o objeto?</font>"
      ],
      "metadata": {
        "id": "gp-J4BjVJaDT"
      }
    },
    {
      "cell_type": "markdown",
      "source": [
        "é usada para formatar objetos de data no formato de string, esse método recebe como argumento uma string que define o formato que quer a data, e retorna uma string com a data formatada conforme esse formato."
      ],
      "metadata": {
        "id": "EXtipyu1bEmC"
      }
    },
    {
      "cell_type": "code",
      "source": [
        "df['Horário'] = df['Horário'].dt.strftime('%H') #Transformar datatime em object (string), selecionado apenas o horário."
      ],
      "metadata": {
        "id": "cioMuo2aeas7"
      },
      "execution_count": 28,
      "outputs": []
    },
    {
      "cell_type": "code",
      "source": [
        "df.head()"
      ],
      "metadata": {
        "colab": {
          "base_uri": "https://localhost:8080/",
          "height": 206
        },
        "id": "cj8eyipZhV2F",
        "outputId": "d23ec7cb-9a92-4367-c8e9-fd97daea7aa7"
      },
      "execution_count": 29,
      "outputs": [
        {
          "output_type": "execute_result",
          "data": {
            "text/plain": [
              "  Filial Tipo de Cliente Gênero        Linha de produto  Preço unitário  \\\n",
              "0      A       Associado      F          Saúde e beleza         1120.35   \n",
              "1      C          Normal      F  Acessórios eletrônicos          229.20   \n",
              "2      A          Normal      M   Casa e estilo de vida          694.95   \n",
              "3      A       Associado      M          Saúde e beleza          873.30   \n",
              "4      A          Normal      M      Esportes e viagens         1294.65   \n",
              "\n",
              "   Quantidade    Total       Data Horário          Pagamento       COGS  \\\n",
              "0           7  7842.45    Janeiro      13                PIX  4705.4700   \n",
              "1           5  1146.00      Março      10           Dinheiro  1031.4000   \n",
              "2           7  4864.65      Março      13  Cartão de Crédito  3405.2550   \n",
              "3           8  6986.40    Janeiro      20                PIX  4191.8400   \n",
              "4           7  9062.55  Fevereiro      10                PIX  6796.9125   \n",
              "\n",
              "   Avaliação  \n",
              "0         91  \n",
              "1         96  \n",
              "2         74  \n",
              "3         84  \n",
              "4         53  "
            ],
            "text/html": [
              "\n",
              "  <div id=\"df-379a703f-a89b-4b85-b37a-a15b050d0ee3\">\n",
              "    <div class=\"colab-df-container\">\n",
              "      <div>\n",
              "<style scoped>\n",
              "    .dataframe tbody tr th:only-of-type {\n",
              "        vertical-align: middle;\n",
              "    }\n",
              "\n",
              "    .dataframe tbody tr th {\n",
              "        vertical-align: top;\n",
              "    }\n",
              "\n",
              "    .dataframe thead th {\n",
              "        text-align: right;\n",
              "    }\n",
              "</style>\n",
              "<table border=\"1\" class=\"dataframe\">\n",
              "  <thead>\n",
              "    <tr style=\"text-align: right;\">\n",
              "      <th></th>\n",
              "      <th>Filial</th>\n",
              "      <th>Tipo de Cliente</th>\n",
              "      <th>Gênero</th>\n",
              "      <th>Linha de produto</th>\n",
              "      <th>Preço unitário</th>\n",
              "      <th>Quantidade</th>\n",
              "      <th>Total</th>\n",
              "      <th>Data</th>\n",
              "      <th>Horário</th>\n",
              "      <th>Pagamento</th>\n",
              "      <th>COGS</th>\n",
              "      <th>Avaliação</th>\n",
              "    </tr>\n",
              "  </thead>\n",
              "  <tbody>\n",
              "    <tr>\n",
              "      <th>0</th>\n",
              "      <td>A</td>\n",
              "      <td>Associado</td>\n",
              "      <td>F</td>\n",
              "      <td>Saúde e beleza</td>\n",
              "      <td>1120.35</td>\n",
              "      <td>7</td>\n",
              "      <td>7842.45</td>\n",
              "      <td>Janeiro</td>\n",
              "      <td>13</td>\n",
              "      <td>PIX</td>\n",
              "      <td>4705.4700</td>\n",
              "      <td>91</td>\n",
              "    </tr>\n",
              "    <tr>\n",
              "      <th>1</th>\n",
              "      <td>C</td>\n",
              "      <td>Normal</td>\n",
              "      <td>F</td>\n",
              "      <td>Acessórios eletrônicos</td>\n",
              "      <td>229.20</td>\n",
              "      <td>5</td>\n",
              "      <td>1146.00</td>\n",
              "      <td>Março</td>\n",
              "      <td>10</td>\n",
              "      <td>Dinheiro</td>\n",
              "      <td>1031.4000</td>\n",
              "      <td>96</td>\n",
              "    </tr>\n",
              "    <tr>\n",
              "      <th>2</th>\n",
              "      <td>A</td>\n",
              "      <td>Normal</td>\n",
              "      <td>M</td>\n",
              "      <td>Casa e estilo de vida</td>\n",
              "      <td>694.95</td>\n",
              "      <td>7</td>\n",
              "      <td>4864.65</td>\n",
              "      <td>Março</td>\n",
              "      <td>13</td>\n",
              "      <td>Cartão de Crédito</td>\n",
              "      <td>3405.2550</td>\n",
              "      <td>74</td>\n",
              "    </tr>\n",
              "    <tr>\n",
              "      <th>3</th>\n",
              "      <td>A</td>\n",
              "      <td>Associado</td>\n",
              "      <td>M</td>\n",
              "      <td>Saúde e beleza</td>\n",
              "      <td>873.30</td>\n",
              "      <td>8</td>\n",
              "      <td>6986.40</td>\n",
              "      <td>Janeiro</td>\n",
              "      <td>20</td>\n",
              "      <td>PIX</td>\n",
              "      <td>4191.8400</td>\n",
              "      <td>84</td>\n",
              "    </tr>\n",
              "    <tr>\n",
              "      <th>4</th>\n",
              "      <td>A</td>\n",
              "      <td>Normal</td>\n",
              "      <td>M</td>\n",
              "      <td>Esportes e viagens</td>\n",
              "      <td>1294.65</td>\n",
              "      <td>7</td>\n",
              "      <td>9062.55</td>\n",
              "      <td>Fevereiro</td>\n",
              "      <td>10</td>\n",
              "      <td>PIX</td>\n",
              "      <td>6796.9125</td>\n",
              "      <td>53</td>\n",
              "    </tr>\n",
              "  </tbody>\n",
              "</table>\n",
              "</div>\n",
              "      <button class=\"colab-df-convert\" onclick=\"convertToInteractive('df-379a703f-a89b-4b85-b37a-a15b050d0ee3')\"\n",
              "              title=\"Convert this dataframe to an interactive table.\"\n",
              "              style=\"display:none;\">\n",
              "        \n",
              "  <svg xmlns=\"http://www.w3.org/2000/svg\" height=\"24px\"viewBox=\"0 0 24 24\"\n",
              "       width=\"24px\">\n",
              "    <path d=\"M0 0h24v24H0V0z\" fill=\"none\"/>\n",
              "    <path d=\"M18.56 5.44l.94 2.06.94-2.06 2.06-.94-2.06-.94-.94-2.06-.94 2.06-2.06.94zm-11 1L8.5 8.5l.94-2.06 2.06-.94-2.06-.94L8.5 2.5l-.94 2.06-2.06.94zm10 10l.94 2.06.94-2.06 2.06-.94-2.06-.94-.94-2.06-.94 2.06-2.06.94z\"/><path d=\"M17.41 7.96l-1.37-1.37c-.4-.4-.92-.59-1.43-.59-.52 0-1.04.2-1.43.59L10.3 9.45l-7.72 7.72c-.78.78-.78 2.05 0 2.83L4 21.41c.39.39.9.59 1.41.59.51 0 1.02-.2 1.41-.59l7.78-7.78 2.81-2.81c.8-.78.8-2.07 0-2.86zM5.41 20L4 18.59l7.72-7.72 1.47 1.35L5.41 20z\"/>\n",
              "  </svg>\n",
              "      </button>\n",
              "      \n",
              "  <style>\n",
              "    .colab-df-container {\n",
              "      display:flex;\n",
              "      flex-wrap:wrap;\n",
              "      gap: 12px;\n",
              "    }\n",
              "\n",
              "    .colab-df-convert {\n",
              "      background-color: #E8F0FE;\n",
              "      border: none;\n",
              "      border-radius: 50%;\n",
              "      cursor: pointer;\n",
              "      display: none;\n",
              "      fill: #1967D2;\n",
              "      height: 32px;\n",
              "      padding: 0 0 0 0;\n",
              "      width: 32px;\n",
              "    }\n",
              "\n",
              "    .colab-df-convert:hover {\n",
              "      background-color: #E2EBFA;\n",
              "      box-shadow: 0px 1px 2px rgba(60, 64, 67, 0.3), 0px 1px 3px 1px rgba(60, 64, 67, 0.15);\n",
              "      fill: #174EA6;\n",
              "    }\n",
              "\n",
              "    [theme=dark] .colab-df-convert {\n",
              "      background-color: #3B4455;\n",
              "      fill: #D2E3FC;\n",
              "    }\n",
              "\n",
              "    [theme=dark] .colab-df-convert:hover {\n",
              "      background-color: #434B5C;\n",
              "      box-shadow: 0px 1px 3px 1px rgba(0, 0, 0, 0.15);\n",
              "      filter: drop-shadow(0px 1px 2px rgba(0, 0, 0, 0.3));\n",
              "      fill: #FFFFFF;\n",
              "    }\n",
              "  </style>\n",
              "\n",
              "      <script>\n",
              "        const buttonEl =\n",
              "          document.querySelector('#df-379a703f-a89b-4b85-b37a-a15b050d0ee3 button.colab-df-convert');\n",
              "        buttonEl.style.display =\n",
              "          google.colab.kernel.accessAllowed ? 'block' : 'none';\n",
              "\n",
              "        async function convertToInteractive(key) {\n",
              "          const element = document.querySelector('#df-379a703f-a89b-4b85-b37a-a15b050d0ee3');\n",
              "          const dataTable =\n",
              "            await google.colab.kernel.invokeFunction('convertToInteractive',\n",
              "                                                     [key], {});\n",
              "          if (!dataTable) return;\n",
              "\n",
              "          const docLinkHtml = 'Like what you see? Visit the ' +\n",
              "            '<a target=\"_blank\" href=https://colab.research.google.com/notebooks/data_table.ipynb>data table notebook</a>'\n",
              "            + ' to learn more about interactive tables.';\n",
              "          element.innerHTML = '';\n",
              "          dataTable['output_type'] = 'display_data';\n",
              "          await google.colab.output.renderOutput(dataTable, element);\n",
              "          const docLink = document.createElement('div');\n",
              "          docLink.innerHTML = docLinkHtml;\n",
              "          element.appendChild(docLink);\n",
              "        }\n",
              "      </script>\n",
              "    </div>\n",
              "  </div>\n",
              "  "
            ]
          },
          "metadata": {},
          "execution_count": 29
        }
      ]
    },
    {
      "cell_type": "markdown",
      "source": [
        "#<font color='red'>Explique detalhadamente o bloco de código abaixo:</font>"
      ],
      "metadata": {
        "id": "ujtYEKWUJsiX"
      }
    },
    {
      "cell_type": "markdown",
      "source": [
        "O bloco de código abaixo está sendo utilizado para a formatação do horario, onde o for executa conforme a quantidade de horários e os ifs padronizão o horário conforme os parametros passados no if, se for das 8 até as 13 é manhã, das 13 as 19 é tarde e apartir disso é noite"
      ],
      "metadata": {
        "id": "ey0c920eVCWk"
      }
    },
    {
      "cell_type": "code",
      "source": [
        "time = [] #lista vazia\n",
        "for i in list(map(int,df['Horário'])): #laço for mapeando e transformando string para inteiro\n",
        "    if i > 8 and i < 13: # 9 - 12 (manhã)\n",
        "      time.append('Manhã') # Comando Append vai inserir Manhã quando o critério for verdadeiro na lista time.\n",
        "    elif i > 12 and i < 19: \n",
        "      time.append('Tarde')\n",
        "    else:\n",
        "      time.append('Noite')\n",
        "df['Horário'] = time #Substituindo a coluna horário pela lista time"
      ],
      "metadata": {
        "id": "M8tdJRHIhtAR"
      },
      "execution_count": 30,
      "outputs": []
    },
    {
      "cell_type": "code",
      "source": [
        "df.head() #Dados OK"
      ],
      "metadata": {
        "colab": {
          "base_uri": "https://localhost:8080/",
          "height": 206
        },
        "id": "Nxgc7MVNimHW",
        "outputId": "313c1ab5-296d-49e9-c2ad-ee1b4f677cfd"
      },
      "execution_count": 31,
      "outputs": [
        {
          "output_type": "execute_result",
          "data": {
            "text/plain": [
              "  Filial Tipo de Cliente Gênero        Linha de produto  Preço unitário  \\\n",
              "0      A       Associado      F          Saúde e beleza         1120.35   \n",
              "1      C          Normal      F  Acessórios eletrônicos          229.20   \n",
              "2      A          Normal      M   Casa e estilo de vida          694.95   \n",
              "3      A       Associado      M          Saúde e beleza          873.30   \n",
              "4      A          Normal      M      Esportes e viagens         1294.65   \n",
              "\n",
              "   Quantidade    Total       Data Horário          Pagamento       COGS  \\\n",
              "0           7  7842.45    Janeiro   Tarde                PIX  4705.4700   \n",
              "1           5  1146.00      Março   Manhã           Dinheiro  1031.4000   \n",
              "2           7  4864.65      Março   Tarde  Cartão de Crédito  3405.2550   \n",
              "3           8  6986.40    Janeiro   Noite                PIX  4191.8400   \n",
              "4           7  9062.55  Fevereiro   Manhã                PIX  6796.9125   \n",
              "\n",
              "   Avaliação  \n",
              "0         91  \n",
              "1         96  \n",
              "2         74  \n",
              "3         84  \n",
              "4         53  "
            ],
            "text/html": [
              "\n",
              "  <div id=\"df-365f9d64-3492-4df7-87a4-96784d52327b\">\n",
              "    <div class=\"colab-df-container\">\n",
              "      <div>\n",
              "<style scoped>\n",
              "    .dataframe tbody tr th:only-of-type {\n",
              "        vertical-align: middle;\n",
              "    }\n",
              "\n",
              "    .dataframe tbody tr th {\n",
              "        vertical-align: top;\n",
              "    }\n",
              "\n",
              "    .dataframe thead th {\n",
              "        text-align: right;\n",
              "    }\n",
              "</style>\n",
              "<table border=\"1\" class=\"dataframe\">\n",
              "  <thead>\n",
              "    <tr style=\"text-align: right;\">\n",
              "      <th></th>\n",
              "      <th>Filial</th>\n",
              "      <th>Tipo de Cliente</th>\n",
              "      <th>Gênero</th>\n",
              "      <th>Linha de produto</th>\n",
              "      <th>Preço unitário</th>\n",
              "      <th>Quantidade</th>\n",
              "      <th>Total</th>\n",
              "      <th>Data</th>\n",
              "      <th>Horário</th>\n",
              "      <th>Pagamento</th>\n",
              "      <th>COGS</th>\n",
              "      <th>Avaliação</th>\n",
              "    </tr>\n",
              "  </thead>\n",
              "  <tbody>\n",
              "    <tr>\n",
              "      <th>0</th>\n",
              "      <td>A</td>\n",
              "      <td>Associado</td>\n",
              "      <td>F</td>\n",
              "      <td>Saúde e beleza</td>\n",
              "      <td>1120.35</td>\n",
              "      <td>7</td>\n",
              "      <td>7842.45</td>\n",
              "      <td>Janeiro</td>\n",
              "      <td>Tarde</td>\n",
              "      <td>PIX</td>\n",
              "      <td>4705.4700</td>\n",
              "      <td>91</td>\n",
              "    </tr>\n",
              "    <tr>\n",
              "      <th>1</th>\n",
              "      <td>C</td>\n",
              "      <td>Normal</td>\n",
              "      <td>F</td>\n",
              "      <td>Acessórios eletrônicos</td>\n",
              "      <td>229.20</td>\n",
              "      <td>5</td>\n",
              "      <td>1146.00</td>\n",
              "      <td>Março</td>\n",
              "      <td>Manhã</td>\n",
              "      <td>Dinheiro</td>\n",
              "      <td>1031.4000</td>\n",
              "      <td>96</td>\n",
              "    </tr>\n",
              "    <tr>\n",
              "      <th>2</th>\n",
              "      <td>A</td>\n",
              "      <td>Normal</td>\n",
              "      <td>M</td>\n",
              "      <td>Casa e estilo de vida</td>\n",
              "      <td>694.95</td>\n",
              "      <td>7</td>\n",
              "      <td>4864.65</td>\n",
              "      <td>Março</td>\n",
              "      <td>Tarde</td>\n",
              "      <td>Cartão de Crédito</td>\n",
              "      <td>3405.2550</td>\n",
              "      <td>74</td>\n",
              "    </tr>\n",
              "    <tr>\n",
              "      <th>3</th>\n",
              "      <td>A</td>\n",
              "      <td>Associado</td>\n",
              "      <td>M</td>\n",
              "      <td>Saúde e beleza</td>\n",
              "      <td>873.30</td>\n",
              "      <td>8</td>\n",
              "      <td>6986.40</td>\n",
              "      <td>Janeiro</td>\n",
              "      <td>Noite</td>\n",
              "      <td>PIX</td>\n",
              "      <td>4191.8400</td>\n",
              "      <td>84</td>\n",
              "    </tr>\n",
              "    <tr>\n",
              "      <th>4</th>\n",
              "      <td>A</td>\n",
              "      <td>Normal</td>\n",
              "      <td>M</td>\n",
              "      <td>Esportes e viagens</td>\n",
              "      <td>1294.65</td>\n",
              "      <td>7</td>\n",
              "      <td>9062.55</td>\n",
              "      <td>Fevereiro</td>\n",
              "      <td>Manhã</td>\n",
              "      <td>PIX</td>\n",
              "      <td>6796.9125</td>\n",
              "      <td>53</td>\n",
              "    </tr>\n",
              "  </tbody>\n",
              "</table>\n",
              "</div>\n",
              "      <button class=\"colab-df-convert\" onclick=\"convertToInteractive('df-365f9d64-3492-4df7-87a4-96784d52327b')\"\n",
              "              title=\"Convert this dataframe to an interactive table.\"\n",
              "              style=\"display:none;\">\n",
              "        \n",
              "  <svg xmlns=\"http://www.w3.org/2000/svg\" height=\"24px\"viewBox=\"0 0 24 24\"\n",
              "       width=\"24px\">\n",
              "    <path d=\"M0 0h24v24H0V0z\" fill=\"none\"/>\n",
              "    <path d=\"M18.56 5.44l.94 2.06.94-2.06 2.06-.94-2.06-.94-.94-2.06-.94 2.06-2.06.94zm-11 1L8.5 8.5l.94-2.06 2.06-.94-2.06-.94L8.5 2.5l-.94 2.06-2.06.94zm10 10l.94 2.06.94-2.06 2.06-.94-2.06-.94-.94-2.06-.94 2.06-2.06.94z\"/><path d=\"M17.41 7.96l-1.37-1.37c-.4-.4-.92-.59-1.43-.59-.52 0-1.04.2-1.43.59L10.3 9.45l-7.72 7.72c-.78.78-.78 2.05 0 2.83L4 21.41c.39.39.9.59 1.41.59.51 0 1.02-.2 1.41-.59l7.78-7.78 2.81-2.81c.8-.78.8-2.07 0-2.86zM5.41 20L4 18.59l7.72-7.72 1.47 1.35L5.41 20z\"/>\n",
              "  </svg>\n",
              "      </button>\n",
              "      \n",
              "  <style>\n",
              "    .colab-df-container {\n",
              "      display:flex;\n",
              "      flex-wrap:wrap;\n",
              "      gap: 12px;\n",
              "    }\n",
              "\n",
              "    .colab-df-convert {\n",
              "      background-color: #E8F0FE;\n",
              "      border: none;\n",
              "      border-radius: 50%;\n",
              "      cursor: pointer;\n",
              "      display: none;\n",
              "      fill: #1967D2;\n",
              "      height: 32px;\n",
              "      padding: 0 0 0 0;\n",
              "      width: 32px;\n",
              "    }\n",
              "\n",
              "    .colab-df-convert:hover {\n",
              "      background-color: #E2EBFA;\n",
              "      box-shadow: 0px 1px 2px rgba(60, 64, 67, 0.3), 0px 1px 3px 1px rgba(60, 64, 67, 0.15);\n",
              "      fill: #174EA6;\n",
              "    }\n",
              "\n",
              "    [theme=dark] .colab-df-convert {\n",
              "      background-color: #3B4455;\n",
              "      fill: #D2E3FC;\n",
              "    }\n",
              "\n",
              "    [theme=dark] .colab-df-convert:hover {\n",
              "      background-color: #434B5C;\n",
              "      box-shadow: 0px 1px 3px 1px rgba(0, 0, 0, 0.15);\n",
              "      filter: drop-shadow(0px 1px 2px rgba(0, 0, 0, 0.3));\n",
              "      fill: #FFFFFF;\n",
              "    }\n",
              "  </style>\n",
              "\n",
              "      <script>\n",
              "        const buttonEl =\n",
              "          document.querySelector('#df-365f9d64-3492-4df7-87a4-96784d52327b button.colab-df-convert');\n",
              "        buttonEl.style.display =\n",
              "          google.colab.kernel.accessAllowed ? 'block' : 'none';\n",
              "\n",
              "        async function convertToInteractive(key) {\n",
              "          const element = document.querySelector('#df-365f9d64-3492-4df7-87a4-96784d52327b');\n",
              "          const dataTable =\n",
              "            await google.colab.kernel.invokeFunction('convertToInteractive',\n",
              "                                                     [key], {});\n",
              "          if (!dataTable) return;\n",
              "\n",
              "          const docLinkHtml = 'Like what you see? Visit the ' +\n",
              "            '<a target=\"_blank\" href=https://colab.research.google.com/notebooks/data_table.ipynb>data table notebook</a>'\n",
              "            + ' to learn more about interactive tables.';\n",
              "          element.innerHTML = '';\n",
              "          dataTable['output_type'] = 'display_data';\n",
              "          await google.colab.output.renderOutput(dataTable, element);\n",
              "          const docLink = document.createElement('div');\n",
              "          docLink.innerHTML = docLinkHtml;\n",
              "          element.appendChild(docLink);\n",
              "        }\n",
              "      </script>\n",
              "    </div>\n",
              "  </div>\n",
              "  "
            ]
          },
          "metadata": {},
          "execution_count": 31
        }
      ]
    },
    {
      "cell_type": "markdown",
      "source": [
        "#<font color='red'>Explique de maneira resumida o que foi feito:</font>\n",
        "\n",
        "\n",
        "\n",
        "1.   Foi excluído algumas colunas que não tinham correlação\n",
        "2.   Item da lista\n",
        "3.   Foram formatados alguns dados para padronização\n",
        "4.   Foi criado uma coluna nova de lucro\n",
        "\n"
      ],
      "metadata": {
        "id": "l48CnxD9JzUW"
      }
    },
    {
      "cell_type": "markdown",
      "source": [],
      "metadata": {
        "id": "3Lhr21iJVHWN"
      }
    },
    {
      "cell_type": "markdown",
      "source": [
        "# Etapa: Minerando Dados criando Informação e Conhecimento"
      ],
      "metadata": {
        "id": "DW9DrUUDF-da"
      }
    },
    {
      "cell_type": "markdown",
      "source": [
        "# **1 Análise**\n"
      ],
      "metadata": {
        "id": "DdrkLdasmmoY"
      }
    },
    {
      "cell_type": "markdown",
      "source": [
        "#<font color='red'>O que significa a função abaixo? Por que linha de produto está entre parênteses e Avaliação entre colchetes?</font>\n"
      ],
      "metadata": {
        "id": "8In0dPMyGUVD"
      }
    },
    {
      "cell_type": "markdown",
      "source": [
        "Este comando é utilizado para fazer o agrupamento entre várias colunas, geralmente utilizado para a geração de gráficos. A coluna 'Linha de produto' está entre parênteses porque ela é um argumento da função. A coluna 'Avaliação' está entre colchetes porque ela é o nome da coluna da qual queremos calcular a média."
      ],
      "metadata": {
        "id": "PH8r7q_zVQ1P"
      }
    },
    {
      "cell_type": "code",
      "source": [
        "Agrupamento = df.groupby('Linha de produto')['Avaliação'].mean().reset_index(drop=False) "
      ],
      "metadata": {
        "id": "XRnBagp4imw5"
      },
      "execution_count": 32,
      "outputs": []
    },
    {
      "cell_type": "code",
      "source": [
        "Agrupamento"
      ],
      "metadata": {
        "id": "Mpj_6XcEnG8J",
        "colab": {
          "base_uri": "https://localhost:8080/",
          "height": 237
        },
        "outputId": "06dc0d42-b16d-4f62-e1a1-d808fc196971"
      },
      "execution_count": 33,
      "outputs": [
        {
          "output_type": "execute_result",
          "data": {
            "text/plain": [
              "         Linha de produto  Avaliação\n",
              "0  Acessórios eletrônicos  61.411765\n",
              "1     Acessórios fashions  64.780899\n",
              "2   Casa e estilo de vida  63.031250\n",
              "3        Comida e bebidas  63.166667\n",
              "4      Esportes e viagens  60.379518\n",
              "5          Saúde e beleza  62.335526"
            ],
            "text/html": [
              "\n",
              "  <div id=\"df-df18585b-8bb1-4271-9fce-8b3262ddc182\">\n",
              "    <div class=\"colab-df-container\">\n",
              "      <div>\n",
              "<style scoped>\n",
              "    .dataframe tbody tr th:only-of-type {\n",
              "        vertical-align: middle;\n",
              "    }\n",
              "\n",
              "    .dataframe tbody tr th {\n",
              "        vertical-align: top;\n",
              "    }\n",
              "\n",
              "    .dataframe thead th {\n",
              "        text-align: right;\n",
              "    }\n",
              "</style>\n",
              "<table border=\"1\" class=\"dataframe\">\n",
              "  <thead>\n",
              "    <tr style=\"text-align: right;\">\n",
              "      <th></th>\n",
              "      <th>Linha de produto</th>\n",
              "      <th>Avaliação</th>\n",
              "    </tr>\n",
              "  </thead>\n",
              "  <tbody>\n",
              "    <tr>\n",
              "      <th>0</th>\n",
              "      <td>Acessórios eletrônicos</td>\n",
              "      <td>61.411765</td>\n",
              "    </tr>\n",
              "    <tr>\n",
              "      <th>1</th>\n",
              "      <td>Acessórios fashions</td>\n",
              "      <td>64.780899</td>\n",
              "    </tr>\n",
              "    <tr>\n",
              "      <th>2</th>\n",
              "      <td>Casa e estilo de vida</td>\n",
              "      <td>63.031250</td>\n",
              "    </tr>\n",
              "    <tr>\n",
              "      <th>3</th>\n",
              "      <td>Comida e bebidas</td>\n",
              "      <td>63.166667</td>\n",
              "    </tr>\n",
              "    <tr>\n",
              "      <th>4</th>\n",
              "      <td>Esportes e viagens</td>\n",
              "      <td>60.379518</td>\n",
              "    </tr>\n",
              "    <tr>\n",
              "      <th>5</th>\n",
              "      <td>Saúde e beleza</td>\n",
              "      <td>62.335526</td>\n",
              "    </tr>\n",
              "  </tbody>\n",
              "</table>\n",
              "</div>\n",
              "      <button class=\"colab-df-convert\" onclick=\"convertToInteractive('df-df18585b-8bb1-4271-9fce-8b3262ddc182')\"\n",
              "              title=\"Convert this dataframe to an interactive table.\"\n",
              "              style=\"display:none;\">\n",
              "        \n",
              "  <svg xmlns=\"http://www.w3.org/2000/svg\" height=\"24px\"viewBox=\"0 0 24 24\"\n",
              "       width=\"24px\">\n",
              "    <path d=\"M0 0h24v24H0V0z\" fill=\"none\"/>\n",
              "    <path d=\"M18.56 5.44l.94 2.06.94-2.06 2.06-.94-2.06-.94-.94-2.06-.94 2.06-2.06.94zm-11 1L8.5 8.5l.94-2.06 2.06-.94-2.06-.94L8.5 2.5l-.94 2.06-2.06.94zm10 10l.94 2.06.94-2.06 2.06-.94-2.06-.94-.94-2.06-.94 2.06-2.06.94z\"/><path d=\"M17.41 7.96l-1.37-1.37c-.4-.4-.92-.59-1.43-.59-.52 0-1.04.2-1.43.59L10.3 9.45l-7.72 7.72c-.78.78-.78 2.05 0 2.83L4 21.41c.39.39.9.59 1.41.59.51 0 1.02-.2 1.41-.59l7.78-7.78 2.81-2.81c.8-.78.8-2.07 0-2.86zM5.41 20L4 18.59l7.72-7.72 1.47 1.35L5.41 20z\"/>\n",
              "  </svg>\n",
              "      </button>\n",
              "      \n",
              "  <style>\n",
              "    .colab-df-container {\n",
              "      display:flex;\n",
              "      flex-wrap:wrap;\n",
              "      gap: 12px;\n",
              "    }\n",
              "\n",
              "    .colab-df-convert {\n",
              "      background-color: #E8F0FE;\n",
              "      border: none;\n",
              "      border-radius: 50%;\n",
              "      cursor: pointer;\n",
              "      display: none;\n",
              "      fill: #1967D2;\n",
              "      height: 32px;\n",
              "      padding: 0 0 0 0;\n",
              "      width: 32px;\n",
              "    }\n",
              "\n",
              "    .colab-df-convert:hover {\n",
              "      background-color: #E2EBFA;\n",
              "      box-shadow: 0px 1px 2px rgba(60, 64, 67, 0.3), 0px 1px 3px 1px rgba(60, 64, 67, 0.15);\n",
              "      fill: #174EA6;\n",
              "    }\n",
              "\n",
              "    [theme=dark] .colab-df-convert {\n",
              "      background-color: #3B4455;\n",
              "      fill: #D2E3FC;\n",
              "    }\n",
              "\n",
              "    [theme=dark] .colab-df-convert:hover {\n",
              "      background-color: #434B5C;\n",
              "      box-shadow: 0px 1px 3px 1px rgba(0, 0, 0, 0.15);\n",
              "      filter: drop-shadow(0px 1px 2px rgba(0, 0, 0, 0.3));\n",
              "      fill: #FFFFFF;\n",
              "    }\n",
              "  </style>\n",
              "\n",
              "      <script>\n",
              "        const buttonEl =\n",
              "          document.querySelector('#df-df18585b-8bb1-4271-9fce-8b3262ddc182 button.colab-df-convert');\n",
              "        buttonEl.style.display =\n",
              "          google.colab.kernel.accessAllowed ? 'block' : 'none';\n",
              "\n",
              "        async function convertToInteractive(key) {\n",
              "          const element = document.querySelector('#df-df18585b-8bb1-4271-9fce-8b3262ddc182');\n",
              "          const dataTable =\n",
              "            await google.colab.kernel.invokeFunction('convertToInteractive',\n",
              "                                                     [key], {});\n",
              "          if (!dataTable) return;\n",
              "\n",
              "          const docLinkHtml = 'Like what you see? Visit the ' +\n",
              "            '<a target=\"_blank\" href=https://colab.research.google.com/notebooks/data_table.ipynb>data table notebook</a>'\n",
              "            + ' to learn more about interactive tables.';\n",
              "          element.innerHTML = '';\n",
              "          dataTable['output_type'] = 'display_data';\n",
              "          await google.colab.output.renderOutput(dataTable, element);\n",
              "          const docLink = document.createElement('div');\n",
              "          docLink.innerHTML = docLinkHtml;\n",
              "          element.appendChild(docLink);\n",
              "        }\n",
              "      </script>\n",
              "    </div>\n",
              "  </div>\n",
              "  "
            ]
          },
          "metadata": {},
          "execution_count": 33
        }
      ]
    },
    {
      "cell_type": "code",
      "source": [
        "Agrupando_avaliação = Agrupamento.round(1) #Apenas arredondando para uma casa decimal"
      ],
      "metadata": {
        "id": "hAX4maYynKk2"
      },
      "execution_count": 34,
      "outputs": []
    },
    {
      "cell_type": "code",
      "source": [
        "Agrupando_avaliação"
      ],
      "metadata": {
        "id": "E0bxP7O9ns-4",
        "colab": {
          "base_uri": "https://localhost:8080/",
          "height": 237
        },
        "outputId": "965d54ad-54d3-4596-f18f-29d343dea538"
      },
      "execution_count": 35,
      "outputs": [
        {
          "output_type": "execute_result",
          "data": {
            "text/plain": [
              "         Linha de produto  Avaliação\n",
              "0  Acessórios eletrônicos       61.4\n",
              "1     Acessórios fashions       64.8\n",
              "2   Casa e estilo de vida       63.0\n",
              "3        Comida e bebidas       63.2\n",
              "4      Esportes e viagens       60.4\n",
              "5          Saúde e beleza       62.3"
            ],
            "text/html": [
              "\n",
              "  <div id=\"df-d5f8e71b-ecfe-4f2d-bd89-0e8c0cb43166\">\n",
              "    <div class=\"colab-df-container\">\n",
              "      <div>\n",
              "<style scoped>\n",
              "    .dataframe tbody tr th:only-of-type {\n",
              "        vertical-align: middle;\n",
              "    }\n",
              "\n",
              "    .dataframe tbody tr th {\n",
              "        vertical-align: top;\n",
              "    }\n",
              "\n",
              "    .dataframe thead th {\n",
              "        text-align: right;\n",
              "    }\n",
              "</style>\n",
              "<table border=\"1\" class=\"dataframe\">\n",
              "  <thead>\n",
              "    <tr style=\"text-align: right;\">\n",
              "      <th></th>\n",
              "      <th>Linha de produto</th>\n",
              "      <th>Avaliação</th>\n",
              "    </tr>\n",
              "  </thead>\n",
              "  <tbody>\n",
              "    <tr>\n",
              "      <th>0</th>\n",
              "      <td>Acessórios eletrônicos</td>\n",
              "      <td>61.4</td>\n",
              "    </tr>\n",
              "    <tr>\n",
              "      <th>1</th>\n",
              "      <td>Acessórios fashions</td>\n",
              "      <td>64.8</td>\n",
              "    </tr>\n",
              "    <tr>\n",
              "      <th>2</th>\n",
              "      <td>Casa e estilo de vida</td>\n",
              "      <td>63.0</td>\n",
              "    </tr>\n",
              "    <tr>\n",
              "      <th>3</th>\n",
              "      <td>Comida e bebidas</td>\n",
              "      <td>63.2</td>\n",
              "    </tr>\n",
              "    <tr>\n",
              "      <th>4</th>\n",
              "      <td>Esportes e viagens</td>\n",
              "      <td>60.4</td>\n",
              "    </tr>\n",
              "    <tr>\n",
              "      <th>5</th>\n",
              "      <td>Saúde e beleza</td>\n",
              "      <td>62.3</td>\n",
              "    </tr>\n",
              "  </tbody>\n",
              "</table>\n",
              "</div>\n",
              "      <button class=\"colab-df-convert\" onclick=\"convertToInteractive('df-d5f8e71b-ecfe-4f2d-bd89-0e8c0cb43166')\"\n",
              "              title=\"Convert this dataframe to an interactive table.\"\n",
              "              style=\"display:none;\">\n",
              "        \n",
              "  <svg xmlns=\"http://www.w3.org/2000/svg\" height=\"24px\"viewBox=\"0 0 24 24\"\n",
              "       width=\"24px\">\n",
              "    <path d=\"M0 0h24v24H0V0z\" fill=\"none\"/>\n",
              "    <path d=\"M18.56 5.44l.94 2.06.94-2.06 2.06-.94-2.06-.94-.94-2.06-.94 2.06-2.06.94zm-11 1L8.5 8.5l.94-2.06 2.06-.94-2.06-.94L8.5 2.5l-.94 2.06-2.06.94zm10 10l.94 2.06.94-2.06 2.06-.94-2.06-.94-.94-2.06-.94 2.06-2.06.94z\"/><path d=\"M17.41 7.96l-1.37-1.37c-.4-.4-.92-.59-1.43-.59-.52 0-1.04.2-1.43.59L10.3 9.45l-7.72 7.72c-.78.78-.78 2.05 0 2.83L4 21.41c.39.39.9.59 1.41.59.51 0 1.02-.2 1.41-.59l7.78-7.78 2.81-2.81c.8-.78.8-2.07 0-2.86zM5.41 20L4 18.59l7.72-7.72 1.47 1.35L5.41 20z\"/>\n",
              "  </svg>\n",
              "      </button>\n",
              "      \n",
              "  <style>\n",
              "    .colab-df-container {\n",
              "      display:flex;\n",
              "      flex-wrap:wrap;\n",
              "      gap: 12px;\n",
              "    }\n",
              "\n",
              "    .colab-df-convert {\n",
              "      background-color: #E8F0FE;\n",
              "      border: none;\n",
              "      border-radius: 50%;\n",
              "      cursor: pointer;\n",
              "      display: none;\n",
              "      fill: #1967D2;\n",
              "      height: 32px;\n",
              "      padding: 0 0 0 0;\n",
              "      width: 32px;\n",
              "    }\n",
              "\n",
              "    .colab-df-convert:hover {\n",
              "      background-color: #E2EBFA;\n",
              "      box-shadow: 0px 1px 2px rgba(60, 64, 67, 0.3), 0px 1px 3px 1px rgba(60, 64, 67, 0.15);\n",
              "      fill: #174EA6;\n",
              "    }\n",
              "\n",
              "    [theme=dark] .colab-df-convert {\n",
              "      background-color: #3B4455;\n",
              "      fill: #D2E3FC;\n",
              "    }\n",
              "\n",
              "    [theme=dark] .colab-df-convert:hover {\n",
              "      background-color: #434B5C;\n",
              "      box-shadow: 0px 1px 3px 1px rgba(0, 0, 0, 0.15);\n",
              "      filter: drop-shadow(0px 1px 2px rgba(0, 0, 0, 0.3));\n",
              "      fill: #FFFFFF;\n",
              "    }\n",
              "  </style>\n",
              "\n",
              "      <script>\n",
              "        const buttonEl =\n",
              "          document.querySelector('#df-d5f8e71b-ecfe-4f2d-bd89-0e8c0cb43166 button.colab-df-convert');\n",
              "        buttonEl.style.display =\n",
              "          google.colab.kernel.accessAllowed ? 'block' : 'none';\n",
              "\n",
              "        async function convertToInteractive(key) {\n",
              "          const element = document.querySelector('#df-d5f8e71b-ecfe-4f2d-bd89-0e8c0cb43166');\n",
              "          const dataTable =\n",
              "            await google.colab.kernel.invokeFunction('convertToInteractive',\n",
              "                                                     [key], {});\n",
              "          if (!dataTable) return;\n",
              "\n",
              "          const docLinkHtml = 'Like what you see? Visit the ' +\n",
              "            '<a target=\"_blank\" href=https://colab.research.google.com/notebooks/data_table.ipynb>data table notebook</a>'\n",
              "            + ' to learn more about interactive tables.';\n",
              "          element.innerHTML = '';\n",
              "          dataTable['output_type'] = 'display_data';\n",
              "          await google.colab.output.renderOutput(dataTable, element);\n",
              "          const docLink = document.createElement('div');\n",
              "          docLink.innerHTML = docLinkHtml;\n",
              "          element.appendChild(docLink);\n",
              "        }\n",
              "      </script>\n",
              "    </div>\n",
              "  </div>\n",
              "  "
            ]
          },
          "metadata": {},
          "execution_count": 35
        }
      ]
    },
    {
      "cell_type": "markdown",
      "source": [
        "#<font color='red'>Por que ascending está falso?</font>\n"
      ],
      "metadata": {
        "id": "8zcPYbvkN1wM"
      }
    },
    {
      "cell_type": "markdown",
      "source": [
        "Está definido como False para ordenar os valores da coluna 'Avaliação' em ordem decrescente. Isso significa que os valores mais altos aparecerão primeiro na coluna 'Avaliação'."
      ],
      "metadata": {
        "id": "0_qcnI4gVV_r"
      }
    },
    {
      "cell_type": "code",
      "source": [
        "Agrupando_avaliação = Agrupando_avaliação.sort_values(by = 'Avaliação', ascending = False) #Classicando valores na ordem decrescente (maior para menor)"
      ],
      "metadata": {
        "id": "1B3ETgdTnub6"
      },
      "execution_count": 36,
      "outputs": []
    },
    {
      "cell_type": "code",
      "source": [
        "Agrupando_avaliação"
      ],
      "metadata": {
        "colab": {
          "base_uri": "https://localhost:8080/",
          "height": 237
        },
        "id": "rPAu-EysH0cV",
        "outputId": "b27013b9-149d-4939-a2a1-cd875b4d7fd7"
      },
      "execution_count": 37,
      "outputs": [
        {
          "output_type": "execute_result",
          "data": {
            "text/plain": [
              "         Linha de produto  Avaliação\n",
              "1     Acessórios fashions       64.8\n",
              "3        Comida e bebidas       63.2\n",
              "2   Casa e estilo de vida       63.0\n",
              "5          Saúde e beleza       62.3\n",
              "0  Acessórios eletrônicos       61.4\n",
              "4      Esportes e viagens       60.4"
            ],
            "text/html": [
              "\n",
              "  <div id=\"df-5404c2df-93a0-47e1-a1b8-697941ff1d58\">\n",
              "    <div class=\"colab-df-container\">\n",
              "      <div>\n",
              "<style scoped>\n",
              "    .dataframe tbody tr th:only-of-type {\n",
              "        vertical-align: middle;\n",
              "    }\n",
              "\n",
              "    .dataframe tbody tr th {\n",
              "        vertical-align: top;\n",
              "    }\n",
              "\n",
              "    .dataframe thead th {\n",
              "        text-align: right;\n",
              "    }\n",
              "</style>\n",
              "<table border=\"1\" class=\"dataframe\">\n",
              "  <thead>\n",
              "    <tr style=\"text-align: right;\">\n",
              "      <th></th>\n",
              "      <th>Linha de produto</th>\n",
              "      <th>Avaliação</th>\n",
              "    </tr>\n",
              "  </thead>\n",
              "  <tbody>\n",
              "    <tr>\n",
              "      <th>1</th>\n",
              "      <td>Acessórios fashions</td>\n",
              "      <td>64.8</td>\n",
              "    </tr>\n",
              "    <tr>\n",
              "      <th>3</th>\n",
              "      <td>Comida e bebidas</td>\n",
              "      <td>63.2</td>\n",
              "    </tr>\n",
              "    <tr>\n",
              "      <th>2</th>\n",
              "      <td>Casa e estilo de vida</td>\n",
              "      <td>63.0</td>\n",
              "    </tr>\n",
              "    <tr>\n",
              "      <th>5</th>\n",
              "      <td>Saúde e beleza</td>\n",
              "      <td>62.3</td>\n",
              "    </tr>\n",
              "    <tr>\n",
              "      <th>0</th>\n",
              "      <td>Acessórios eletrônicos</td>\n",
              "      <td>61.4</td>\n",
              "    </tr>\n",
              "    <tr>\n",
              "      <th>4</th>\n",
              "      <td>Esportes e viagens</td>\n",
              "      <td>60.4</td>\n",
              "    </tr>\n",
              "  </tbody>\n",
              "</table>\n",
              "</div>\n",
              "      <button class=\"colab-df-convert\" onclick=\"convertToInteractive('df-5404c2df-93a0-47e1-a1b8-697941ff1d58')\"\n",
              "              title=\"Convert this dataframe to an interactive table.\"\n",
              "              style=\"display:none;\">\n",
              "        \n",
              "  <svg xmlns=\"http://www.w3.org/2000/svg\" height=\"24px\"viewBox=\"0 0 24 24\"\n",
              "       width=\"24px\">\n",
              "    <path d=\"M0 0h24v24H0V0z\" fill=\"none\"/>\n",
              "    <path d=\"M18.56 5.44l.94 2.06.94-2.06 2.06-.94-2.06-.94-.94-2.06-.94 2.06-2.06.94zm-11 1L8.5 8.5l.94-2.06 2.06-.94-2.06-.94L8.5 2.5l-.94 2.06-2.06.94zm10 10l.94 2.06.94-2.06 2.06-.94-2.06-.94-.94-2.06-.94 2.06-2.06.94z\"/><path d=\"M17.41 7.96l-1.37-1.37c-.4-.4-.92-.59-1.43-.59-.52 0-1.04.2-1.43.59L10.3 9.45l-7.72 7.72c-.78.78-.78 2.05 0 2.83L4 21.41c.39.39.9.59 1.41.59.51 0 1.02-.2 1.41-.59l7.78-7.78 2.81-2.81c.8-.78.8-2.07 0-2.86zM5.41 20L4 18.59l7.72-7.72 1.47 1.35L5.41 20z\"/>\n",
              "  </svg>\n",
              "      </button>\n",
              "      \n",
              "  <style>\n",
              "    .colab-df-container {\n",
              "      display:flex;\n",
              "      flex-wrap:wrap;\n",
              "      gap: 12px;\n",
              "    }\n",
              "\n",
              "    .colab-df-convert {\n",
              "      background-color: #E8F0FE;\n",
              "      border: none;\n",
              "      border-radius: 50%;\n",
              "      cursor: pointer;\n",
              "      display: none;\n",
              "      fill: #1967D2;\n",
              "      height: 32px;\n",
              "      padding: 0 0 0 0;\n",
              "      width: 32px;\n",
              "    }\n",
              "\n",
              "    .colab-df-convert:hover {\n",
              "      background-color: #E2EBFA;\n",
              "      box-shadow: 0px 1px 2px rgba(60, 64, 67, 0.3), 0px 1px 3px 1px rgba(60, 64, 67, 0.15);\n",
              "      fill: #174EA6;\n",
              "    }\n",
              "\n",
              "    [theme=dark] .colab-df-convert {\n",
              "      background-color: #3B4455;\n",
              "      fill: #D2E3FC;\n",
              "    }\n",
              "\n",
              "    [theme=dark] .colab-df-convert:hover {\n",
              "      background-color: #434B5C;\n",
              "      box-shadow: 0px 1px 3px 1px rgba(0, 0, 0, 0.15);\n",
              "      filter: drop-shadow(0px 1px 2px rgba(0, 0, 0, 0.3));\n",
              "      fill: #FFFFFF;\n",
              "    }\n",
              "  </style>\n",
              "\n",
              "      <script>\n",
              "        const buttonEl =\n",
              "          document.querySelector('#df-5404c2df-93a0-47e1-a1b8-697941ff1d58 button.colab-df-convert');\n",
              "        buttonEl.style.display =\n",
              "          google.colab.kernel.accessAllowed ? 'block' : 'none';\n",
              "\n",
              "        async function convertToInteractive(key) {\n",
              "          const element = document.querySelector('#df-5404c2df-93a0-47e1-a1b8-697941ff1d58');\n",
              "          const dataTable =\n",
              "            await google.colab.kernel.invokeFunction('convertToInteractive',\n",
              "                                                     [key], {});\n",
              "          if (!dataTable) return;\n",
              "\n",
              "          const docLinkHtml = 'Like what you see? Visit the ' +\n",
              "            '<a target=\"_blank\" href=https://colab.research.google.com/notebooks/data_table.ipynb>data table notebook</a>'\n",
              "            + ' to learn more about interactive tables.';\n",
              "          element.innerHTML = '';\n",
              "          dataTable['output_type'] = 'display_data';\n",
              "          await google.colab.output.renderOutput(dataTable, element);\n",
              "          const docLink = document.createElement('div');\n",
              "          docLink.innerHTML = docLinkHtml;\n",
              "          element.appendChild(docLink);\n",
              "        }\n",
              "      </script>\n",
              "    </div>\n",
              "  </div>\n",
              "  "
            ]
          },
          "metadata": {},
          "execution_count": 37
        }
      ]
    },
    {
      "cell_type": "code",
      "source": [
        "Figura = sns.color_palette('gnuplot') #Apenas selecionado as cores do gráfico\n",
        "Figura.reverse() #Apenas invertendo a sequência de cores"
      ],
      "metadata": {
        "id": "-EpFpSOSoA_D"
      },
      "execution_count": 38,
      "outputs": []
    },
    {
      "cell_type": "markdown",
      "source": [
        "#<font color='red'>Explique de maneira resumida o que foi feito:</font>\n"
      ],
      "metadata": {
        "id": "MYKD3sNRIdWI"
      }
    },
    {
      "cell_type": "markdown",
      "source": [
        "foi feito um agrupamento e gerado um gráfico"
      ],
      "metadata": {
        "id": "FxHJYa0lVZeQ"
      }
    },
    {
      "cell_type": "code",
      "source": [
        "ax = sns.barplot(y = 'Linha de produto', x = 'Avaliação', data = Agrupando_avaliação, palette = Figura)\n",
        "plt.rcParams['figure.figsize'] = (18, 10) #Aumentar o tamanho da Figura\n",
        "ax.set_xlabel('Avaliação dos Clientes')\n",
        "plt.rcParams.update({\"font.size\": 18}) #Aumentar a letra\n",
        "plt.savefig('Linha_x_avaliacao.png', dpi=300)"
      ],
      "metadata": {
        "colab": {
          "base_uri": "https://localhost:8080/",
          "height": 449
        },
        "id": "ePlVIst1oKx0",
        "outputId": "b4be8121-73b5-4823-c34d-5369add11255"
      },
      "execution_count": 39,
      "outputs": [
        {
          "output_type": "display_data",
          "data": {
            "text/plain": [
              "<Figure size 640x480 with 1 Axes>"
            ],
            "image/png": "[encoded data removed]"
          },
          "metadata": {}
        }
      ]
    },
    {
      "cell_type": "markdown",
      "source": [
        "#<font color='red'>Qual é a linha de produto mais bem avaliada? Levante hipótese sobre esse resultado?</font>\n"
      ],
      "metadata": {
        "id": "lRacGULmObuS"
      }
    },
    {
      "cell_type": "markdown",
      "source": [
        "A linha de produto mais bem avaliada é Acessórios fashions, pois acredito que a loja deve ter alguns produtos interessantes e com um preço acessivel a todos, trazendo assim um bom gosto pela loja"
      ],
      "metadata": {
        "id": "h_kBd_3hVhM-"
      }
    },
    {
      "cell_type": "markdown",
      "source": [
        "# **2 Análise**"
      ],
      "metadata": {
        "id": "xieXmEooOsHo"
      }
    },
    {
      "cell_type": "markdown",
      "source": [
        "#<font color='red'>O faz a função abaixo?</font>\n"
      ],
      "metadata": {
        "id": "biyZDAzMKqgL"
      }
    },
    {
      "cell_type": "markdown",
      "source": [
        "Agrupa todos os produtos em linha e o total"
      ],
      "metadata": {
        "id": "GH7kgh6VVq9i"
      }
    },
    {
      "cell_type": "code",
      "source": [
        "agrupando_Produto_Total = df.groupby('Linha de produto')['Total'].mean().reset_index(drop=False) # Agrupando a coluna linha de produto e Total"
      ],
      "metadata": {
        "id": "HRcT6z_8oft4"
      },
      "execution_count": 40,
      "outputs": []
    },
    {
      "cell_type": "code",
      "source": [
        "agrupando_Produto_Total"
      ],
      "metadata": {
        "id": "gFZkgEAyLTLj",
        "colab": {
          "base_uri": "https://localhost:8080/",
          "height": 237
        },
        "outputId": "54b538cd-1be1-4422-a794-944f7349e41b"
      },
      "execution_count": 41,
      "outputs": [
        {
          "output_type": "execute_result",
          "data": {
            "text/plain": [
              "         Linha de produto        Total\n",
              "0  Acessórios eletrônicos  4278.573529\n",
              "1     Acessórios fashions  4043.292135\n",
              "2   Casa e estilo de vida  4455.973125\n",
              "3        Comida e bebidas  3912.985345\n",
              "4      Esportes e viagens  4351.833434\n",
              "5          Saúde e beleza  4024.018421"
            ],
            "text/html": [
              "\n",
              "  <div id=\"df-c9e43b16-595d-481d-891a-99fe258fa64f\">\n",
              "    <div class=\"colab-df-container\">\n",
              "      <div>\n",
              "<style scoped>\n",
              "    .dataframe tbody tr th:only-of-type {\n",
              "        vertical-align: middle;\n",
              "    }\n",
              "\n",
              "    .dataframe tbody tr th {\n",
              "        vertical-align: top;\n",
              "    }\n",
              "\n",
              "    .dataframe thead th {\n",
              "        text-align: right;\n",
              "    }\n",
              "</style>\n",
              "<table border=\"1\" class=\"dataframe\">\n",
              "  <thead>\n",
              "    <tr style=\"text-align: right;\">\n",
              "      <th></th>\n",
              "      <th>Linha de produto</th>\n",
              "      <th>Total</th>\n",
              "    </tr>\n",
              "  </thead>\n",
              "  <tbody>\n",
              "    <tr>\n",
              "      <th>0</th>\n",
              "      <td>Acessórios eletrônicos</td>\n",
              "      <td>4278.573529</td>\n",
              "    </tr>\n",
              "    <tr>\n",
              "      <th>1</th>\n",
              "      <td>Acessórios fashions</td>\n",
              "      <td>4043.292135</td>\n",
              "    </tr>\n",
              "    <tr>\n",
              "      <th>2</th>\n",
              "      <td>Casa e estilo de vida</td>\n",
              "      <td>4455.973125</td>\n",
              "    </tr>\n",
              "    <tr>\n",
              "      <th>3</th>\n",
              "      <td>Comida e bebidas</td>\n",
              "      <td>3912.985345</td>\n",
              "    </tr>\n",
              "    <tr>\n",
              "      <th>4</th>\n",
              "      <td>Esportes e viagens</td>\n",
              "      <td>4351.833434</td>\n",
              "    </tr>\n",
              "    <tr>\n",
              "      <th>5</th>\n",
              "      <td>Saúde e beleza</td>\n",
              "      <td>4024.018421</td>\n",
              "    </tr>\n",
              "  </tbody>\n",
              "</table>\n",
              "</div>\n",
              "      <button class=\"colab-df-convert\" onclick=\"convertToInteractive('df-c9e43b16-595d-481d-891a-99fe258fa64f')\"\n",
              "              title=\"Convert this dataframe to an interactive table.\"\n",
              "              style=\"display:none;\">\n",
              "        \n",
              "  <svg xmlns=\"http://www.w3.org/2000/svg\" height=\"24px\"viewBox=\"0 0 24 24\"\n",
              "       width=\"24px\">\n",
              "    <path d=\"M0 0h24v24H0V0z\" fill=\"none\"/>\n",
              "    <path d=\"M18.56 5.44l.94 2.06.94-2.06 2.06-.94-2.06-.94-.94-2.06-.94 2.06-2.06.94zm-11 1L8.5 8.5l.94-2.06 2.06-.94-2.06-.94L8.5 2.5l-.94 2.06-2.06.94zm10 10l.94 2.06.94-2.06 2.06-.94-2.06-.94-.94-2.06-.94 2.06-2.06.94z\"/><path d=\"M17.41 7.96l-1.37-1.37c-.4-.4-.92-.59-1.43-.59-.52 0-1.04.2-1.43.59L10.3 9.45l-7.72 7.72c-.78.78-.78 2.05 0 2.83L4 21.41c.39.39.9.59 1.41.59.51 0 1.02-.2 1.41-.59l7.78-7.78 2.81-2.81c.8-.78.8-2.07 0-2.86zM5.41 20L4 18.59l7.72-7.72 1.47 1.35L5.41 20z\"/>\n",
              "  </svg>\n",
              "      </button>\n",
              "      \n",
              "  <style>\n",
              "    .colab-df-container {\n",
              "      display:flex;\n",
              "      flex-wrap:wrap;\n",
              "      gap: 12px;\n",
              "    }\n",
              "\n",
              "    .colab-df-convert {\n",
              "      background-color: #E8F0FE;\n",
              "      border: none;\n",
              "      border-radius: 50%;\n",
              "      cursor: pointer;\n",
              "      display: none;\n",
              "      fill: #1967D2;\n",
              "      height: 32px;\n",
              "      padding: 0 0 0 0;\n",
              "      width: 32px;\n",
              "    }\n",
              "\n",
              "    .colab-df-convert:hover {\n",
              "      background-color: #E2EBFA;\n",
              "      box-shadow: 0px 1px 2px rgba(60, 64, 67, 0.3), 0px 1px 3px 1px rgba(60, 64, 67, 0.15);\n",
              "      fill: #174EA6;\n",
              "    }\n",
              "\n",
              "    [theme=dark] .colab-df-convert {\n",
              "      background-color: #3B4455;\n",
              "      fill: #D2E3FC;\n",
              "    }\n",
              "\n",
              "    [theme=dark] .colab-df-convert:hover {\n",
              "      background-color: #434B5C;\n",
              "      box-shadow: 0px 1px 3px 1px rgba(0, 0, 0, 0.15);\n",
              "      filter: drop-shadow(0px 1px 2px rgba(0, 0, 0, 0.3));\n",
              "      fill: #FFFFFF;\n",
              "    }\n",
              "  </style>\n",
              "\n",
              "      <script>\n",
              "        const buttonEl =\n",
              "          document.querySelector('#df-c9e43b16-595d-481d-891a-99fe258fa64f button.colab-df-convert');\n",
              "        buttonEl.style.display =\n",
              "          google.colab.kernel.accessAllowed ? 'block' : 'none';\n",
              "\n",
              "        async function convertToInteractive(key) {\n",
              "          const element = document.querySelector('#df-c9e43b16-595d-481d-891a-99fe258fa64f');\n",
              "          const dataTable =\n",
              "            await google.colab.kernel.invokeFunction('convertToInteractive',\n",
              "                                                     [key], {});\n",
              "          if (!dataTable) return;\n",
              "\n",
              "          const docLinkHtml = 'Like what you see? Visit the ' +\n",
              "            '<a target=\"_blank\" href=https://colab.research.google.com/notebooks/data_table.ipynb>data table notebook</a>'\n",
              "            + ' to learn more about interactive tables.';\n",
              "          element.innerHTML = '';\n",
              "          dataTable['output_type'] = 'display_data';\n",
              "          await google.colab.output.renderOutput(dataTable, element);\n",
              "          const docLink = document.createElement('div');\n",
              "          docLink.innerHTML = docLinkHtml;\n",
              "          element.appendChild(docLink);\n",
              "        }\n",
              "      </script>\n",
              "    </div>\n",
              "  </div>\n",
              "  "
            ]
          },
          "metadata": {},
          "execution_count": 41
        }
      ]
    },
    {
      "cell_type": "code",
      "source": [
        "agrupando_Produto_Total = agrupando_Produto_Total.round(1) # arredondamento para uma casa decimal"
      ],
      "metadata": {
        "id": "bwBLURP1LiTJ"
      },
      "execution_count": 42,
      "outputs": []
    },
    {
      "cell_type": "markdown",
      "source": [
        "#<font color='red'>Mude o gráfico abaixo para barras</font>\n"
      ],
      "metadata": {
        "id": "xrXoN-Kl4peQ"
      }
    },
    {
      "cell_type": "code",
      "source": [
        "fig, ax = plt.subplots(figsize=(16,12))\n",
        "ax = sns.barplot(x = 'Linha de produto', y = 'Total', data = agrupando_Produto_Total, ax = ax)\n",
        "plt.axhline(y=np.nanmean(df.Total), color='red', linestyle='--', linewidth=3, label='Média')\n",
        "plt.xticks(rotation = 45)"
      ],
      "metadata": {
        "colab": {
          "base_uri": "https://localhost:8080/",
          "height": 1000
        },
        "id": "iPTc2S0_MI0m",
        "outputId": "96327803-b31e-4628-eeb4-31e3d042129c"
      },
      "execution_count": 65,
      "outputs": [
        {
          "output_type": "execute_result",
          "data": {
            "text/plain": [
              "(array([0, 1, 2, 3, 4, 5]),\n",
              " [Text(0, 0, 'Acessórios eletrônicos'),\n",
              "  Text(1, 0, 'Acessórios fashions'),\n",
              "  Text(2, 0, 'Casa e estilo de vida'),\n",
              "  Text(3, 0, 'Comida e bebidas'),\n",
              "  Text(4, 0, 'Esportes e viagens'),\n",
              "  Text(5, 0, 'Saúde e beleza')])"
            ]
          },
          "metadata": {},
          "execution_count": 65
        },
        {
          "output_type": "display_data",
          "data": {
            "text/plain": [
              "<Figure size 1280x960 with 1 Axes>"
            ],
            "image/png": "[encoded data removed]"
          },
          "metadata": {}
        }
      ]
    },
    {
      "cell_type": "markdown",
      "source": [
        "#<font color='red'>Explique o gráfico acima</font>\n"
      ],
      "metadata": {
        "id": "CVCmH-yc41gq"
      }
    },
    {
      "cell_type": "markdown",
      "source": [
        "O gráfico acima está fazendo uma relação entre a categorias de produtos e o total de cada um, para que fique mais facíl vizualizar qual deles foi o mais vendido e teve um total maior."
      ],
      "metadata": {
        "id": "stDIOBz6WIYw"
      }
    },
    {
      "cell_type": "markdown",
      "source": [
        "# **3 Análise**"
      ],
      "metadata": {
        "id": "GWSn0N5z5EOY"
      }
    },
    {
      "cell_type": "markdown",
      "source": [
        "# Qual é a filial que tem a maior média de vendas (valor bruto)"
      ],
      "metadata": {
        "id": "n1PwjaGJQHaM"
      }
    },
    {
      "cell_type": "code",
      "source": [
        "df.head()"
      ],
      "metadata": {
        "colab": {
          "base_uri": "https://localhost:8080/",
          "height": 206
        },
        "id": "J_aLZWomM2fs",
        "outputId": "0d448776-3c26-434f-8148-f96a106eeb8b"
      },
      "execution_count": 44,
      "outputs": [
        {
          "output_type": "execute_result",
          "data": {
            "text/plain": [
              "  Filial Tipo de Cliente Gênero        Linha de produto  Preço unitário  \\\n",
              "0      A       Associado      F          Saúde e beleza         1120.35   \n",
              "1      C          Normal      F  Acessórios eletrônicos          229.20   \n",
              "2      A          Normal      M   Casa e estilo de vida          694.95   \n",
              "3      A       Associado      M          Saúde e beleza          873.30   \n",
              "4      A          Normal      M      Esportes e viagens         1294.65   \n",
              "\n",
              "   Quantidade    Total       Data Horário          Pagamento       COGS  \\\n",
              "0           7  7842.45    Janeiro   Tarde                PIX  4705.4700   \n",
              "1           5  1146.00      Março   Manhã           Dinheiro  1031.4000   \n",
              "2           7  4864.65      Março   Tarde  Cartão de Crédito  3405.2550   \n",
              "3           8  6986.40    Janeiro   Noite                PIX  4191.8400   \n",
              "4           7  9062.55  Fevereiro   Manhã                PIX  6796.9125   \n",
              "\n",
              "   Avaliação  \n",
              "0         91  \n",
              "1         96  \n",
              "2         74  \n",
              "3         84  \n",
              "4         53  "
            ],
            "text/html": [
              "\n",
              "  <div id=\"df-edd64bce-b7ab-4173-985a-fb28bdcdf6ad\">\n",
              "    <div class=\"colab-df-container\">\n",
              "      <div>\n",
              "<style scoped>\n",
              "    .dataframe tbody tr th:only-of-type {\n",
              "        vertical-align: middle;\n",
              "    }\n",
              "\n",
              "    .dataframe tbody tr th {\n",
              "        vertical-align: top;\n",
              "    }\n",
              "\n",
              "    .dataframe thead th {\n",
              "        text-align: right;\n",
              "    }\n",
              "</style>\n",
              "<table border=\"1\" class=\"dataframe\">\n",
              "  <thead>\n",
              "    <tr style=\"text-align: right;\">\n",
              "      <th></th>\n",
              "      <th>Filial</th>\n",
              "      <th>Tipo de Cliente</th>\n",
              "      <th>Gênero</th>\n",
              "      <th>Linha de produto</th>\n",
              "      <th>Preço unitário</th>\n",
              "      <th>Quantidade</th>\n",
              "      <th>Total</th>\n",
              "      <th>Data</th>\n",
              "      <th>Horário</th>\n",
              "      <th>Pagamento</th>\n",
              "      <th>COGS</th>\n",
              "      <th>Avaliação</th>\n",
              "    </tr>\n",
              "  </thead>\n",
              "  <tbody>\n",
              "    <tr>\n",
              "      <th>0</th>\n",
              "      <td>A</td>\n",
              "      <td>Associado</td>\n",
              "      <td>F</td>\n",
              "      <td>Saúde e beleza</td>\n",
              "      <td>1120.35</td>\n",
              "      <td>7</td>\n",
              "      <td>7842.45</td>\n",
              "      <td>Janeiro</td>\n",
              "      <td>Tarde</td>\n",
              "      <td>PIX</td>\n",
              "      <td>4705.4700</td>\n",
              "      <td>91</td>\n",
              "    </tr>\n",
              "    <tr>\n",
              "      <th>1</th>\n",
              "      <td>C</td>\n",
              "      <td>Normal</td>\n",
              "      <td>F</td>\n",
              "      <td>Acessórios eletrônicos</td>\n",
              "      <td>229.20</td>\n",
              "      <td>5</td>\n",
              "      <td>1146.00</td>\n",
              "      <td>Março</td>\n",
              "      <td>Manhã</td>\n",
              "      <td>Dinheiro</td>\n",
              "      <td>1031.4000</td>\n",
              "      <td>96</td>\n",
              "    </tr>\n",
              "    <tr>\n",
              "      <th>2</th>\n",
              "      <td>A</td>\n",
              "      <td>Normal</td>\n",
              "      <td>M</td>\n",
              "      <td>Casa e estilo de vida</td>\n",
              "      <td>694.95</td>\n",
              "      <td>7</td>\n",
              "      <td>4864.65</td>\n",
              "      <td>Março</td>\n",
              "      <td>Tarde</td>\n",
              "      <td>Cartão de Crédito</td>\n",
              "      <td>3405.2550</td>\n",
              "      <td>74</td>\n",
              "    </tr>\n",
              "    <tr>\n",
              "      <th>3</th>\n",
              "      <td>A</td>\n",
              "      <td>Associado</td>\n",
              "      <td>M</td>\n",
              "      <td>Saúde e beleza</td>\n",
              "      <td>873.30</td>\n",
              "      <td>8</td>\n",
              "      <td>6986.40</td>\n",
              "      <td>Janeiro</td>\n",
              "      <td>Noite</td>\n",
              "      <td>PIX</td>\n",
              "      <td>4191.8400</td>\n",
              "      <td>84</td>\n",
              "    </tr>\n",
              "    <tr>\n",
              "      <th>4</th>\n",
              "      <td>A</td>\n",
              "      <td>Normal</td>\n",
              "      <td>M</td>\n",
              "      <td>Esportes e viagens</td>\n",
              "      <td>1294.65</td>\n",
              "      <td>7</td>\n",
              "      <td>9062.55</td>\n",
              "      <td>Fevereiro</td>\n",
              "      <td>Manhã</td>\n",
              "      <td>PIX</td>\n",
              "      <td>6796.9125</td>\n",
              "      <td>53</td>\n",
              "    </tr>\n",
              "  </tbody>\n",
              "</table>\n",
              "</div>\n",
              "      <button class=\"colab-df-convert\" onclick=\"convertToInteractive('df-edd64bce-b7ab-4173-985a-fb28bdcdf6ad')\"\n",
              "              title=\"Convert this dataframe to an interactive table.\"\n",
              "              style=\"display:none;\">\n",
              "        \n",
              "  <svg xmlns=\"http://www.w3.org/2000/svg\" height=\"24px\"viewBox=\"0 0 24 24\"\n",
              "       width=\"24px\">\n",
              "    <path d=\"M0 0h24v24H0V0z\" fill=\"none\"/>\n",
              "    <path d=\"M18.56 5.44l.94 2.06.94-2.06 2.06-.94-2.06-.94-.94-2.06-.94 2.06-2.06.94zm-11 1L8.5 8.5l.94-2.06 2.06-.94-2.06-.94L8.5 2.5l-.94 2.06-2.06.94zm10 10l.94 2.06.94-2.06 2.06-.94-2.06-.94-.94-2.06-.94 2.06-2.06.94z\"/><path d=\"M17.41 7.96l-1.37-1.37c-.4-.4-.92-.59-1.43-.59-.52 0-1.04.2-1.43.59L10.3 9.45l-7.72 7.72c-.78.78-.78 2.05 0 2.83L4 21.41c.39.39.9.59 1.41.59.51 0 1.02-.2 1.41-.59l7.78-7.78 2.81-2.81c.8-.78.8-2.07 0-2.86zM5.41 20L4 18.59l7.72-7.72 1.47 1.35L5.41 20z\"/>\n",
              "  </svg>\n",
              "      </button>\n",
              "      \n",
              "  <style>\n",
              "    .colab-df-container {\n",
              "      display:flex;\n",
              "      flex-wrap:wrap;\n",
              "      gap: 12px;\n",
              "    }\n",
              "\n",
              "    .colab-df-convert {\n",
              "      background-color: #E8F0FE;\n",
              "      border: none;\n",
              "      border-radius: 50%;\n",
              "      cursor: pointer;\n",
              "      display: none;\n",
              "      fill: #1967D2;\n",
              "      height: 32px;\n",
              "      padding: 0 0 0 0;\n",
              "      width: 32px;\n",
              "    }\n",
              "\n",
              "    .colab-df-convert:hover {\n",
              "      background-color: #E2EBFA;\n",
              "      box-shadow: 0px 1px 2px rgba(60, 64, 67, 0.3), 0px 1px 3px 1px rgba(60, 64, 67, 0.15);\n",
              "      fill: #174EA6;\n",
              "    }\n",
              "\n",
              "    [theme=dark] .colab-df-convert {\n",
              "      background-color: #3B4455;\n",
              "      fill: #D2E3FC;\n",
              "    }\n",
              "\n",
              "    [theme=dark] .colab-df-convert:hover {\n",
              "      background-color: #434B5C;\n",
              "      box-shadow: 0px 1px 3px 1px rgba(0, 0, 0, 0.15);\n",
              "      filter: drop-shadow(0px 1px 2px rgba(0, 0, 0, 0.3));\n",
              "      fill: #FFFFFF;\n",
              "    }\n",
              "  </style>\n",
              "\n",
              "      <script>\n",
              "        const buttonEl =\n",
              "          document.querySelector('#df-edd64bce-b7ab-4173-985a-fb28bdcdf6ad button.colab-df-convert');\n",
              "        buttonEl.style.display =\n",
              "          google.colab.kernel.accessAllowed ? 'block' : 'none';\n",
              "\n",
              "        async function convertToInteractive(key) {\n",
              "          const element = document.querySelector('#df-edd64bce-b7ab-4173-985a-fb28bdcdf6ad');\n",
              "          const dataTable =\n",
              "            await google.colab.kernel.invokeFunction('convertToInteractive',\n",
              "                                                     [key], {});\n",
              "          if (!dataTable) return;\n",
              "\n",
              "          const docLinkHtml = 'Like what you see? Visit the ' +\n",
              "            '<a target=\"_blank\" href=https://colab.research.google.com/notebooks/data_table.ipynb>data table notebook</a>'\n",
              "            + ' to learn more about interactive tables.';\n",
              "          element.innerHTML = '';\n",
              "          dataTable['output_type'] = 'display_data';\n",
              "          await google.colab.output.renderOutput(dataTable, element);\n",
              "          const docLink = document.createElement('div');\n",
              "          docLink.innerHTML = docLinkHtml;\n",
              "          element.appendChild(docLink);\n",
              "        }\n",
              "      </script>\n",
              "    </div>\n",
              "  </div>\n",
              "  "
            ]
          },
          "metadata": {},
          "execution_count": 44
        }
      ]
    },
    {
      "cell_type": "markdown",
      "source": [
        "#<font color='red'>Explique a função abaixo</font>\n"
      ],
      "metadata": {
        "id": "12ryjrVM5LXV"
      }
    },
    {
      "cell_type": "markdown",
      "source": [
        "está agrupando pela filial da empresa e o seu total"
      ],
      "metadata": {
        "id": "Xb9c2Xe_WMoO"
      }
    },
    {
      "cell_type": "code",
      "source": [
        "agrupando_Filial_Total = df.groupby('Filial')['Total'].mean().reset_index(drop=False) "
      ],
      "metadata": {
        "id": "N9yrrSg-QwRJ"
      },
      "execution_count": 45,
      "outputs": []
    },
    {
      "cell_type": "code",
      "source": [
        "agrupando_Filial_Total "
      ],
      "metadata": {
        "colab": {
          "base_uri": "https://localhost:8080/",
          "height": 143
        },
        "id": "2yC2eClxRGC-",
        "outputId": "9f24a23c-49b8-44cd-aa15-4eadb3f63808"
      },
      "execution_count": 46,
      "outputs": [
        {
          "output_type": "execute_result",
          "data": {
            "text/plain": [
              "  Filial        Total\n",
              "0      A  4110.275294\n",
              "1      B  4179.079066\n",
              "2      C  4237.762043"
            ],
            "text/html": [
              "\n",
              "  <div id=\"df-78bbab40-88bb-40ee-8bd1-a3d09d972e0b\">\n",
              "    <div class=\"colab-df-container\">\n",
              "      <div>\n",
              "<style scoped>\n",
              "    .dataframe tbody tr th:only-of-type {\n",
              "        vertical-align: middle;\n",
              "    }\n",
              "\n",
              "    .dataframe tbody tr th {\n",
              "        vertical-align: top;\n",
              "    }\n",
              "\n",
              "    .dataframe thead th {\n",
              "        text-align: right;\n",
              "    }\n",
              "</style>\n",
              "<table border=\"1\" class=\"dataframe\">\n",
              "  <thead>\n",
              "    <tr style=\"text-align: right;\">\n",
              "      <th></th>\n",
              "      <th>Filial</th>\n",
              "      <th>Total</th>\n",
              "    </tr>\n",
              "  </thead>\n",
              "  <tbody>\n",
              "    <tr>\n",
              "      <th>0</th>\n",
              "      <td>A</td>\n",
              "      <td>4110.275294</td>\n",
              "    </tr>\n",
              "    <tr>\n",
              "      <th>1</th>\n",
              "      <td>B</td>\n",
              "      <td>4179.079066</td>\n",
              "    </tr>\n",
              "    <tr>\n",
              "      <th>2</th>\n",
              "      <td>C</td>\n",
              "      <td>4237.762043</td>\n",
              "    </tr>\n",
              "  </tbody>\n",
              "</table>\n",
              "</div>\n",
              "      <button class=\"colab-df-convert\" onclick=\"convertToInteractive('df-78bbab40-88bb-40ee-8bd1-a3d09d972e0b')\"\n",
              "              title=\"Convert this dataframe to an interactive table.\"\n",
              "              style=\"display:none;\">\n",
              "        \n",
              "  <svg xmlns=\"http://www.w3.org/2000/svg\" height=\"24px\"viewBox=\"0 0 24 24\"\n",
              "       width=\"24px\">\n",
              "    <path d=\"M0 0h24v24H0V0z\" fill=\"none\"/>\n",
              "    <path d=\"M18.56 5.44l.94 2.06.94-2.06 2.06-.94-2.06-.94-.94-2.06-.94 2.06-2.06.94zm-11 1L8.5 8.5l.94-2.06 2.06-.94-2.06-.94L8.5 2.5l-.94 2.06-2.06.94zm10 10l.94 2.06.94-2.06 2.06-.94-2.06-.94-.94-2.06-.94 2.06-2.06.94z\"/><path d=\"M17.41 7.96l-1.37-1.37c-.4-.4-.92-.59-1.43-.59-.52 0-1.04.2-1.43.59L10.3 9.45l-7.72 7.72c-.78.78-.78 2.05 0 2.83L4 21.41c.39.39.9.59 1.41.59.51 0 1.02-.2 1.41-.59l7.78-7.78 2.81-2.81c.8-.78.8-2.07 0-2.86zM5.41 20L4 18.59l7.72-7.72 1.47 1.35L5.41 20z\"/>\n",
              "  </svg>\n",
              "      </button>\n",
              "      \n",
              "  <style>\n",
              "    .colab-df-container {\n",
              "      display:flex;\n",
              "      flex-wrap:wrap;\n",
              "      gap: 12px;\n",
              "    }\n",
              "\n",
              "    .colab-df-convert {\n",
              "      background-color: #E8F0FE;\n",
              "      border: none;\n",
              "      border-radius: 50%;\n",
              "      cursor: pointer;\n",
              "      display: none;\n",
              "      fill: #1967D2;\n",
              "      height: 32px;\n",
              "      padding: 0 0 0 0;\n",
              "      width: 32px;\n",
              "    }\n",
              "\n",
              "    .colab-df-convert:hover {\n",
              "      background-color: #E2EBFA;\n",
              "      box-shadow: 0px 1px 2px rgba(60, 64, 67, 0.3), 0px 1px 3px 1px rgba(60, 64, 67, 0.15);\n",
              "      fill: #174EA6;\n",
              "    }\n",
              "\n",
              "    [theme=dark] .colab-df-convert {\n",
              "      background-color: #3B4455;\n",
              "      fill: #D2E3FC;\n",
              "    }\n",
              "\n",
              "    [theme=dark] .colab-df-convert:hover {\n",
              "      background-color: #434B5C;\n",
              "      box-shadow: 0px 1px 3px 1px rgba(0, 0, 0, 0.15);\n",
              "      filter: drop-shadow(0px 1px 2px rgba(0, 0, 0, 0.3));\n",
              "      fill: #FFFFFF;\n",
              "    }\n",
              "  </style>\n",
              "\n",
              "      <script>\n",
              "        const buttonEl =\n",
              "          document.querySelector('#df-78bbab40-88bb-40ee-8bd1-a3d09d972e0b button.colab-df-convert');\n",
              "        buttonEl.style.display =\n",
              "          google.colab.kernel.accessAllowed ? 'block' : 'none';\n",
              "\n",
              "        async function convertToInteractive(key) {\n",
              "          const element = document.querySelector('#df-78bbab40-88bb-40ee-8bd1-a3d09d972e0b');\n",
              "          const dataTable =\n",
              "            await google.colab.kernel.invokeFunction('convertToInteractive',\n",
              "                                                     [key], {});\n",
              "          if (!dataTable) return;\n",
              "\n",
              "          const docLinkHtml = 'Like what you see? Visit the ' +\n",
              "            '<a target=\"_blank\" href=https://colab.research.google.com/notebooks/data_table.ipynb>data table notebook</a>'\n",
              "            + ' to learn more about interactive tables.';\n",
              "          element.innerHTML = '';\n",
              "          dataTable['output_type'] = 'display_data';\n",
              "          await google.colab.output.renderOutput(dataTable, element);\n",
              "          const docLink = document.createElement('div');\n",
              "          docLink.innerHTML = docLinkHtml;\n",
              "          element.appendChild(docLink);\n",
              "        }\n",
              "      </script>\n",
              "    </div>\n",
              "  </div>\n",
              "  "
            ]
          },
          "metadata": {},
          "execution_count": 46
        }
      ]
    },
    {
      "cell_type": "markdown",
      "source": [
        "#<font color='red'>Mude para gráfico de barras</font>\n"
      ],
      "metadata": {
        "id": "EXZWkke75XZZ"
      }
    },
    {
      "cell_type": "code",
      "source": [
        "fig, ax = plt.subplots(figsize=(16, 12))\n",
        "sns.barplot(x='Filial', y='Total', data=agrupando_Filial_Total, ax=ax)\n",
        "ax.axhline(y=np.nanmean(df.Total), color='red', linestyle='--', linewidth=3, label='Média')\n",
        "plt.xticks(rotation=45)"
      ],
      "metadata": {
        "colab": {
          "base_uri": "https://localhost:8080/",
          "height": 865
        },
        "id": "f1MVybV_RHos",
        "outputId": "2dfab2ac-15c7-42dc-b1d9-deeda2899893"
      },
      "execution_count": 64,
      "outputs": [
        {
          "output_type": "execute_result",
          "data": {
            "text/plain": [
              "(array([0, 1, 2]), [Text(0, 0, 'A'), Text(1, 0, 'B'), Text(2, 0, 'C')])"
            ]
          },
          "metadata": {},
          "execution_count": 64
        },
        {
          "output_type": "display_data",
          "data": {
            "text/plain": [
              "<Figure size 1280x960 with 1 Axes>"
            ],
            "image/png": "[encoded data removed]"
          },
          "metadata": {}
        }
      ]
    },
    {
      "cell_type": "markdown",
      "source": [
        "#<font color='red'>Explique o gráfico acima</font>\n"
      ],
      "metadata": {
        "id": "Uuh_OrMW5c-I"
      }
    },
    {
      "cell_type": "markdown",
      "source": [
        "foi feito o código fig, ax = plt.subplots(figsize=(16, 12)) sns.barplot(x='Filial', y='Total', data=agrupando_Filial_Total, ax=ax) ax.axhline(y=np.nanmean(df.Total), color='red', linestyle='--', linewidth=3, label='Média') plt.xticks(rotation=45)"
      ],
      "metadata": {
        "id": "SjIVXVVvWwg5"
      }
    },
    {
      "cell_type": "markdown",
      "source": [
        "# **4 Análise**"
      ],
      "metadata": {
        "id": "-tKwIjRD5ioa"
      }
    },
    {
      "cell_type": "markdown",
      "source": [
        "# <font color='red'>Explique o gráfico a seguir, o que significa?</font>\n"
      ],
      "metadata": {
        "id": "742CNZn7SI4v"
      }
    },
    {
      "cell_type": "markdown",
      "source": [
        "O gráfico mostra como a quantidade de itens vendidos, se distribui em relação a diferentes linhas de produto e permitindo a identificação de diferenças significativas na distribuição de vendas entre elas."
      ],
      "metadata": {
        "id": "M_DtDpCNW0-A"
      }
    },
    {
      "cell_type": "code",
      "source": [
        "fig, ax = plt.subplots(figsize=(16,12))\n",
        "ax = sns.boxenplot(y='Linha de produto', x = 'Quantidade', data=df) #Cálculo da distribuição da quantidade em relação a linha de produto"
      ],
      "metadata": {
        "colab": {
          "base_uri": "https://localhost:8080/",
          "height": 1000
        },
        "id": "sCD7Ll-ORRFt",
        "outputId": "1dae70f7-ec3e-43fe-81da-ff465aa88eec"
      },
      "execution_count": 48,
      "outputs": [
        {
          "output_type": "display_data",
          "data": {
            "text/plain": [
              "<Figure size 1600x1200 with 1 Axes>"
            ],
            "image/png": "[encoded data removed]"
          },
          "metadata": {}
        }
      ]
    },
    {
      "cell_type": "code",
      "source": [
        "df.head()"
      ],
      "metadata": {
        "colab": {
          "base_uri": "https://localhost:8080/",
          "height": 206
        },
        "id": "09KzXFpBTkzn",
        "outputId": "280aed2b-4cab-4a38-acb7-d39c43e74bb7"
      },
      "execution_count": 49,
      "outputs": [
        {
          "output_type": "execute_result",
          "data": {
            "text/plain": [
              "  Filial Tipo de Cliente Gênero        Linha de produto  Preço unitário  \\\n",
              "0      A       Associado      F          Saúde e beleza         1120.35   \n",
              "1      C          Normal      F  Acessórios eletrônicos          229.20   \n",
              "2      A          Normal      M   Casa e estilo de vida          694.95   \n",
              "3      A       Associado      M          Saúde e beleza          873.30   \n",
              "4      A          Normal      M      Esportes e viagens         1294.65   \n",
              "\n",
              "   Quantidade    Total       Data Horário          Pagamento       COGS  \\\n",
              "0           7  7842.45    Janeiro   Tarde                PIX  4705.4700   \n",
              "1           5  1146.00      Março   Manhã           Dinheiro  1031.4000   \n",
              "2           7  4864.65      Março   Tarde  Cartão de Crédito  3405.2550   \n",
              "3           8  6986.40    Janeiro   Noite                PIX  4191.8400   \n",
              "4           7  9062.55  Fevereiro   Manhã                PIX  6796.9125   \n",
              "\n",
              "   Avaliação  \n",
              "0         91  \n",
              "1         96  \n",
              "2         74  \n",
              "3         84  \n",
              "4         53  "
            ],
            "text/html": [
              "\n",
              "  <div id=\"df-0fc25fb9-72cd-4101-8c5e-5df10a8f9516\">\n",
              "    <div class=\"colab-df-container\">\n",
              "      <div>\n",
              "<style scoped>\n",
              "    .dataframe tbody tr th:only-of-type {\n",
              "        vertical-align: middle;\n",
              "    }\n",
              "\n",
              "    .dataframe tbody tr th {\n",
              "        vertical-align: top;\n",
              "    }\n",
              "\n",
              "    .dataframe thead th {\n",
              "        text-align: right;\n",
              "    }\n",
              "</style>\n",
              "<table border=\"1\" class=\"dataframe\">\n",
              "  <thead>\n",
              "    <tr style=\"text-align: right;\">\n",
              "      <th></th>\n",
              "      <th>Filial</th>\n",
              "      <th>Tipo de Cliente</th>\n",
              "      <th>Gênero</th>\n",
              "      <th>Linha de produto</th>\n",
              "      <th>Preço unitário</th>\n",
              "      <th>Quantidade</th>\n",
              "      <th>Total</th>\n",
              "      <th>Data</th>\n",
              "      <th>Horário</th>\n",
              "      <th>Pagamento</th>\n",
              "      <th>COGS</th>\n",
              "      <th>Avaliação</th>\n",
              "    </tr>\n",
              "  </thead>\n",
              "  <tbody>\n",
              "    <tr>\n",
              "      <th>0</th>\n",
              "      <td>A</td>\n",
              "      <td>Associado</td>\n",
              "      <td>F</td>\n",
              "      <td>Saúde e beleza</td>\n",
              "      <td>1120.35</td>\n",
              "      <td>7</td>\n",
              "      <td>7842.45</td>\n",
              "      <td>Janeiro</td>\n",
              "      <td>Tarde</td>\n",
              "      <td>PIX</td>\n",
              "      <td>4705.4700</td>\n",
              "      <td>91</td>\n",
              "    </tr>\n",
              "    <tr>\n",
              "      <th>1</th>\n",
              "      <td>C</td>\n",
              "      <td>Normal</td>\n",
              "      <td>F</td>\n",
              "      <td>Acessórios eletrônicos</td>\n",
              "      <td>229.20</td>\n",
              "      <td>5</td>\n",
              "      <td>1146.00</td>\n",
              "      <td>Março</td>\n",
              "      <td>Manhã</td>\n",
              "      <td>Dinheiro</td>\n",
              "      <td>1031.4000</td>\n",
              "      <td>96</td>\n",
              "    </tr>\n",
              "    <tr>\n",
              "      <th>2</th>\n",
              "      <td>A</td>\n",
              "      <td>Normal</td>\n",
              "      <td>M</td>\n",
              "      <td>Casa e estilo de vida</td>\n",
              "      <td>694.95</td>\n",
              "      <td>7</td>\n",
              "      <td>4864.65</td>\n",
              "      <td>Março</td>\n",
              "      <td>Tarde</td>\n",
              "      <td>Cartão de Crédito</td>\n",
              "      <td>3405.2550</td>\n",
              "      <td>74</td>\n",
              "    </tr>\n",
              "    <tr>\n",
              "      <th>3</th>\n",
              "      <td>A</td>\n",
              "      <td>Associado</td>\n",
              "      <td>M</td>\n",
              "      <td>Saúde e beleza</td>\n",
              "      <td>873.30</td>\n",
              "      <td>8</td>\n",
              "      <td>6986.40</td>\n",
              "      <td>Janeiro</td>\n",
              "      <td>Noite</td>\n",
              "      <td>PIX</td>\n",
              "      <td>4191.8400</td>\n",
              "      <td>84</td>\n",
              "    </tr>\n",
              "    <tr>\n",
              "      <th>4</th>\n",
              "      <td>A</td>\n",
              "      <td>Normal</td>\n",
              "      <td>M</td>\n",
              "      <td>Esportes e viagens</td>\n",
              "      <td>1294.65</td>\n",
              "      <td>7</td>\n",
              "      <td>9062.55</td>\n",
              "      <td>Fevereiro</td>\n",
              "      <td>Manhã</td>\n",
              "      <td>PIX</td>\n",
              "      <td>6796.9125</td>\n",
              "      <td>53</td>\n",
              "    </tr>\n",
              "  </tbody>\n",
              "</table>\n",
              "</div>\n",
              "      <button class=\"colab-df-convert\" onclick=\"convertToInteractive('df-0fc25fb9-72cd-4101-8c5e-5df10a8f9516')\"\n",
              "              title=\"Convert this dataframe to an interactive table.\"\n",
              "              style=\"display:none;\">\n",
              "        \n",
              "  <svg xmlns=\"http://www.w3.org/2000/svg\" height=\"24px\"viewBox=\"0 0 24 24\"\n",
              "       width=\"24px\">\n",
              "    <path d=\"M0 0h24v24H0V0z\" fill=\"none\"/>\n",
              "    <path d=\"M18.56 5.44l.94 2.06.94-2.06 2.06-.94-2.06-.94-.94-2.06-.94 2.06-2.06.94zm-11 1L8.5 8.5l.94-2.06 2.06-.94-2.06-.94L8.5 2.5l-.94 2.06-2.06.94zm10 10l.94 2.06.94-2.06 2.06-.94-2.06-.94-.94-2.06-.94 2.06-2.06.94z\"/><path d=\"M17.41 7.96l-1.37-1.37c-.4-.4-.92-.59-1.43-.59-.52 0-1.04.2-1.43.59L10.3 9.45l-7.72 7.72c-.78.78-.78 2.05 0 2.83L4 21.41c.39.39.9.59 1.41.59.51 0 1.02-.2 1.41-.59l7.78-7.78 2.81-2.81c.8-.78.8-2.07 0-2.86zM5.41 20L4 18.59l7.72-7.72 1.47 1.35L5.41 20z\"/>\n",
              "  </svg>\n",
              "      </button>\n",
              "      \n",
              "  <style>\n",
              "    .colab-df-container {\n",
              "      display:flex;\n",
              "      flex-wrap:wrap;\n",
              "      gap: 12px;\n",
              "    }\n",
              "\n",
              "    .colab-df-convert {\n",
              "      background-color: #E8F0FE;\n",
              "      border: none;\n",
              "      border-radius: 50%;\n",
              "      cursor: pointer;\n",
              "      display: none;\n",
              "      fill: #1967D2;\n",
              "      height: 32px;\n",
              "      padding: 0 0 0 0;\n",
              "      width: 32px;\n",
              "    }\n",
              "\n",
              "    .colab-df-convert:hover {\n",
              "      background-color: #E2EBFA;\n",
              "      box-shadow: 0px 1px 2px rgba(60, 64, 67, 0.3), 0px 1px 3px 1px rgba(60, 64, 67, 0.15);\n",
              "      fill: #174EA6;\n",
              "    }\n",
              "\n",
              "    [theme=dark] .colab-df-convert {\n",
              "      background-color: #3B4455;\n",
              "      fill: #D2E3FC;\n",
              "    }\n",
              "\n",
              "    [theme=dark] .colab-df-convert:hover {\n",
              "      background-color: #434B5C;\n",
              "      box-shadow: 0px 1px 3px 1px rgba(0, 0, 0, 0.15);\n",
              "      filter: drop-shadow(0px 1px 2px rgba(0, 0, 0, 0.3));\n",
              "      fill: #FFFFFF;\n",
              "    }\n",
              "  </style>\n",
              "\n",
              "      <script>\n",
              "        const buttonEl =\n",
              "          document.querySelector('#df-0fc25fb9-72cd-4101-8c5e-5df10a8f9516 button.colab-df-convert');\n",
              "        buttonEl.style.display =\n",
              "          google.colab.kernel.accessAllowed ? 'block' : 'none';\n",
              "\n",
              "        async function convertToInteractive(key) {\n",
              "          const element = document.querySelector('#df-0fc25fb9-72cd-4101-8c5e-5df10a8f9516');\n",
              "          const dataTable =\n",
              "            await google.colab.kernel.invokeFunction('convertToInteractive',\n",
              "                                                     [key], {});\n",
              "          if (!dataTable) return;\n",
              "\n",
              "          const docLinkHtml = 'Like what you see? Visit the ' +\n",
              "            '<a target=\"_blank\" href=https://colab.research.google.com/notebooks/data_table.ipynb>data table notebook</a>'\n",
              "            + ' to learn more about interactive tables.';\n",
              "          element.innerHTML = '';\n",
              "          dataTable['output_type'] = 'display_data';\n",
              "          await google.colab.output.renderOutput(dataTable, element);\n",
              "          const docLink = document.createElement('div');\n",
              "          docLink.innerHTML = docLinkHtml;\n",
              "          element.appendChild(docLink);\n",
              "        }\n",
              "      </script>\n",
              "    </div>\n",
              "  </div>\n",
              "  "
            ]
          },
          "metadata": {},
          "execution_count": 49
        }
      ]
    },
    {
      "cell_type": "markdown",
      "source": [
        "# **5 Análise**"
      ],
      "metadata": {
        "id": "9J2PONzt6qde"
      }
    },
    {
      "cell_type": "markdown",
      "source": [
        "# <font color='red'>Por que 'Quantidade' está acompanhado sum()?</font>\n",
        "\n"
      ],
      "metadata": {
        "id": "kRJ4opKZV1fm"
      }
    },
    {
      "cell_type": "markdown",
      "source": [
        "Porque ele está somando todas as quantidades que existem para aquela devida data."
      ],
      "metadata": {
        "id": "wa4Cn5owW9YR"
      }
    },
    {
      "cell_type": "code",
      "source": [
        "Agrupando_Data_Quantidade = df.groupby('Data')['Quantidade'].sum().reset_index(drop=False)"
      ],
      "metadata": {
        "id": "9n8n8KnuWOPN"
      },
      "execution_count": 50,
      "outputs": []
    },
    {
      "cell_type": "code",
      "source": [
        "fig, ax = plt.subplots(figsize=(16,12))\n",
        "ax = sns.lineplot(x = 'Data', y ='Quantidade', data = Agrupando_Data_Quantidade, marker='o', markersize=10)"
      ],
      "metadata": {
        "colab": {
          "base_uri": "https://localhost:8080/",
          "height": 1000
        },
        "id": "CCXG8hACVnLt",
        "outputId": "fab51f58-f522-41fc-ffad-95be09ecc51e"
      },
      "execution_count": 51,
      "outputs": [
        {
          "output_type": "display_data",
          "data": {
            "text/plain": [
              "<Figure size 1600x1200 with 1 Axes>"
            ],
            "image/png": "[encoded data removed]"
          },
          "metadata": {}
        }
      ]
    },
    {
      "cell_type": "markdown",
      "source": [
        "# <font color='red'>Explique o gráfico acima, o que significa?</font>\n"
      ],
      "metadata": {
        "id": "hv-u-7Np6y6R"
      }
    },
    {
      "cell_type": "markdown",
      "source": [
        "O gráfico acima está representando a quantidade de itens por mês, como podemos analizar o mês de Janeiro teve a maior quantidade de itens, enquanto fevereiro teve a menor quantidade."
      ],
      "metadata": {
        "id": "JPcFZ3iHXAi7"
      }
    },
    {
      "cell_type": "code",
      "source": [
        "Agrupando_Data_Quantidade"
      ],
      "metadata": {
        "colab": {
          "base_uri": "https://localhost:8080/",
          "height": 143
        },
        "id": "7jGPCkqtWi6n",
        "outputId": "4d2f9357-8d93-4c2a-aa39-e59450c86790"
      },
      "execution_count": 52,
      "outputs": [
        {
          "output_type": "execute_result",
          "data": {
            "text/plain": [
              "        Data  Quantidade\n",
              "0  Fevereiro        1654\n",
              "1    Janeiro        1965\n",
              "2      Março        1891"
            ],
            "text/html": [
              "\n",
              "  <div id=\"df-875dcb2d-b401-4a87-a087-46ba63575d94\">\n",
              "    <div class=\"colab-df-container\">\n",
              "      <div>\n",
              "<style scoped>\n",
              "    .dataframe tbody tr th:only-of-type {\n",
              "        vertical-align: middle;\n",
              "    }\n",
              "\n",
              "    .dataframe tbody tr th {\n",
              "        vertical-align: top;\n",
              "    }\n",
              "\n",
              "    .dataframe thead th {\n",
              "        text-align: right;\n",
              "    }\n",
              "</style>\n",
              "<table border=\"1\" class=\"dataframe\">\n",
              "  <thead>\n",
              "    <tr style=\"text-align: right;\">\n",
              "      <th></th>\n",
              "      <th>Data</th>\n",
              "      <th>Quantidade</th>\n",
              "    </tr>\n",
              "  </thead>\n",
              "  <tbody>\n",
              "    <tr>\n",
              "      <th>0</th>\n",
              "      <td>Fevereiro</td>\n",
              "      <td>1654</td>\n",
              "    </tr>\n",
              "    <tr>\n",
              "      <th>1</th>\n",
              "      <td>Janeiro</td>\n",
              "      <td>1965</td>\n",
              "    </tr>\n",
              "    <tr>\n",
              "      <th>2</th>\n",
              "      <td>Março</td>\n",
              "      <td>1891</td>\n",
              "    </tr>\n",
              "  </tbody>\n",
              "</table>\n",
              "</div>\n",
              "      <button class=\"colab-df-convert\" onclick=\"convertToInteractive('df-875dcb2d-b401-4a87-a087-46ba63575d94')\"\n",
              "              title=\"Convert this dataframe to an interactive table.\"\n",
              "              style=\"display:none;\">\n",
              "        \n",
              "  <svg xmlns=\"http://www.w3.org/2000/svg\" height=\"24px\"viewBox=\"0 0 24 24\"\n",
              "       width=\"24px\">\n",
              "    <path d=\"M0 0h24v24H0V0z\" fill=\"none\"/>\n",
              "    <path d=\"M18.56 5.44l.94 2.06.94-2.06 2.06-.94-2.06-.94-.94-2.06-.94 2.06-2.06.94zm-11 1L8.5 8.5l.94-2.06 2.06-.94-2.06-.94L8.5 2.5l-.94 2.06-2.06.94zm10 10l.94 2.06.94-2.06 2.06-.94-2.06-.94-.94-2.06-.94 2.06-2.06.94z\"/><path d=\"M17.41 7.96l-1.37-1.37c-.4-.4-.92-.59-1.43-.59-.52 0-1.04.2-1.43.59L10.3 9.45l-7.72 7.72c-.78.78-.78 2.05 0 2.83L4 21.41c.39.39.9.59 1.41.59.51 0 1.02-.2 1.41-.59l7.78-7.78 2.81-2.81c.8-.78.8-2.07 0-2.86zM5.41 20L4 18.59l7.72-7.72 1.47 1.35L5.41 20z\"/>\n",
              "  </svg>\n",
              "      </button>\n",
              "      \n",
              "  <style>\n",
              "    .colab-df-container {\n",
              "      display:flex;\n",
              "      flex-wrap:wrap;\n",
              "      gap: 12px;\n",
              "    }\n",
              "\n",
              "    .colab-df-convert {\n",
              "      background-color: #E8F0FE;\n",
              "      border: none;\n",
              "      border-radius: 50%;\n",
              "      cursor: pointer;\n",
              "      display: none;\n",
              "      fill: #1967D2;\n",
              "      height: 32px;\n",
              "      padding: 0 0 0 0;\n",
              "      width: 32px;\n",
              "    }\n",
              "\n",
              "    .colab-df-convert:hover {\n",
              "      background-color: #E2EBFA;\n",
              "      box-shadow: 0px 1px 2px rgba(60, 64, 67, 0.3), 0px 1px 3px 1px rgba(60, 64, 67, 0.15);\n",
              "      fill: #174EA6;\n",
              "    }\n",
              "\n",
              "    [theme=dark] .colab-df-convert {\n",
              "      background-color: #3B4455;\n",
              "      fill: #D2E3FC;\n",
              "    }\n",
              "\n",
              "    [theme=dark] .colab-df-convert:hover {\n",
              "      background-color: #434B5C;\n",
              "      box-shadow: 0px 1px 3px 1px rgba(0, 0, 0, 0.15);\n",
              "      filter: drop-shadow(0px 1px 2px rgba(0, 0, 0, 0.3));\n",
              "      fill: #FFFFFF;\n",
              "    }\n",
              "  </style>\n",
              "\n",
              "      <script>\n",
              "        const buttonEl =\n",
              "          document.querySelector('#df-875dcb2d-b401-4a87-a087-46ba63575d94 button.colab-df-convert');\n",
              "        buttonEl.style.display =\n",
              "          google.colab.kernel.accessAllowed ? 'block' : 'none';\n",
              "\n",
              "        async function convertToInteractive(key) {\n",
              "          const element = document.querySelector('#df-875dcb2d-b401-4a87-a087-46ba63575d94');\n",
              "          const dataTable =\n",
              "            await google.colab.kernel.invokeFunction('convertToInteractive',\n",
              "                                                     [key], {});\n",
              "          if (!dataTable) return;\n",
              "\n",
              "          const docLinkHtml = 'Like what you see? Visit the ' +\n",
              "            '<a target=\"_blank\" href=https://colab.research.google.com/notebooks/data_table.ipynb>data table notebook</a>'\n",
              "            + ' to learn more about interactive tables.';\n",
              "          element.innerHTML = '';\n",
              "          dataTable['output_type'] = 'display_data';\n",
              "          await google.colab.output.renderOutput(dataTable, element);\n",
              "          const docLink = document.createElement('div');\n",
              "          docLink.innerHTML = docLinkHtml;\n",
              "          element.appendChild(docLink);\n",
              "        }\n",
              "      </script>\n",
              "    </div>\n",
              "  </div>\n",
              "  "
            ]
          },
          "metadata": {},
          "execution_count": 52
        }
      ]
    },
    {
      "cell_type": "code",
      "source": [
        "new_index = [1,0,2] #Alterando a ordem dos meses"
      ],
      "metadata": {
        "id": "-qHItx9SYBz9"
      },
      "execution_count": 53,
      "outputs": []
    },
    {
      "cell_type": "code",
      "source": [
        "Agrupando_Data_Quantidade = Agrupando_Data_Quantidade.reindex(new_index) # salvando"
      ],
      "metadata": {
        "id": "mzS0AGHFYSf1"
      },
      "execution_count": 54,
      "outputs": []
    },
    {
      "cell_type": "markdown",
      "source": [
        "# <font color='red'>Explique o código acima:</font>\n"
      ],
      "metadata": {
        "id": "Uotpai_G7JOi"
      }
    },
    {
      "cell_type": "markdown",
      "source": [
        "O código acima está alinhando os meses poís eles estavam fora de ordem."
      ],
      "metadata": {
        "id": "-0gvcWXhX4VA"
      }
    },
    {
      "cell_type": "code",
      "source": [
        "df.head()"
      ],
      "metadata": {
        "colab": {
          "base_uri": "https://localhost:8080/",
          "height": 206
        },
        "id": "pOFC8WAMYYcY",
        "outputId": "6c03dc56-80cf-42a7-94e0-4841d09f965d"
      },
      "execution_count": 55,
      "outputs": [
        {
          "output_type": "execute_result",
          "data": {
            "text/plain": [
              "  Filial Tipo de Cliente Gênero        Linha de produto  Preço unitário  \\\n",
              "0      A       Associado      F          Saúde e beleza         1120.35   \n",
              "1      C          Normal      F  Acessórios eletrônicos          229.20   \n",
              "2      A          Normal      M   Casa e estilo de vida          694.95   \n",
              "3      A       Associado      M          Saúde e beleza          873.30   \n",
              "4      A          Normal      M      Esportes e viagens         1294.65   \n",
              "\n",
              "   Quantidade    Total       Data Horário          Pagamento       COGS  \\\n",
              "0           7  7842.45    Janeiro   Tarde                PIX  4705.4700   \n",
              "1           5  1146.00      Março   Manhã           Dinheiro  1031.4000   \n",
              "2           7  4864.65      Março   Tarde  Cartão de Crédito  3405.2550   \n",
              "3           8  6986.40    Janeiro   Noite                PIX  4191.8400   \n",
              "4           7  9062.55  Fevereiro   Manhã                PIX  6796.9125   \n",
              "\n",
              "   Avaliação  \n",
              "0         91  \n",
              "1         96  \n",
              "2         74  \n",
              "3         84  \n",
              "4         53  "
            ],
            "text/html": [
              "\n",
              "  <div id=\"df-fe547c17-057a-4287-b667-045a1eaf6640\">\n",
              "    <div class=\"colab-df-container\">\n",
              "      <div>\n",
              "<style scoped>\n",
              "    .dataframe tbody tr th:only-of-type {\n",
              "        vertical-align: middle;\n",
              "    }\n",
              "\n",
              "    .dataframe tbody tr th {\n",
              "        vertical-align: top;\n",
              "    }\n",
              "\n",
              "    .dataframe thead th {\n",
              "        text-align: right;\n",
              "    }\n",
              "</style>\n",
              "<table border=\"1\" class=\"dataframe\">\n",
              "  <thead>\n",
              "    <tr style=\"text-align: right;\">\n",
              "      <th></th>\n",
              "      <th>Filial</th>\n",
              "      <th>Tipo de Cliente</th>\n",
              "      <th>Gênero</th>\n",
              "      <th>Linha de produto</th>\n",
              "      <th>Preço unitário</th>\n",
              "      <th>Quantidade</th>\n",
              "      <th>Total</th>\n",
              "      <th>Data</th>\n",
              "      <th>Horário</th>\n",
              "      <th>Pagamento</th>\n",
              "      <th>COGS</th>\n",
              "      <th>Avaliação</th>\n",
              "    </tr>\n",
              "  </thead>\n",
              "  <tbody>\n",
              "    <tr>\n",
              "      <th>0</th>\n",
              "      <td>A</td>\n",
              "      <td>Associado</td>\n",
              "      <td>F</td>\n",
              "      <td>Saúde e beleza</td>\n",
              "      <td>1120.35</td>\n",
              "      <td>7</td>\n",
              "      <td>7842.45</td>\n",
              "      <td>Janeiro</td>\n",
              "      <td>Tarde</td>\n",
              "      <td>PIX</td>\n",
              "      <td>4705.4700</td>\n",
              "      <td>91</td>\n",
              "    </tr>\n",
              "    <tr>\n",
              "      <th>1</th>\n",
              "      <td>C</td>\n",
              "      <td>Normal</td>\n",
              "      <td>F</td>\n",
              "      <td>Acessórios eletrônicos</td>\n",
              "      <td>229.20</td>\n",
              "      <td>5</td>\n",
              "      <td>1146.00</td>\n",
              "      <td>Março</td>\n",
              "      <td>Manhã</td>\n",
              "      <td>Dinheiro</td>\n",
              "      <td>1031.4000</td>\n",
              "      <td>96</td>\n",
              "    </tr>\n",
              "    <tr>\n",
              "      <th>2</th>\n",
              "      <td>A</td>\n",
              "      <td>Normal</td>\n",
              "      <td>M</td>\n",
              "      <td>Casa e estilo de vida</td>\n",
              "      <td>694.95</td>\n",
              "      <td>7</td>\n",
              "      <td>4864.65</td>\n",
              "      <td>Março</td>\n",
              "      <td>Tarde</td>\n",
              "      <td>Cartão de Crédito</td>\n",
              "      <td>3405.2550</td>\n",
              "      <td>74</td>\n",
              "    </tr>\n",
              "    <tr>\n",
              "      <th>3</th>\n",
              "      <td>A</td>\n",
              "      <td>Associado</td>\n",
              "      <td>M</td>\n",
              "      <td>Saúde e beleza</td>\n",
              "      <td>873.30</td>\n",
              "      <td>8</td>\n",
              "      <td>6986.40</td>\n",
              "      <td>Janeiro</td>\n",
              "      <td>Noite</td>\n",
              "      <td>PIX</td>\n",
              "      <td>4191.8400</td>\n",
              "      <td>84</td>\n",
              "    </tr>\n",
              "    <tr>\n",
              "      <th>4</th>\n",
              "      <td>A</td>\n",
              "      <td>Normal</td>\n",
              "      <td>M</td>\n",
              "      <td>Esportes e viagens</td>\n",
              "      <td>1294.65</td>\n",
              "      <td>7</td>\n",
              "      <td>9062.55</td>\n",
              "      <td>Fevereiro</td>\n",
              "      <td>Manhã</td>\n",
              "      <td>PIX</td>\n",
              "      <td>6796.9125</td>\n",
              "      <td>53</td>\n",
              "    </tr>\n",
              "  </tbody>\n",
              "</table>\n",
              "</div>\n",
              "      <button class=\"colab-df-convert\" onclick=\"convertToInteractive('df-fe547c17-057a-4287-b667-045a1eaf6640')\"\n",
              "              title=\"Convert this dataframe to an interactive table.\"\n",
              "              style=\"display:none;\">\n",
              "        \n",
              "  <svg xmlns=\"http://www.w3.org/2000/svg\" height=\"24px\"viewBox=\"0 0 24 24\"\n",
              "       width=\"24px\">\n",
              "    <path d=\"M0 0h24v24H0V0z\" fill=\"none\"/>\n",
              "    <path d=\"M18.56 5.44l.94 2.06.94-2.06 2.06-.94-2.06-.94-.94-2.06-.94 2.06-2.06.94zm-11 1L8.5 8.5l.94-2.06 2.06-.94-2.06-.94L8.5 2.5l-.94 2.06-2.06.94zm10 10l.94 2.06.94-2.06 2.06-.94-2.06-.94-.94-2.06-.94 2.06-2.06.94z\"/><path d=\"M17.41 7.96l-1.37-1.37c-.4-.4-.92-.59-1.43-.59-.52 0-1.04.2-1.43.59L10.3 9.45l-7.72 7.72c-.78.78-.78 2.05 0 2.83L4 21.41c.39.39.9.59 1.41.59.51 0 1.02-.2 1.41-.59l7.78-7.78 2.81-2.81c.8-.78.8-2.07 0-2.86zM5.41 20L4 18.59l7.72-7.72 1.47 1.35L5.41 20z\"/>\n",
              "  </svg>\n",
              "      </button>\n",
              "      \n",
              "  <style>\n",
              "    .colab-df-container {\n",
              "      display:flex;\n",
              "      flex-wrap:wrap;\n",
              "      gap: 12px;\n",
              "    }\n",
              "\n",
              "    .colab-df-convert {\n",
              "      background-color: #E8F0FE;\n",
              "      border: none;\n",
              "      border-radius: 50%;\n",
              "      cursor: pointer;\n",
              "      display: none;\n",
              "      fill: #1967D2;\n",
              "      height: 32px;\n",
              "      padding: 0 0 0 0;\n",
              "      width: 32px;\n",
              "    }\n",
              "\n",
              "    .colab-df-convert:hover {\n",
              "      background-color: #E2EBFA;\n",
              "      box-shadow: 0px 1px 2px rgba(60, 64, 67, 0.3), 0px 1px 3px 1px rgba(60, 64, 67, 0.15);\n",
              "      fill: #174EA6;\n",
              "    }\n",
              "\n",
              "    [theme=dark] .colab-df-convert {\n",
              "      background-color: #3B4455;\n",
              "      fill: #D2E3FC;\n",
              "    }\n",
              "\n",
              "    [theme=dark] .colab-df-convert:hover {\n",
              "      background-color: #434B5C;\n",
              "      box-shadow: 0px 1px 3px 1px rgba(0, 0, 0, 0.15);\n",
              "      filter: drop-shadow(0px 1px 2px rgba(0, 0, 0, 0.3));\n",
              "      fill: #FFFFFF;\n",
              "    }\n",
              "  </style>\n",
              "\n",
              "      <script>\n",
              "        const buttonEl =\n",
              "          document.querySelector('#df-fe547c17-057a-4287-b667-045a1eaf6640 button.colab-df-convert');\n",
              "        buttonEl.style.display =\n",
              "          google.colab.kernel.accessAllowed ? 'block' : 'none';\n",
              "\n",
              "        async function convertToInteractive(key) {\n",
              "          const element = document.querySelector('#df-fe547c17-057a-4287-b667-045a1eaf6640');\n",
              "          const dataTable =\n",
              "            await google.colab.kernel.invokeFunction('convertToInteractive',\n",
              "                                                     [key], {});\n",
              "          if (!dataTable) return;\n",
              "\n",
              "          const docLinkHtml = 'Like what you see? Visit the ' +\n",
              "            '<a target=\"_blank\" href=https://colab.research.google.com/notebooks/data_table.ipynb>data table notebook</a>'\n",
              "            + ' to learn more about interactive tables.';\n",
              "          element.innerHTML = '';\n",
              "          dataTable['output_type'] = 'display_data';\n",
              "          await google.colab.output.renderOutput(dataTable, element);\n",
              "          const docLink = document.createElement('div');\n",
              "          docLink.innerHTML = docLinkHtml;\n",
              "          element.appendChild(docLink);\n",
              "        }\n",
              "      </script>\n",
              "    </div>\n",
              "  </div>\n",
              "  "
            ]
          },
          "metadata": {},
          "execution_count": 55
        }
      ]
    },
    {
      "cell_type": "markdown",
      "source": [
        "# **6 Análise**"
      ],
      "metadata": {
        "id": "L7cbAJX37NNn"
      }
    },
    {
      "cell_type": "markdown",
      "source": [
        "# <font color='red'>Explique detalhamente o código abaixo:</font>\n"
      ],
      "metadata": {
        "id": "LlehlLUjgfzr"
      }
    },
    {
      "cell_type": "markdown",
      "source": [
        "O código abaixo está gerando um gráfico com relação ao tipo de cliente e o total, como podemos ver os associados tem 50,1% do total enquanto os normais tem 49,9% do total."
      ],
      "metadata": {
        "id": "5vOjZd74X7-v"
      }
    },
    {
      "cell_type": "code",
      "source": [
        "plt.style.use('classic') #Gráfico Clássico\n",
        "plt.style.use('bmh') #estilo cores\n",
        "df.groupby('Tipo de Cliente').count()['Total'].plot(kind='pie', autopct='%.1f', figsize=(16,12), subplots=True, wedgeprops=dict(width=0.20))"
      ],
      "metadata": {
        "colab": {
          "base_uri": "https://localhost:8080/",
          "height": 818
        },
        "id": "1De4LQKQgWhz",
        "outputId": "7b72b9dc-cd0a-4e31-8df7-4270c7dd8ebb"
      },
      "execution_count": 56,
      "outputs": [
        {
          "output_type": "execute_result",
          "data": {
            "text/plain": [
              "array([<Axes: ylabel='Total'>], dtype=object)"
            ]
          },
          "metadata": {},
          "execution_count": 56
        },
        {
          "output_type": "display_data",
          "data": {
            "text/plain": [
              "<Figure size 1280x960 with 1 Axes>"
            ],
            "image/png": "[encoded data removed]"
          },
          "metadata": {}
        }
      ]
    },
    {
      "cell_type": "code",
      "source": [
        "df.groupby('Tipo de Cliente').count()['Total']"
      ],
      "metadata": {
        "colab": {
          "base_uri": "https://localhost:8080/"
        },
        "id": "WH7JaBIl6eea",
        "outputId": "8cc5f38c-6b96-4581-ed77-1579b72377b4"
      },
      "execution_count": 57,
      "outputs": [
        {
          "output_type": "execute_result",
          "data": {
            "text/plain": [
              "Tipo de Cliente\n",
              "Associado    501\n",
              "Normal       499\n",
              "Name: Total, dtype: int64"
            ]
          },
          "metadata": {},
          "execution_count": 57
        }
      ]
    },
    {
      "cell_type": "markdown",
      "source": [
        "# <font color='red'>Está coerente o gráfico acima?</font>\n"
      ],
      "metadata": {
        "id": "fS5VeFO47jcC"
      }
    },
    {
      "cell_type": "markdown",
      "source": [
        "Sim, fica claro qual é o objetivo de expressão no caso qual é o total por tipo de cliente."
      ],
      "metadata": {
        "id": "n-ldapv8YXnT"
      }
    },
    {
      "cell_type": "markdown",
      "source": [
        "# **7 Análise**"
      ],
      "metadata": {
        "id": "6z8MwOsX7tjX"
      }
    },
    {
      "cell_type": "markdown",
      "source": [
        "# <font color='red'>Explique o código abaixo:</font>\n",
        "\n",
        "\n",
        "\n",
        "\n"
      ],
      "metadata": {
        "id": "QVRMUmoclN3T"
      }
    },
    {
      "cell_type": "markdown",
      "source": [
        "No código abaixo está gerrando um gráfico sobre as formas de pagamento e o total recebido de cada uma. Como podemos ver o mais recebido foi o pix com 34,5%, logo após o dinheiro com 34,4% e por ultimo o cartão de crédito com 31,1%."
      ],
      "metadata": {
        "id": "qadY-rY6YkRp"
      }
    },
    {
      "cell_type": "code",
      "source": [
        "plt.style.use('classic')\n",
        "plt.style.use('bmh')\n",
        "df.groupby('Pagamento').count()['Total'].plot(kind='pie', autopct='%.1f', figsize=(16,12), subplots=True, wedgeprops=dict(width=0.20))"
      ],
      "metadata": {
        "colab": {
          "base_uri": "https://localhost:8080/",
          "height": 818
        },
        "id": "ecKmLi2gk1nN",
        "outputId": "81370176-ff23-4ac6-8476-3f23cebfa293"
      },
      "execution_count": 58,
      "outputs": [
        {
          "output_type": "execute_result",
          "data": {
            "text/plain": [
              "array([<Axes: ylabel='Total'>], dtype=object)"
            ]
          },
          "metadata": {},
          "execution_count": 58
        },
        {
          "output_type": "display_data",
          "data": {
            "text/plain": [
              "<Figure size 1280x960 with 1 Axes>"
            ],
            "image/png": "[encoded data removed]"
          },
          "metadata": {}
        }
      ]
    },
    {
      "cell_type": "markdown",
      "source": [
        "# <font color='red'>O que significa o gráfico acima? Monte uma hipótese para esse resultado?</font>\n"
      ],
      "metadata": {
        "id": "BCDmMXEZ8Inb"
      }
    },
    {
      "cell_type": "markdown",
      "source": [
        "O gráfico acima representa a quantidade total de pagamentos efetuados pelas formas apresentadas, uma hipótese que pode ser criada é que as formas de recebimento são maiores em pix e dinheiro porque ambos não tem taxas, já no cartão existem taxas impostos entre outros."
      ],
      "metadata": {
        "id": "6B8FDe9WYoJB"
      }
    },
    {
      "cell_type": "markdown",
      "source": [
        "# **8 Análise**"
      ],
      "metadata": {
        "id": "2xvaUhNf8oRe"
      }
    },
    {
      "cell_type": "markdown",
      "source": [
        "# <font color='red'>Explique o código a seguir?</font>\n"
      ],
      "metadata": {
        "id": "vEYuHZH8nl4J"
      }
    },
    {
      "cell_type": "markdown",
      "source": [
        "Nos códigos abaixo, está sendo efetudado o agrupamento do total por horário, para assim ficar mais facil de identificar em qual horário teve o maior total de vendas e no final foi gerado o gráfico."
      ],
      "metadata": {
        "id": "g1wlyAq6YqVg"
      }
    },
    {
      "cell_type": "code",
      "source": [
        "agrupamento_horario_total = df.groupby('Horário')['Total'].mean().reset_index(drop=False)"
      ],
      "metadata": {
        "id": "qouaFOFrnp8s"
      },
      "execution_count": 59,
      "outputs": []
    },
    {
      "cell_type": "code",
      "source": [
        "agrupamento_horario_total"
      ],
      "metadata": {
        "colab": {
          "base_uri": "https://localhost:8080/",
          "height": 143
        },
        "id": "fY4Sj-ytoAgg",
        "outputId": "4f9444f5-06cb-43f9-e35d-12b8aef4a26a"
      },
      "execution_count": 60,
      "outputs": [
        {
          "output_type": "execute_result",
          "data": {
            "text/plain": [
              "  Horário        Total\n",
              "0   Manhã  4077.974464\n",
              "1   Noite  4196.399202\n",
              "2   Tarde  4218.379511"
            ],
            "text/html": [
              "\n",
              "  <div id=\"df-77ef952e-5fcf-4f9c-93b2-0b684be79fc1\">\n",
              "    <div class=\"colab-df-container\">\n",
              "      <div>\n",
              "<style scoped>\n",
              "    .dataframe tbody tr th:only-of-type {\n",
              "        vertical-align: middle;\n",
              "    }\n",
              "\n",
              "    .dataframe tbody tr th {\n",
              "        vertical-align: top;\n",
              "    }\n",
              "\n",
              "    .dataframe thead th {\n",
              "        text-align: right;\n",
              "    }\n",
              "</style>\n",
              "<table border=\"1\" class=\"dataframe\">\n",
              "  <thead>\n",
              "    <tr style=\"text-align: right;\">\n",
              "      <th></th>\n",
              "      <th>Horário</th>\n",
              "      <th>Total</th>\n",
              "    </tr>\n",
              "  </thead>\n",
              "  <tbody>\n",
              "    <tr>\n",
              "      <th>0</th>\n",
              "      <td>Manhã</td>\n",
              "      <td>4077.974464</td>\n",
              "    </tr>\n",
              "    <tr>\n",
              "      <th>1</th>\n",
              "      <td>Noite</td>\n",
              "      <td>4196.399202</td>\n",
              "    </tr>\n",
              "    <tr>\n",
              "      <th>2</th>\n",
              "      <td>Tarde</td>\n",
              "      <td>4218.379511</td>\n",
              "    </tr>\n",
              "  </tbody>\n",
              "</table>\n",
              "</div>\n",
              "      <button class=\"colab-df-convert\" onclick=\"convertToInteractive('df-77ef952e-5fcf-4f9c-93b2-0b684be79fc1')\"\n",
              "              title=\"Convert this dataframe to an interactive table.\"\n",
              "              style=\"display:none;\">\n",
              "        \n",
              "  <svg xmlns=\"http://www.w3.org/2000/svg\" height=\"24px\"viewBox=\"0 0 24 24\"\n",
              "       width=\"24px\">\n",
              "    <path d=\"M0 0h24v24H0V0z\" fill=\"none\"/>\n",
              "    <path d=\"M18.56 5.44l.94 2.06.94-2.06 2.06-.94-2.06-.94-.94-2.06-.94 2.06-2.06.94zm-11 1L8.5 8.5l.94-2.06 2.06-.94-2.06-.94L8.5 2.5l-.94 2.06-2.06.94zm10 10l.94 2.06.94-2.06 2.06-.94-2.06-.94-.94-2.06-.94 2.06-2.06.94z\"/><path d=\"M17.41 7.96l-1.37-1.37c-.4-.4-.92-.59-1.43-.59-.52 0-1.04.2-1.43.59L10.3 9.45l-7.72 7.72c-.78.78-.78 2.05 0 2.83L4 21.41c.39.39.9.59 1.41.59.51 0 1.02-.2 1.41-.59l7.78-7.78 2.81-2.81c.8-.78.8-2.07 0-2.86zM5.41 20L4 18.59l7.72-7.72 1.47 1.35L5.41 20z\"/>\n",
              "  </svg>\n",
              "      </button>\n",
              "      \n",
              "  <style>\n",
              "    .colab-df-container {\n",
              "      display:flex;\n",
              "      flex-wrap:wrap;\n",
              "      gap: 12px;\n",
              "    }\n",
              "\n",
              "    .colab-df-convert {\n",
              "      background-color: #E8F0FE;\n",
              "      border: none;\n",
              "      border-radius: 50%;\n",
              "      cursor: pointer;\n",
              "      display: none;\n",
              "      fill: #1967D2;\n",
              "      height: 32px;\n",
              "      padding: 0 0 0 0;\n",
              "      width: 32px;\n",
              "    }\n",
              "\n",
              "    .colab-df-convert:hover {\n",
              "      background-color: #E2EBFA;\n",
              "      box-shadow: 0px 1px 2px rgba(60, 64, 67, 0.3), 0px 1px 3px 1px rgba(60, 64, 67, 0.15);\n",
              "      fill: #174EA6;\n",
              "    }\n",
              "\n",
              "    [theme=dark] .colab-df-convert {\n",
              "      background-color: #3B4455;\n",
              "      fill: #D2E3FC;\n",
              "    }\n",
              "\n",
              "    [theme=dark] .colab-df-convert:hover {\n",
              "      background-color: #434B5C;\n",
              "      box-shadow: 0px 1px 3px 1px rgba(0, 0, 0, 0.15);\n",
              "      filter: drop-shadow(0px 1px 2px rgba(0, 0, 0, 0.3));\n",
              "      fill: #FFFFFF;\n",
              "    }\n",
              "  </style>\n",
              "\n",
              "      <script>\n",
              "        const buttonEl =\n",
              "          document.querySelector('#df-77ef952e-5fcf-4f9c-93b2-0b684be79fc1 button.colab-df-convert');\n",
              "        buttonEl.style.display =\n",
              "          google.colab.kernel.accessAllowed ? 'block' : 'none';\n",
              "\n",
              "        async function convertToInteractive(key) {\n",
              "          const element = document.querySelector('#df-77ef952e-5fcf-4f9c-93b2-0b684be79fc1');\n",
              "          const dataTable =\n",
              "            await google.colab.kernel.invokeFunction('convertToInteractive',\n",
              "                                                     [key], {});\n",
              "          if (!dataTable) return;\n",
              "\n",
              "          const docLinkHtml = 'Like what you see? Visit the ' +\n",
              "            '<a target=\"_blank\" href=https://colab.research.google.com/notebooks/data_table.ipynb>data table notebook</a>'\n",
              "            + ' to learn more about interactive tables.';\n",
              "          element.innerHTML = '';\n",
              "          dataTable['output_type'] = 'display_data';\n",
              "          await google.colab.output.renderOutput(dataTable, element);\n",
              "          const docLink = document.createElement('div');\n",
              "          docLink.innerHTML = docLinkHtml;\n",
              "          element.appendChild(docLink);\n",
              "        }\n",
              "      </script>\n",
              "    </div>\n",
              "  </div>\n",
              "  "
            ]
          },
          "metadata": {},
          "execution_count": 60
        }
      ]
    },
    {
      "cell_type": "code",
      "source": [
        "sns.lineplot(x = 'Horário', y = 'Total', data = agrupamento_horario_total, marker='o', markersize=12, linewidth=2)"
      ],
      "metadata": {
        "colab": {
          "base_uri": "https://localhost:8080/",
          "height": 478
        },
        "id": "3FL7plpioD_L",
        "outputId": "535997d9-89b4-4519-c1ab-df7f2acf0d99"
      },
      "execution_count": 61,
      "outputs": [
        {
          "output_type": "execute_result",
          "data": {
            "text/plain": [
              "<Axes: xlabel='Horário', ylabel='Total'>"
            ]
          },
          "metadata": {},
          "execution_count": 61
        },
        {
          "output_type": "display_data",
          "data": {
            "text/plain": [
              "<Figure size 640x480 with 1 Axes>"
            ],
            "image/png": "[encoded data removed]"
          },
          "metadata": {}
        }
      ]
    },
    {
      "cell_type": "markdown",
      "source": [
        "# <font color='red'>Qual sua hipótese em relação ao gráfico acima:</font>\n"
      ],
      "metadata": {
        "id": "ABKCTLoi8-7p"
      }
    },
    {
      "cell_type": "markdown",
      "source": [
        "A hipótese é que a maior parte das vendas ocorre a tarde porque existe um maior fluxo de pessoas e também geralmente as pessoas saem do trabalho e vão fazer suas compras, já na parte da manhã ocorre poucas vendas pois não há muito movimento de pessoas."
      ],
      "metadata": {
        "id": "zeQzrAv-Yt-O"
      }
    },
    {
      "cell_type": "markdown",
      "source": [
        "# 9 Análise"
      ],
      "metadata": {
        "id": "lCOaoQs_9K-c"
      }
    },
    {
      "cell_type": "code",
      "source": [
        "df['Lucro'] = df['Total'] - df['COGS']"
      ],
      "metadata": {
        "id": "UxRzhcVAqxFL"
      },
      "execution_count": 62,
      "outputs": []
    },
    {
      "cell_type": "code",
      "source": [
        "df"
      ],
      "metadata": {
        "id": "z1ZzCF35rv9E",
        "outputId": "ac78e107-4fe4-4b1e-8a38-d9f057c191b9",
        "colab": {
          "base_uri": "https://localhost:8080/",
          "height": 423
        }
      },
      "execution_count": 63,
      "outputs": [
        {
          "output_type": "execute_result",
          "data": {
            "text/plain": [
              "    Filial Tipo de Cliente Gênero        Linha de produto  Preço unitário  \\\n",
              "0        A       Associado      F          Saúde e beleza         1120.35   \n",
              "1        C          Normal      F  Acessórios eletrônicos          229.20   \n",
              "2        A          Normal      M   Casa e estilo de vida          694.95   \n",
              "3        A       Associado      M          Saúde e beleza          873.30   \n",
              "4        A          Normal      M      Esportes e viagens         1294.65   \n",
              "..     ...             ...    ...                     ...             ...   \n",
              "995      C          Normal      M          Saúde e beleza          605.25   \n",
              "996      B          Normal      F   Casa e estilo de vida         1460.70   \n",
              "997      A       Associado      M        Comida e bebidas          477.60   \n",
              "998      A          Normal      M   Casa e estilo de vida          987.30   \n",
              "999      A       Associado      F     Acessórios fashions         1325.10   \n",
              "\n",
              "     Quantidade     Total       Data Horário          Pagamento        COGS  \\\n",
              "0             7   7842.45    Janeiro   Tarde                PIX   4705.4700   \n",
              "1             5   1146.00      Março   Manhã           Dinheiro   1031.4000   \n",
              "2             7   4864.65      Março   Tarde  Cartão de Crédito   3405.2550   \n",
              "3             8   6986.40    Janeiro   Noite                PIX   4191.8400   \n",
              "4             7   9062.55  Fevereiro   Manhã                PIX   6796.9125   \n",
              "..          ...       ...        ...     ...                ...         ...   \n",
              "995           1    605.25    Janeiro   Tarde                PIX    363.1500   \n",
              "996          10  14607.00      Março   Tarde                PIX  10224.9000   \n",
              "997           1    477.60  Fevereiro   Tarde           Dinheiro    405.9600   \n",
              "998           1    987.30  Fevereiro   Tarde           Dinheiro    691.1100   \n",
              "999           7   9275.70  Fevereiro   Tarde           Dinheiro   6956.7750   \n",
              "\n",
              "     Avaliação      Lucro  \n",
              "0           91  3136.9800  \n",
              "1           96   114.6000  \n",
              "2           74  1459.3950  \n",
              "3           84  2794.5600  \n",
              "4           53  2265.6375  \n",
              "..         ...        ...  \n",
              "995         62   242.1000  \n",
              "996         44  4382.1000  \n",
              "997         77    71.6400  \n",
              "998         41   296.1900  \n",
              "999         66  2318.9250  \n",
              "\n",
              "[1000 rows x 13 columns]"
            ],
            "text/html": [
              "\n",
              "  <div id=\"df-76573b8f-abe3-4ed2-a769-3596e37af5c7\">\n",
              "    <div class=\"colab-df-container\">\n",
              "      <div>\n",
              "<style scoped>\n",
              "    .dataframe tbody tr th:only-of-type {\n",
              "        vertical-align: middle;\n",
              "    }\n",
              "\n",
              "    .dataframe tbody tr th {\n",
              "        vertical-align: top;\n",
              "    }\n",
              "\n",
              "    .dataframe thead th {\n",
              "        text-align: right;\n",
              "    }\n",
              "</style>\n",
              "<table border=\"1\" class=\"dataframe\">\n",
              "  <thead>\n",
              "    <tr style=\"text-align: right;\">\n",
              "      <th></th>\n",
              "      <th>Filial</th>\n",
              "      <th>Tipo de Cliente</th>\n",
              "      <th>Gênero</th>\n",
              "      <th>Linha de produto</th>\n",
              "      <th>Preço unitário</th>\n",
              "      <th>Quantidade</th>\n",
              "      <th>Total</th>\n",
              "      <th>Data</th>\n",
              "      <th>Horário</th>\n",
              "      <th>Pagamento</th>\n",
              "      <th>COGS</th>\n",
              "      <th>Avaliação</th>\n",
              "      <th>Lucro</th>\n",
              "    </tr>\n",
              "  </thead>\n",
              "  <tbody>\n",
              "    <tr>\n",
              "      <th>0</th>\n",
              "      <td>A</td>\n",
              "      <td>Associado</td>\n",
              "      <td>F</td>\n",
              "      <td>Saúde e beleza</td>\n",
              "      <td>1120.35</td>\n",
              "      <td>7</td>\n",
              "      <td>7842.45</td>\n",
              "      <td>Janeiro</td>\n",
              "      <td>Tarde</td>\n",
              "      <td>PIX</td>\n",
              "      <td>4705.4700</td>\n",
              "      <td>91</td>\n",
              "      <td>3136.9800</td>\n",
              "    </tr>\n",
              "    <tr>\n",
              "      <th>1</th>\n",
              "      <td>C</td>\n",
              "      <td>Normal</td>\n",
              "      <td>F</td>\n",
              "      <td>Acessórios eletrônicos</td>\n",
              "      <td>229.20</td>\n",
              "      <td>5</td>\n",
              "      <td>1146.00</td>\n",
              "      <td>Março</td>\n",
              "      <td>Manhã</td>\n",
              "      <td>Dinheiro</td>\n",
              "      <td>1031.4000</td>\n",
              "      <td>96</td>\n",
              "      <td>114.6000</td>\n",
              "    </tr>\n",
              "    <tr>\n",
              "      <th>2</th>\n",
              "      <td>A</td>\n",
              "      <td>Normal</td>\n",
              "      <td>M</td>\n",
              "      <td>Casa e estilo de vida</td>\n",
              "      <td>694.95</td>\n",
              "      <td>7</td>\n",
              "      <td>4864.65</td>\n",
              "      <td>Março</td>\n",
              "      <td>Tarde</td>\n",
              "      <td>Cartão de Crédito</td>\n",
              "      <td>3405.2550</td>\n",
              "      <td>74</td>\n",
              "      <td>1459.3950</td>\n",
              "    </tr>\n",
              "    <tr>\n",
              "      <th>3</th>\n",
              "      <td>A</td>\n",
              "      <td>Associado</td>\n",
              "      <td>M</td>\n",
              "      <td>Saúde e beleza</td>\n",
              "      <td>873.30</td>\n",
              "      <td>8</td>\n",
              "      <td>6986.40</td>\n",
              "      <td>Janeiro</td>\n",
              "      <td>Noite</td>\n",
              "      <td>PIX</td>\n",
              "      <td>4191.8400</td>\n",
              "      <td>84</td>\n",
              "      <td>2794.5600</td>\n",
              "    </tr>\n",
              "    <tr>\n",
              "      <th>4</th>\n",
              "      <td>A</td>\n",
              "      <td>Normal</td>\n",
              "      <td>M</td>\n",
              "      <td>Esportes e viagens</td>\n",
              "      <td>1294.65</td>\n",
              "      <td>7</td>\n",
              "      <td>9062.55</td>\n",
              "      <td>Fevereiro</td>\n",
              "      <td>Manhã</td>\n",
              "      <td>PIX</td>\n",
              "      <td>6796.9125</td>\n",
              "      <td>53</td>\n",
              "      <td>2265.6375</td>\n",
              "    </tr>\n",
              "    <tr>\n",
              "      <th>...</th>\n",
              "      <td>...</td>\n",
              "      <td>...</td>\n",
              "      <td>...</td>\n",
              "      <td>...</td>\n",
              "      <td>...</td>\n",
              "      <td>...</td>\n",
              "      <td>...</td>\n",
              "      <td>...</td>\n",
              "      <td>...</td>\n",
              "      <td>...</td>\n",
              "      <td>...</td>\n",
              "      <td>...</td>\n",
              "      <td>...</td>\n",
              "    </tr>\n",
              "    <tr>\n",
              "      <th>995</th>\n",
              "      <td>C</td>\n",
              "      <td>Normal</td>\n",
              "      <td>M</td>\n",
              "      <td>Saúde e beleza</td>\n",
              "      <td>605.25</td>\n",
              "      <td>1</td>\n",
              "      <td>605.25</td>\n",
              "      <td>Janeiro</td>\n",
              "      <td>Tarde</td>\n",
              "      <td>PIX</td>\n",
              "      <td>363.1500</td>\n",
              "      <td>62</td>\n",
              "      <td>242.1000</td>\n",
              "    </tr>\n",
              "    <tr>\n",
              "      <th>996</th>\n",
              "      <td>B</td>\n",
              "      <td>Normal</td>\n",
              "      <td>F</td>\n",
              "      <td>Casa e estilo de vida</td>\n",
              "      <td>1460.70</td>\n",
              "      <td>10</td>\n",
              "      <td>14607.00</td>\n",
              "      <td>Março</td>\n",
              "      <td>Tarde</td>\n",
              "      <td>PIX</td>\n",
              "      <td>10224.9000</td>\n",
              "      <td>44</td>\n",
              "      <td>4382.1000</td>\n",
              "    </tr>\n",
              "    <tr>\n",
              "      <th>997</th>\n",
              "      <td>A</td>\n",
              "      <td>Associado</td>\n",
              "      <td>M</td>\n",
              "      <td>Comida e bebidas</td>\n",
              "      <td>477.60</td>\n",
              "      <td>1</td>\n",
              "      <td>477.60</td>\n",
              "      <td>Fevereiro</td>\n",
              "      <td>Tarde</td>\n",
              "      <td>Dinheiro</td>\n",
              "      <td>405.9600</td>\n",
              "      <td>77</td>\n",
              "      <td>71.6400</td>\n",
              "    </tr>\n",
              "    <tr>\n",
              "      <th>998</th>\n",
              "      <td>A</td>\n",
              "      <td>Normal</td>\n",
              "      <td>M</td>\n",
              "      <td>Casa e estilo de vida</td>\n",
              "      <td>987.30</td>\n",
              "      <td>1</td>\n",
              "      <td>987.30</td>\n",
              "      <td>Fevereiro</td>\n",
              "      <td>Tarde</td>\n",
              "      <td>Dinheiro</td>\n",
              "      <td>691.1100</td>\n",
              "      <td>41</td>\n",
              "      <td>296.1900</td>\n",
              "    </tr>\n",
              "    <tr>\n",
              "      <th>999</th>\n",
              "      <td>A</td>\n",
              "      <td>Associado</td>\n",
              "      <td>F</td>\n",
              "      <td>Acessórios fashions</td>\n",
              "      <td>1325.10</td>\n",
              "      <td>7</td>\n",
              "      <td>9275.70</td>\n",
              "      <td>Fevereiro</td>\n",
              "      <td>Tarde</td>\n",
              "      <td>Dinheiro</td>\n",
              "      <td>6956.7750</td>\n",
              "      <td>66</td>\n",
              "      <td>2318.9250</td>\n",
              "    </tr>\n",
              "  </tbody>\n",
              "</table>\n",
              "<p>1000 rows × 13 columns</p>\n",
              "</div>\n",
              "      <button class=\"colab-df-convert\" onclick=\"convertToInteractive('df-76573b8f-abe3-4ed2-a769-3596e37af5c7')\"\n",
              "              title=\"Convert this dataframe to an interactive table.\"\n",
              "              style=\"display:none;\">\n",
              "        \n",
              "  <svg xmlns=\"http://www.w3.org/2000/svg\" height=\"24px\"viewBox=\"0 0 24 24\"\n",
              "       width=\"24px\">\n",
              "    <path d=\"M0 0h24v24H0V0z\" fill=\"none\"/>\n",
              "    <path d=\"M18.56 5.44l.94 2.06.94-2.06 2.06-.94-2.06-.94-.94-2.06-.94 2.06-2.06.94zm-11 1L8.5 8.5l.94-2.06 2.06-.94-2.06-.94L8.5 2.5l-.94 2.06-2.06.94zm10 10l.94 2.06.94-2.06 2.06-.94-2.06-.94-.94-2.06-.94 2.06-2.06.94z\"/><path d=\"M17.41 7.96l-1.37-1.37c-.4-.4-.92-.59-1.43-.59-.52 0-1.04.2-1.43.59L10.3 9.45l-7.72 7.72c-.78.78-.78 2.05 0 2.83L4 21.41c.39.39.9.59 1.41.59.51 0 1.02-.2 1.41-.59l7.78-7.78 2.81-2.81c.8-.78.8-2.07 0-2.86zM5.41 20L4 18.59l7.72-7.72 1.47 1.35L5.41 20z\"/>\n",
              "  </svg>\n",
              "      </button>\n",
              "      \n",
              "  <style>\n",
              "    .colab-df-container {\n",
              "      display:flex;\n",
              "      flex-wrap:wrap;\n",
              "      gap: 12px;\n",
              "    }\n",
              "\n",
              "    .colab-df-convert {\n",
              "      background-color: #E8F0FE;\n",
              "      border: none;\n",
              "      border-radius: 50%;\n",
              "      cursor: pointer;\n",
              "      display: none;\n",
              "      fill: #1967D2;\n",
              "      height: 32px;\n",
              "      padding: 0 0 0 0;\n",
              "      width: 32px;\n",
              "    }\n",
              "\n",
              "    .colab-df-convert:hover {\n",
              "      background-color: #E2EBFA;\n",
              "      box-shadow: 0px 1px 2px rgba(60, 64, 67, 0.3), 0px 1px 3px 1px rgba(60, 64, 67, 0.15);\n",
              "      fill: #174EA6;\n",
              "    }\n",
              "\n",
              "    [theme=dark] .colab-df-convert {\n",
              "      background-color: #3B4455;\n",
              "      fill: #D2E3FC;\n",
              "    }\n",
              "\n",
              "    [theme=dark] .colab-df-convert:hover {\n",
              "      background-color: #434B5C;\n",
              "      box-shadow: 0px 1px 3px 1px rgba(0, 0, 0, 0.15);\n",
              "      filter: drop-shadow(0px 1px 2px rgba(0, 0, 0, 0.3));\n",
              "      fill: #FFFFFF;\n",
              "    }\n",
              "  </style>\n",
              "\n",
              "      <script>\n",
              "        const buttonEl =\n",
              "          document.querySelector('#df-76573b8f-abe3-4ed2-a769-3596e37af5c7 button.colab-df-convert');\n",
              "        buttonEl.style.display =\n",
              "          google.colab.kernel.accessAllowed ? 'block' : 'none';\n",
              "\n",
              "        async function convertToInteractive(key) {\n",
              "          const element = document.querySelector('#df-76573b8f-abe3-4ed2-a769-3596e37af5c7');\n",
              "          const dataTable =\n",
              "            await google.colab.kernel.invokeFunction('convertToInteractive',\n",
              "                                                     [key], {});\n",
              "          if (!dataTable) return;\n",
              "\n",
              "          const docLinkHtml = 'Like what you see? Visit the ' +\n",
              "            '<a target=\"_blank\" href=https://colab.research.google.com/notebooks/data_table.ipynb>data table notebook</a>'\n",
              "            + ' to learn more about interactive tables.';\n",
              "          element.innerHTML = '';\n",
              "          dataTable['output_type'] = 'display_data';\n",
              "          await google.colab.output.renderOutput(dataTable, element);\n",
              "          const docLink = document.createElement('div');\n",
              "          docLink.innerHTML = docLinkHtml;\n",
              "          element.appendChild(docLink);\n",
              "        }\n",
              "      </script>\n",
              "    </div>\n",
              "  </div>\n",
              "  "
            ]
          },
          "metadata": {},
          "execution_count": 63
        }
      ]
    },
    {
      "cell_type": "markdown",
      "source": [
        "# <font color='red'>Reorganize a coluna Lucro antes de Avaliação?</font>\n"
      ],
      "metadata": {
        "id": "DX7nn4V19Qwl"
      }
    },
    {
      "cell_type": "markdown",
      "source": [
        "novo_df = df[['Filial',\t'Tipo de Cliente',\t'Gênero',\t'Linha de produto',\t'Preço unitário',\t'Quantidade',\t'Total',\t'Data"
      ],
      "metadata": {
        "id": "Uwbz1DP5YyEw"
      }
    },
    {
      "cell_type": "markdown",
      "source": [
        "# <font color='red'>Qual linha de produto da mais lucro?</font>\n"
      ],
      "metadata": {
        "id": "P02VQKXj9cjb"
      }
    },
    {
      "cell_type": "markdown",
      "source": [
        "Como podemos ver no gráfico abaixo a linha de produto que apresenta um maior lucro é a de saúde e beleza."
      ],
      "metadata": {
        "id": "z-BEhjY0Y3fa"
      }
    },
    {
      "cell_type": "code",
      "source": [],
      "metadata": {
        "id": "jDI4e33vrws_"
      },
      "execution_count": 63,
      "outputs": []
    }
  ]
}